{
  "cells": [
    {
      "cell_type": "markdown",
      "metadata": {
        "id": "15Cr6WlF8NeV"
      },
      "source": [
        "## Imports"
      ]
    },
    {
      "cell_type": "code",
      "execution_count": null,
      "metadata": {
        "id": "5bhsJBYd4sMO",
        "colab": {
          "base_uri": "https://localhost:8080/"
        },
        "outputId": "03257cae-f7fe-4b4d-f3af-e17a257b0135"
      },
      "outputs": [
        {
          "output_type": "stream",
          "name": "stdout",
          "text": [
            "Mounted at /content/drive\n"
          ]
        }
      ],
      "source": [
        "from sklearn.model_selection import train_test_split\n",
        "import pandas as pd\n",
        "import numpy as np\n",
        "import math\n",
        "from math import sqrt\n",
        "import glob\n",
        "import cv2 as cv\n",
        "import copy\n",
        "import matplotlib.pyplot as plt\n",
        "import os\n",
        "import time\n",
        "from google.colab.patches import cv2_imshow\n",
        "from google.colab import drive\n",
        "drive.mount('/content/drive')\n",
        "import warnings\n",
        "warnings.filterwarnings('always')"
      ]
    },
    {
      "cell_type": "code",
      "execution_count": null,
      "metadata": {
        "id": "unZQhhrc5YbD",
        "colab": {
          "base_uri": "https://localhost:8080/"
        },
        "outputId": "49dc5575-749d-4049-f0f6-aaa6c5800dc3"
      },
      "outputs": [
        {
          "output_type": "stream",
          "name": "stderr",
          "text": [
            "/usr/lib/python3.7/importlib/_bootstrap.py:219: RuntimeWarning: numpy.ufunc size changed, may indicate binary incompatibility. Expected 192 from C header, got 216 from PyObject\n",
            "  return f(*args, **kwds)\n",
            "/usr/lib/python3.7/importlib/_bootstrap.py:219: RuntimeWarning: numpy.ufunc size changed, may indicate binary incompatibility. Expected 192 from C header, got 216 from PyObject\n",
            "  return f(*args, **kwds)\n",
            "/usr/lib/python3.7/importlib/_bootstrap.py:219: RuntimeWarning: numpy.ufunc size changed, may indicate binary incompatibility. Expected 192 from C header, got 216 from PyObject\n",
            "  return f(*args, **kwds)\n",
            "/usr/lib/python3.7/importlib/_bootstrap.py:219: RuntimeWarning: numpy.ufunc size changed, may indicate binary incompatibility. Expected 192 from C header, got 216 from PyObject\n",
            "  return f(*args, **kwds)\n",
            "/usr/lib/python3.7/importlib/_bootstrap.py:219: RuntimeWarning: numpy.ufunc size changed, may indicate binary incompatibility. Expected 192 from C header, got 216 from PyObject\n",
            "  return f(*args, **kwds)\n",
            "/usr/lib/python3.7/importlib/_bootstrap.py:219: RuntimeWarning: numpy.ufunc size changed, may indicate binary incompatibility. Expected 192 from C header, got 216 from PyObject\n",
            "  return f(*args, **kwds)\n",
            "/usr/lib/python3.7/importlib/_bootstrap.py:219: RuntimeWarning: numpy.ufunc size changed, may indicate binary incompatibility. Expected 192 from C header, got 216 from PyObject\n",
            "  return f(*args, **kwds)\n",
            "/usr/lib/python3.7/importlib/_bootstrap.py:219: RuntimeWarning: numpy.ufunc size changed, may indicate binary incompatibility. Expected 192 from C header, got 216 from PyObject\n",
            "  return f(*args, **kwds)\n",
            "/usr/lib/python3.7/importlib/_bootstrap.py:219: RuntimeWarning: numpy.ufunc size changed, may indicate binary incompatibility. Expected 192 from C header, got 216 from PyObject\n",
            "  return f(*args, **kwds)\n",
            "/usr/lib/python3.7/importlib/_bootstrap.py:219: RuntimeWarning: numpy.ufunc size changed, may indicate binary incompatibility. Expected 192 from C header, got 216 from PyObject\n",
            "  return f(*args, **kwds)\n",
            "/usr/lib/python3.7/importlib/_bootstrap.py:219: RuntimeWarning: numpy.ufunc size changed, may indicate binary incompatibility. Expected 192 from C header, got 216 from PyObject\n",
            "  return f(*args, **kwds)\n",
            "/usr/lib/python3.7/importlib/_bootstrap.py:219: RuntimeWarning: numpy.ufunc size changed, may indicate binary incompatibility. Expected 192 from C header, got 216 from PyObject\n",
            "  return f(*args, **kwds)\n",
            "/usr/lib/python3.7/importlib/_bootstrap.py:219: RuntimeWarning: numpy.ufunc size changed, may indicate binary incompatibility. Expected 192 from C header, got 216 from PyObject\n",
            "  return f(*args, **kwds)\n",
            "/usr/lib/python3.7/importlib/_bootstrap.py:219: RuntimeWarning: numpy.ufunc size changed, may indicate binary incompatibility. Expected 192 from C header, got 216 from PyObject\n",
            "  return f(*args, **kwds)\n",
            "/usr/lib/python3.7/importlib/_bootstrap.py:219: RuntimeWarning: numpy.ufunc size changed, may indicate binary incompatibility. Expected 192 from C header, got 216 from PyObject\n",
            "  return f(*args, **kwds)\n",
            "/usr/lib/python3.7/importlib/_bootstrap.py:219: RuntimeWarning: numpy.ufunc size changed, may indicate binary incompatibility. Expected 192 from C header, got 216 from PyObject\n",
            "  return f(*args, **kwds)\n",
            "/usr/lib/python3.7/importlib/_bootstrap.py:219: RuntimeWarning: numpy.ufunc size changed, may indicate binary incompatibility. Expected 192 from C header, got 216 from PyObject\n",
            "  return f(*args, **kwds)\n",
            "/usr/lib/python3.7/importlib/_bootstrap.py:219: RuntimeWarning: numpy.ufunc size changed, may indicate binary incompatibility. Expected 192 from C header, got 216 from PyObject\n",
            "  return f(*args, **kwds)\n",
            "/usr/lib/python3.7/importlib/_bootstrap.py:219: RuntimeWarning: numpy.ufunc size changed, may indicate binary incompatibility. Expected 192 from C header, got 216 from PyObject\n",
            "  return f(*args, **kwds)\n",
            "/usr/lib/python3.7/importlib/_bootstrap.py:219: RuntimeWarning: numpy.ufunc size changed, may indicate binary incompatibility. Expected 192 from C header, got 216 from PyObject\n",
            "  return f(*args, **kwds)\n",
            "/usr/lib/python3.7/importlib/_bootstrap.py:219: RuntimeWarning: numpy.ufunc size changed, may indicate binary incompatibility. Expected 192 from C header, got 216 from PyObject\n",
            "  return f(*args, **kwds)\n",
            "/usr/lib/python3.7/importlib/_bootstrap.py:219: RuntimeWarning: numpy.ufunc size changed, may indicate binary incompatibility. Expected 192 from C header, got 216 from PyObject\n",
            "  return f(*args, **kwds)\n",
            "/usr/lib/python3.7/importlib/_bootstrap.py:219: RuntimeWarning: numpy.ufunc size changed, may indicate binary incompatibility. Expected 192 from C header, got 216 from PyObject\n",
            "  return f(*args, **kwds)\n",
            "/usr/lib/python3.7/importlib/_bootstrap.py:219: RuntimeWarning: numpy.ufunc size changed, may indicate binary incompatibility. Expected 192 from C header, got 216 from PyObject\n",
            "  return f(*args, **kwds)\n"
          ]
        }
      ],
      "source": [
        "from keras.applications.resnet import ResNet50\n",
        "from keras.models import load_model\n",
        "\n",
        "import tensorflow as tf\n",
        "from tensorflow.keras.preprocessing.image import ImageDataGenerator\n",
        "from tensorflow.keras import layers\n",
        "from tensorflow.python.keras import backend as K\n",
        "from tensorflow.python.keras.metrics import Metric\n",
        "from tensorflow.python.keras.utils import metrics_utils\n",
        "from tensorflow.python.ops import init_ops\n",
        "from tensorflow.python.ops import math_ops\n",
        "from tensorflow.python.keras.utils.generic_utils import to_list"
      ]
    },
    {
      "cell_type": "code",
      "execution_count": null,
      "metadata": {
        "id": "i_DvUINh8JB6"
      },
      "outputs": [],
      "source": [
        "# importing image data\n",
        "path = \"/content/*.*\"\n",
        "\n",
        "X, y = [], []\n",
        "\n",
        "for img in glob.glob(path):\n",
        "  X.append(cv.imread(img))\n",
        "  y.append(str(img[9]))\n",
        "\n",
        "y = pd.get_dummies(pd.Series(list(y)))\n",
        "\n",
        "# train-test-split (60-40)\n",
        "X_train, X_test, y_train, y_test = train_test_split(X, y, test_size=0.4, random_state=42)"
      ]
    },
    {
      "cell_type": "markdown",
      "metadata": {
        "id": "xBIJT6o28P5I"
      },
      "source": [
        "## Pre-processing"
      ]
    },
    {
      "cell_type": "code",
      "execution_count": null,
      "metadata": {
        "id": "9gHkx3t43-n_"
      },
      "outputs": [],
      "source": [
        "def normalize_pixel(x, v0, v, m, m0):\n",
        "    \"\"\"\n",
        "    From Handbook of Fingerprint Recognition pg 133\n",
        "    Normalize job used by Hong, Wan and Jain(1998)\n",
        "    similar to https://pdfs.semanticscholar.org/6e86/1d0b58bdf7e2e2bb0ecbf274cee6974fe13f.pdf equation 21\n",
        "    :param x: pixel value\n",
        "    :param v0: desired variance\n",
        "    :param v: global image variance\n",
        "    :param m: global image mean\n",
        "    :param m0: desired mean\n",
        "    :return: normilized pixel\n",
        "    \"\"\"\n",
        "    dev_coeff = sqrt((v0 * ((x - m)**2)) / v)\n",
        "    return m0 + dev_coeff if x > m else m0 - dev_coeff\n",
        "\n",
        "def normalize(im, m0, v0):\n",
        "    m = np.mean(im)\n",
        "    v = np.std(im) ** 2\n",
        "    (y, x) = im.shape\n",
        "    normilize_image = im.copy()\n",
        "    for i in range(x):\n",
        "        for j in range(y):\n",
        "            normilize_image[j, i] = normalize_pixel(im[j, i], v0, v, m, m0)\n",
        "\n",
        "    return normilize_image"
      ]
    },
    {
      "cell_type": "code",
      "execution_count": null,
      "metadata": {
        "id": "zXhuqBHRkv_2"
      },
      "outputs": [],
      "source": [
        "def normalise(img):\n",
        "    return (img - np.mean(img))/(np.std(img))\n",
        "\n",
        "def create_segmented_and_variance_images(im, w, threshold=.2):\n",
        "    \"\"\"\n",
        "    Returns mask identifying the ROI. Calculates the standard deviation in each image block and threshold the ROI\n",
        "    It also normalises the intesity values of\n",
        "    the image so that the ridge regions have zero mean, unit standard\n",
        "    deviation.\n",
        "    :param im: Image\n",
        "    :param w: size of the block\n",
        "    :param threshold: std threshold\n",
        "    :return: segmented_image\n",
        "    \"\"\"\n",
        "    (y, x) = im.shape\n",
        "    threshold = np.std(im)*threshold\n",
        "\n",
        "    image_variance = np.zeros(im.shape)\n",
        "    segmented_image = im.copy()\n",
        "    mask = np.ones_like(im)\n",
        "\n",
        "    for i in range(0, x, w):\n",
        "        for j in range(0, y, w):\n",
        "            box = [i, j, min(i + w, x), min(j + w, y)]\n",
        "            block_stddev = np.std(im[box[1]:box[3], box[0]:box[2]])\n",
        "            image_variance[box[1]:box[3], box[0]:box[2]] = block_stddev\n",
        "\n",
        "    # apply threshold\n",
        "    mask[image_variance < threshold] = 0\n",
        "\n",
        "    # smooth mask with a open/close morphological filter\n",
        "    kernel = cv.getStructuringElement(cv.MORPH_ELLIPSE,(w*2, w*2))\n",
        "    mask = cv.morphologyEx(mask, cv.MORPH_OPEN, kernel)\n",
        "    mask = cv.morphologyEx(mask, cv.MORPH_CLOSE, kernel)\n",
        "\n",
        "    # normalize segmented image\n",
        "    segmented_image *= mask\n",
        "    im = normalise(im)\n",
        "    mean_val = np.mean(im[mask==0])\n",
        "    std_val = np.std(im[mask==0])\n",
        "    norm_img = (im - mean_val)/(std_val)\n",
        "\n",
        "    return segmented_image, norm_img, mask"
      ]
    },
    {
      "cell_type": "code",
      "execution_count": null,
      "metadata": {
        "id": "6p3qJVjzk3NL"
      },
      "outputs": [],
      "source": [
        "def calculate_angles(im, W, smoth=False):\n",
        "    \"\"\"\n",
        "    anisotropy orientation estimate, based on equations 5 from:\n",
        "    https://pdfs.semanticscholar.org/6e86/1d0b58bdf7e2e2bb0ecbf274cee6974fe13f.pdf\n",
        "    :param im:\n",
        "    :param W: int width of the ridge\n",
        "    :return: array\n",
        "    \"\"\"\n",
        "    j1 = lambda x, y: 2 * x * y\n",
        "    j2 = lambda x, y: x ** 2 - y ** 2\n",
        "    j3 = lambda x, y: x ** 2 + y ** 2\n",
        "\n",
        "    (y, x) = im.shape\n",
        "\n",
        "    sobelOperator = [[-1, 0, 1], [-2, 0, 2], [-1, 0, 1]]\n",
        "    ySobel = np.array(sobelOperator).astype(int)\n",
        "    xSobel = np.transpose(ySobel).astype(int)\n",
        "\n",
        "    result = [[] for i in range(1, y, W)]\n",
        "\n",
        "    Gx_ = cv.filter2D(im/125,-1, ySobel)*125\n",
        "    Gy_ = cv.filter2D(im/125,-1, xSobel)*125\n",
        "\n",
        "    for j in range(1, y, W):\n",
        "        for i in range(1, x, W):\n",
        "            nominator = 0\n",
        "            denominator = 0\n",
        "            for l in range(j, min(j + W, y - 1)):\n",
        "                for k in range(i, min(i + W , x - 1)):\n",
        "                    Gx = round(Gx_[l, k])  # horizontal gradients at l, k\n",
        "                    Gy = round(Gy_[l, k])  # vertial gradients at l, k\n",
        "                    nominator += j1(Gx, Gy)\n",
        "                    denominator += j2(Gx, Gy)\n",
        "\n",
        "            # nominator = round(np.sum(Gy_[j:min(j + W, y - 1), i:min(i + W , x - 1)]))\n",
        "            # denominator = round(np.sum(Gx_[j:min(j + W, y - 1), i:min(i + W , x - 1)]))\n",
        "            if nominator or denominator:\n",
        "                angle = (math.pi + math.atan2(nominator, denominator)) / 2\n",
        "                orientation = np.pi/2 + math.atan2(nominator,denominator)/2\n",
        "                result[int((j-1) // W)].append(angle)\n",
        "            else:\n",
        "                result[int((j-1) // W)].append(0)\n",
        "\n",
        "            # segment image\n",
        "            # focus_img = im[j:min(j + W, y - 1), i:min(i + W , x - 1)]\n",
        "            # segmentator = -1 if segmentator/W*W < np.max(focus_img)*\n",
        "\n",
        "    result = np.array(result)\n",
        "\n",
        "    if smoth:\n",
        "        result = smooth_angles(result)\n",
        "\n",
        "    return result\n",
        "\n",
        "\n",
        "def gauss(x, y):\n",
        "    ssigma = 1.0\n",
        "    return (1 / (2 * math.pi * ssigma)) * math.exp(-(x * x + y * y) / (2 * ssigma))\n",
        "\n",
        "\n",
        "def kernel_from_function(size, f):\n",
        "    kernel = [[] for i in range(0, size)]\n",
        "    for i in range(0, size):\n",
        "        for j in range(0, size):\n",
        "            kernel[i].append(f(i - size / 2, j - size / 2))\n",
        "    return kernel\n",
        "\n",
        "\n",
        "def smooth_angles(angles):\n",
        "    \"\"\"\n",
        "    reference: https://airccj.org/CSCP/vol7/csit76809.pdf pg91\n",
        "    Practically, it is possible to have a block so noisy that the directional estimate is completely false.\n",
        "    This then causes a very large angular variation between two adjacent blocks. However, a\n",
        "    fingerprint has some directional continuity, such a variation between two adjacent blocks is then\n",
        "    representative of a bad estimate. To eliminate such discontinuities, a low-pass filter is applied to\n",
        "    the directional board.\n",
        "    :param angles:\n",
        "    :return:\n",
        "    \"\"\"\n",
        "    angles = np.array(angles)\n",
        "    cos_angles = np.cos(angles.copy()*2)\n",
        "    sin_angles = np.sin(angles.copy()*2)\n",
        "\n",
        "    kernel = np.array(kernel_from_function(5, gauss))\n",
        "\n",
        "    cos_angles = cv.filter2D(cos_angles/125,-1, kernel)*125\n",
        "    sin_angles = cv.filter2D(sin_angles/125,-1, kernel)*125\n",
        "    smooth_angles = np.arctan2(sin_angles, cos_angles)/2\n",
        "\n",
        "    return smooth_angles\n",
        "\n",
        "\n",
        "def get_line_ends(i, j, W, tang):\n",
        "    if -1 <= tang and tang <= 1:\n",
        "        begin = (i, int((-W/2) * tang + j + W/2))\n",
        "        end = (i + W, int((W/2) * tang + j + W/2))\n",
        "    else:\n",
        "        begin = (int(i + W/2 + W/(2 * tang)), j + W//2)\n",
        "        end = (int(i + W/2 - W/(2 * tang)), j - W//2)\n",
        "    return (begin, end)\n",
        "\n",
        "\n",
        "def visualize_angles(im, mask, angles, W):\n",
        "    (y, x) = im.shape\n",
        "    result = cv.cvtColor(np.zeros(im.shape, np.uint8), cv.COLOR_GRAY2RGB)\n",
        "    mask_threshold = (W-1)**2\n",
        "    for i in range(1, x, W):\n",
        "        for j in range(1, y, W):\n",
        "            radian = np.sum(mask[j - 1:j + W, i-1:i+W])\n",
        "            if radian > mask_threshold:\n",
        "                tang = math.tan(angles[(j - 1) // W][(i - 1) // W])\n",
        "                (begin, end) = get_line_ends(i, j, W, tang)\n",
        "                cv.line(result, begin, end, color=(255, 255, 255))\n",
        "\n",
        "    cv.resize(result, im.shape, result)\n",
        "    return result"
      ]
    },
    {
      "cell_type": "markdown",
      "metadata": {
        "id": "AI64gA_RDV13"
      },
      "source": [
        "## Pre-processing the data"
      ]
    },
    {
      "cell_type": "code",
      "execution_count": null,
      "metadata": {
        "id": "z4Rq_HvlDHaZ"
      },
      "outputs": [],
      "source": [
        "X_train_orient = []\n",
        "for input_img in np.array(X_train)[:,:,:,0]:\n",
        "  normalized_img = normalize(input_img.copy(), float(100), float(100))\n",
        "\n",
        "  # ROI and normalisation\n",
        "  (segmented_img, normim, mask) = create_segmented_and_variance_images(normalized_img, 16, 0.2)\n",
        "\n",
        "  # orientations\n",
        "  angles = calculate_angles(normalized_img, W=16, smoth=False)\n",
        "  orientation_img = visualize_angles(segmented_img, mask, angles, W=16)\n",
        "\n",
        "  X_train_orient.append(orientation_img)"
      ]
    },
    {
      "cell_type": "code",
      "execution_count": null,
      "metadata": {
        "id": "P6S5HFb1DVBs"
      },
      "outputs": [],
      "source": [
        "X_test_orient = []\n",
        "for input_img in np.array(X_test)[:,:,:,0]:\n",
        "  normalized_img = normalize(input_img.copy(), float(100), float(100))\n",
        "\n",
        "  # ROI and normalisation\n",
        "  (segmented_img, normim, mask) = create_segmented_and_variance_images(normalized_img, 16, 0.2)\n",
        "\n",
        "  # orientations\n",
        "  angles = calculate_angles(normalized_img, W=16, smoth=False)\n",
        "  orientation_img = visualize_angles(segmented_img, mask, angles, W=16)\n",
        "\n",
        "  X_test_orient.append(orientation_img)"
      ]
    },
    {
      "cell_type": "code",
      "execution_count": null,
      "metadata": {
        "id": "r6Pa8SOYG_Sw"
      },
      "outputs": [],
      "source": [
        "# converting to float32 numpy arrays\n",
        "X_train_orient = np.array(X_train_orient).astype('float32')\n",
        "X_test_orient = np.array(X_test_orient).astype('float32')"
      ]
    },
    {
      "cell_type": "code",
      "execution_count": null,
      "metadata": {
        "id": "U7WI1cqKIW7I"
      },
      "outputs": [],
      "source": [
        "# defining the transformations\n",
        "datagen = ImageDataGenerator(\n",
        "    width_shift_range= 2.0,\n",
        "    height_shift_range= 2.0,\n",
        "    rotation_range = 20,\n",
        "    fill_mode = 'constant',\n",
        ")\n",
        "\n",
        "# creating an iterator for augmented training images\n",
        "datagen.fit(np.array(X_train_orient))\n",
        "data_generator = datagen.flow(np.array(X_train_orient), y_train, shuffle=False, batch_size=1)"
      ]
    },
    {
      "cell_type": "code",
      "execution_count": null,
      "metadata": {
        "id": "MN5y9aGdIaER"
      },
      "outputs": [],
      "source": [
        "# creating an iterator for test data\n",
        "datagen.fit(np.array(X_test_orient))\n",
        "test_generator = datagen.flow(np.array(X_test_orient), y_test, shuffle=False, batch_size=1)"
      ]
    },
    {
      "cell_type": "markdown",
      "metadata": {
        "id": "lb9tznDqAFqu"
      },
      "source": [
        "## Custom Metrics"
      ]
    },
    {
      "cell_type": "code",
      "execution_count": null,
      "metadata": {
        "id": "8mnUgYWG9l3x"
      },
      "outputs": [],
      "source": [
        "class balanced_acc(Metric):\n",
        "\n",
        "    def __init__(self, thresholds=None, top_k=None, class_id=None, name=None, dtype=None):\n",
        "        super(balanced_acc, self).__init__(name=name, dtype=dtype)\n",
        "        self.init_thresholds = thresholds\n",
        "        self.top_k = top_k\n",
        "        self.class_id = class_id\n",
        "\n",
        "        default_threshold = 0.5 if top_k is None else metrics_utils.NEG_INF\n",
        "        self.thresholds = metrics_utils.parse_init_thresholds(\n",
        "            thresholds, default_threshold=default_threshold)\n",
        "        self.true_positives = self.add_weight(\n",
        "            'true_positives',\n",
        "            shape=(len(self.thresholds),),\n",
        "            initializer=init_ops.zeros_initializer)\n",
        "        self.true_negatives = self.add_weight(\n",
        "            'true_negatives',\n",
        "            shape=(len(self.thresholds),),\n",
        "            initializer=init_ops.zeros_initializer)\n",
        "        self.false_positives = self.add_weight(\n",
        "            'false_positives',\n",
        "            shape=(len(self.thresholds),),\n",
        "            initializer=init_ops.zeros_initializer)\n",
        "        self.false_negatives = self.add_weight(\n",
        "            'false_negatives',\n",
        "            shape=(len(self.thresholds),),\n",
        "            initializer=init_ops.zeros_initializer)\n",
        "\n",
        "    def update_state(self, y_true, y_pred, sample_weight=None):\n",
        "\n",
        "        return metrics_utils.update_confusion_matrix_variables(\n",
        "            {\n",
        "                metrics_utils.ConfusionMatrix.TRUE_POSITIVES: self.true_positives,\n",
        "                metrics_utils.ConfusionMatrix.TRUE_NEGATIVES: self.true_negatives,\n",
        "                metrics_utils.ConfusionMatrix.FALSE_POSITIVES: self.false_positives,\n",
        "                metrics_utils.ConfusionMatrix.FALSE_NEGATIVES: self.false_negatives,\n",
        "            },\n",
        "            y_true,\n",
        "            y_pred,\n",
        "            thresholds=self.thresholds,\n",
        "            top_k=self.top_k,\n",
        "            class_id=self.class_id,\n",
        "            sample_weight=sample_weight)\n",
        "\n",
        "    def result(self):\n",
        "        \"\"\"\n",
        "        Returns the Balanced Accuracy (average between recall and specificity)\n",
        "        \"\"\"\n",
        "        result = (math_ops.div_no_nan(self.true_positives, self.true_positives + self.false_negatives) +\n",
        "                  math_ops.div_no_nan(self.true_negatives, self.true_negatives + self.false_positives)) / 2\n",
        "        \n",
        "        return result\n",
        "\n",
        "    def reset_states(self):\n",
        "        num_thresholds = len(to_list(self.thresholds))\n",
        "        K.batch_set_value(\n",
        "            [(v, np.zeros((num_thresholds,))) for v in (self.true_positives,self.true_negatives, self.false_negatives, self.false_positives)])\n",
        "\n",
        "    def get_config(self):\n",
        "        config = {\n",
        "            'thresholds': self.init_thresholds,\n",
        "            'top_k': self.top_k,\n",
        "            'class_id': self.class_id\n",
        "        }\n",
        "        base_config = super(balanced_acc, self).get_config()\n",
        "        return dict(list(base_config.items()) + list(config.items()))"
      ]
    },
    {
      "cell_type": "code",
      "execution_count": null,
      "metadata": {
        "id": "McJXBIcCIo0c"
      },
      "outputs": [],
      "source": [
        "def weighted_categorical_crossentropy(weights):\n",
        "    \"\"\"\n",
        "    A weighted version of keras.objectives.categorical_crossentropy\n",
        "    \n",
        "    \n",
        "    Variables:\n",
        "        weights: numpy array of shape (C,) where C is the number of classes\n",
        "    \n",
        "    Usage:\n",
        "        weights = np.array([0.5,2,10]) # Class one at 0.5, class 2 twice the normal weights, class 3 10x.\n",
        "        loss = weighted_categorical_crossentropy(weights)\n",
        "        model.compile(loss=loss,optimizer='adam')\n",
        "    \"\"\"\n",
        "    \n",
        "    weights = K.variable(weights)\n",
        "        \n",
        "    def loss(y_true, y_pred):\n",
        "        # scale predictions so that the class probas of each sample sum to 1\n",
        "        y_pred /= K.sum(y_pred, axis=-1, keepdims=True)\n",
        "        # clip to prevent NaN's and Inf's\n",
        "        y_pred = K.clip(y_pred, K.epsilon(), 1 - K.epsilon())\n",
        "        # calc\n",
        "        loss = tf.cast(y_true, dtype=tf.float32) * K.log(y_pred) * weights\n",
        "        loss = -K.sum(loss, -1)\n",
        "        return loss\n",
        "    \n",
        "    return loss"
      ]
    },
    {
      "cell_type": "code",
      "execution_count": null,
      "metadata": {
        "id": "GkG19tbUIs9l"
      },
      "outputs": [],
      "source": [
        "# defining loss weights\n",
        "weighted_loss = weighted_categorical_crossentropy(np.array([0.14, 0.04, 0.11, 0.2, 0.25]))"
      ]
    },
    {
      "cell_type": "markdown",
      "metadata": {
        "id": "UuG3DzcrALun"
      },
      "source": [
        "## FCTP Model"
      ]
    },
    {
      "cell_type": "code",
      "execution_count": null,
      "metadata": {
        "colab": {
          "base_uri": "https://localhost:8080/"
        },
        "id": "yZR7ba8uIxLc",
        "outputId": "27171e09-9e0c-42ee-b09e-034572015fb3"
      },
      "outputs": [
        {
          "name": "stdout",
          "output_type": "stream",
          "text": [
            "Model: \"sequential_1\"\n",
            "_________________________________________________________________\n",
            " Layer (type)                Output Shape              Param #   \n",
            "=================================================================\n",
            " conv2d_4 (Conv2D)           (None, 118, 158, 96)      34944     \n",
            "                                                                 \n",
            " max_pooling2d_4 (MaxPooling  (None, 58, 78, 96)       0         \n",
            " 2D)                                                             \n",
            "                                                                 \n",
            " lambda_4 (Lambda)           (None, 58, 78, 96)        0         \n",
            "                                                                 \n",
            " conv2d_5 (Conv2D)           (None, 54, 74, 256)       614656    \n",
            "                                                                 \n",
            " max_pooling2d_5 (MaxPooling  (None, 26, 36, 256)      0         \n",
            " 2D)                                                             \n",
            "                                                                 \n",
            " lambda_5 (Lambda)           (None, 26, 36, 256)       0         \n",
            "                                                                 \n",
            " conv2d_6 (Conv2D)           (None, 24, 34, 384)       885120    \n",
            "                                                                 \n",
            " max_pooling2d_6 (MaxPooling  (None, 11, 16, 384)      0         \n",
            " 2D)                                                             \n",
            "                                                                 \n",
            " lambda_6 (Lambda)           (None, 11, 16, 384)       0         \n",
            "                                                                 \n",
            " conv2d_7 (Conv2D)           (None, 10, 15, 384)       590208    \n",
            "                                                                 \n",
            " max_pooling2d_7 (MaxPooling  (None, 5, 7, 384)        0         \n",
            " 2D)                                                             \n",
            "                                                                 \n",
            " lambda_7 (Lambda)           (None, 5, 7, 384)         0         \n",
            "                                                                 \n",
            " flatten_1 (Flatten)         (None, 13440)             0         \n",
            "                                                                 \n",
            " dense_3 (Dense)             (None, 4096)              55054336  \n",
            "                                                                 \n",
            " dropout_2 (Dropout)         (None, 4096)              0         \n",
            "                                                                 \n",
            " dense_4 (Dense)             (None, 4096)              16781312  \n",
            "                                                                 \n",
            " dropout_3 (Dropout)         (None, 4096)              0         \n",
            "                                                                 \n",
            " dense_5 (Dense)             (None, 5)                 20485     \n",
            "                                                                 \n",
            "=================================================================\n",
            "Total params: 73,981,061\n",
            "Trainable params: 73,981,061\n",
            "Non-trainable params: 0\n",
            "_________________________________________________________________\n"
          ]
        }
      ],
      "source": [
        "model_fctp = tf.keras.Sequential()\n",
        "\n",
        "model_fctp.add(layers.Conv2D(filters=96, kernel_size=(11,11), strides=(4,4), activation='relu', input_shape=(480, 640, 3)))\n",
        "model_fctp.add(layers.MaxPooling2D(pool_size=(3,3), strides=(2,2)))\n",
        "model_fctp.add(layers.Lambda(tf.nn.local_response_normalization))\n",
        "\n",
        "model_fctp.add(layers.Conv2D(filters=256, kernel_size=(5,5), activation='relu'))\n",
        "model_fctp.add(layers.MaxPooling2D(pool_size=(3,3), strides=(2,2)))\n",
        "model_fctp.add(layers.Lambda(tf.nn.local_response_normalization))\n",
        "\n",
        "model_fctp.add(layers.Conv2D(filters=384, kernel_size=(3,3), activation='relu'))\n",
        "model_fctp.add(layers.MaxPooling2D(pool_size=(3,3), strides=(2,2)))\n",
        "model_fctp.add(layers.Lambda(tf.nn.local_response_normalization))\n",
        "\n",
        "model_fctp.add(layers.Conv2D(filters=384, kernel_size=(2,2), activation='relu'))\n",
        "model_fctp.add(layers.MaxPooling2D(pool_size=(2,2)))\n",
        "model_fctp.add(layers.Lambda(tf.nn.local_response_normalization))\n",
        "\n",
        "model_fctp.add(layers.Flatten())\n",
        "\n",
        "model_fctp.add(layers.Dense(units=4096, activation='relu'))\n",
        "model_fctp.add(layers.Dropout(0.2))\n",
        "model_fctp.add(layers.Dense(units=4096, activation='relu'))\n",
        "model_fctp.add(layers.Dropout(0.2))\n",
        "model_fctp.add(layers.Dense(units=5, activation='softmax'))\n",
        "\n",
        "model_fctp.summary()"
      ]
    },
    {
      "cell_type": "code",
      "execution_count": null,
      "metadata": {
        "colab": {
          "base_uri": "https://localhost:8080/"
        },
        "id": "ofaMNg8VI_KM",
        "outputId": "ba5292bb-f55e-4582-bace-a78c026a90b7"
      },
      "outputs": [
        {
          "name": "stdout",
          "output_type": "stream",
          "text": [
            "Epoch 1/4\n",
            "20/20 [==============================] - 2s 74ms/step - loss: 1.4909 - balanced_acc_3: 0.6249\n",
            "Epoch 2/4\n",
            "20/20 [==============================] - 1s 72ms/step - loss: 1.0154 - balanced_acc_3: 0.6655\n",
            "Epoch 3/4\n",
            "20/20 [==============================] - 1s 71ms/step - loss: 1.4184 - balanced_acc_3: 0.6791\n",
            "Epoch 4/4\n",
            "20/20 [==============================] - 1s 73ms/step - loss: 1.1686 - balanced_acc_3: 0.6641\n"
          ]
        }
      ],
      "source": [
        "# training the fctp model\n",
        "model_fctp.compile(loss = weighted_loss, optimizer = 'adam', metrics = [balanced_acc()])\n",
        "history = model_fctp.fit(data_generator, steps_per_epoch=20, epochs=4, verbose=1)"
      ]
    },
    {
      "cell_type": "code",
      "execution_count": null,
      "metadata": {
        "colab": {
          "base_uri": "https://localhost:8080/"
        },
        "id": "We78yRWdMPtJ",
        "outputId": "717de047-d824-4069-adf0-f97944b58027"
      },
      "outputs": [
        {
          "name": "stdout",
          "output_type": "stream",
          "text": [
            "32/32 [==============================] - 2s 64ms/step - loss: 1.2492 - balanced_acc_3: 0.6700\n"
          ]
        },
        {
          "data": {
            "text/plain": [
              "[1.2491525411605835, 0.6700236797332764]"
            ]
          },
          "execution_count": 36,
          "metadata": {},
          "output_type": "execute_result"
        }
      ],
      "source": [
        "# testing the fctp model\n",
        "model_fctp.evaluate(test_generator)"
      ]
    },
    {
      "cell_type": "markdown",
      "source": [
        "## ResNet50 Model"
      ],
      "metadata": {
        "id": "IBo14aXBvesi"
      }
    },
    {
      "cell_type": "code",
      "source": [
        "# pre-trained ResNet50 architecture\n",
        "base_model = ResNet50(input_shape=(480,640,3), weights='imagenet', include_top=False)\n",
        "base_model.trainable = False # freeze the layers\n",
        "base_model.summary()"
      ],
      "metadata": {
        "colab": {
          "base_uri": "https://localhost:8080/"
        },
        "id": "ljcrtN2MvjTE",
        "outputId": "6bf491bb-e30d-44f4-ff72-3baca43401c3"
      },
      "execution_count": null,
      "outputs": [
        {
          "output_type": "stream",
          "name": "stdout",
          "text": [
            "Downloading data from https://storage.googleapis.com/tensorflow/keras-applications/resnet/resnet50_weights_tf_dim_ordering_tf_kernels_notop.h5\n",
            "94765736/94765736 [==============================] - 3s 0us/step\n",
            "Model: \"resnet50\"\n",
            "__________________________________________________________________________________________________\n",
            " Layer (type)                   Output Shape         Param #     Connected to                     \n",
            "==================================================================================================\n",
            " input_1 (InputLayer)           [(None, 480, 640, 3  0           []                               \n",
            "                                )]                                                                \n",
            "                                                                                                  \n",
            " conv1_pad (ZeroPadding2D)      (None, 486, 646, 3)  0           ['input_1[0][0]']                \n",
            "                                                                                                  \n",
            " conv1_conv (Conv2D)            (None, 240, 320, 64  9472        ['conv1_pad[0][0]']              \n",
            "                                )                                                                 \n",
            "                                                                                                  \n",
            " conv1_bn (BatchNormalization)  (None, 240, 320, 64  256         ['conv1_conv[0][0]']             \n",
            "                                )                                                                 \n",
            "                                                                                                  \n",
            " conv1_relu (Activation)        (None, 240, 320, 64  0           ['conv1_bn[0][0]']               \n",
            "                                )                                                                 \n",
            "                                                                                                  \n",
            " pool1_pad (ZeroPadding2D)      (None, 242, 322, 64  0           ['conv1_relu[0][0]']             \n",
            "                                )                                                                 \n",
            "                                                                                                  \n",
            " pool1_pool (MaxPooling2D)      (None, 120, 160, 64  0           ['pool1_pad[0][0]']              \n",
            "                                )                                                                 \n",
            "                                                                                                  \n",
            " conv2_block1_1_conv (Conv2D)   (None, 120, 160, 64  4160        ['pool1_pool[0][0]']             \n",
            "                                )                                                                 \n",
            "                                                                                                  \n",
            " conv2_block1_1_bn (BatchNormal  (None, 120, 160, 64  256        ['conv2_block1_1_conv[0][0]']    \n",
            " ization)                       )                                                                 \n",
            "                                                                                                  \n",
            " conv2_block1_1_relu (Activatio  (None, 120, 160, 64  0          ['conv2_block1_1_bn[0][0]']      \n",
            " n)                             )                                                                 \n",
            "                                                                                                  \n",
            " conv2_block1_2_conv (Conv2D)   (None, 120, 160, 64  36928       ['conv2_block1_1_relu[0][0]']    \n",
            "                                )                                                                 \n",
            "                                                                                                  \n",
            " conv2_block1_2_bn (BatchNormal  (None, 120, 160, 64  256        ['conv2_block1_2_conv[0][0]']    \n",
            " ization)                       )                                                                 \n",
            "                                                                                                  \n",
            " conv2_block1_2_relu (Activatio  (None, 120, 160, 64  0          ['conv2_block1_2_bn[0][0]']      \n",
            " n)                             )                                                                 \n",
            "                                                                                                  \n",
            " conv2_block1_0_conv (Conv2D)   (None, 120, 160, 25  16640       ['pool1_pool[0][0]']             \n",
            "                                6)                                                                \n",
            "                                                                                                  \n",
            " conv2_block1_3_conv (Conv2D)   (None, 120, 160, 25  16640       ['conv2_block1_2_relu[0][0]']    \n",
            "                                6)                                                                \n",
            "                                                                                                  \n",
            " conv2_block1_0_bn (BatchNormal  (None, 120, 160, 25  1024       ['conv2_block1_0_conv[0][0]']    \n",
            " ization)                       6)                                                                \n",
            "                                                                                                  \n",
            " conv2_block1_3_bn (BatchNormal  (None, 120, 160, 25  1024       ['conv2_block1_3_conv[0][0]']    \n",
            " ization)                       6)                                                                \n",
            "                                                                                                  \n",
            " conv2_block1_add (Add)         (None, 120, 160, 25  0           ['conv2_block1_0_bn[0][0]',      \n",
            "                                6)                                'conv2_block1_3_bn[0][0]']      \n",
            "                                                                                                  \n",
            " conv2_block1_out (Activation)  (None, 120, 160, 25  0           ['conv2_block1_add[0][0]']       \n",
            "                                6)                                                                \n",
            "                                                                                                  \n",
            " conv2_block2_1_conv (Conv2D)   (None, 120, 160, 64  16448       ['conv2_block1_out[0][0]']       \n",
            "                                )                                                                 \n",
            "                                                                                                  \n",
            " conv2_block2_1_bn (BatchNormal  (None, 120, 160, 64  256        ['conv2_block2_1_conv[0][0]']    \n",
            " ization)                       )                                                                 \n",
            "                                                                                                  \n",
            " conv2_block2_1_relu (Activatio  (None, 120, 160, 64  0          ['conv2_block2_1_bn[0][0]']      \n",
            " n)                             )                                                                 \n",
            "                                                                                                  \n",
            " conv2_block2_2_conv (Conv2D)   (None, 120, 160, 64  36928       ['conv2_block2_1_relu[0][0]']    \n",
            "                                )                                                                 \n",
            "                                                                                                  \n",
            " conv2_block2_2_bn (BatchNormal  (None, 120, 160, 64  256        ['conv2_block2_2_conv[0][0]']    \n",
            " ization)                       )                                                                 \n",
            "                                                                                                  \n",
            " conv2_block2_2_relu (Activatio  (None, 120, 160, 64  0          ['conv2_block2_2_bn[0][0]']      \n",
            " n)                             )                                                                 \n",
            "                                                                                                  \n",
            " conv2_block2_3_conv (Conv2D)   (None, 120, 160, 25  16640       ['conv2_block2_2_relu[0][0]']    \n",
            "                                6)                                                                \n",
            "                                                                                                  \n",
            " conv2_block2_3_bn (BatchNormal  (None, 120, 160, 25  1024       ['conv2_block2_3_conv[0][0]']    \n",
            " ization)                       6)                                                                \n",
            "                                                                                                  \n",
            " conv2_block2_add (Add)         (None, 120, 160, 25  0           ['conv2_block1_out[0][0]',       \n",
            "                                6)                                'conv2_block2_3_bn[0][0]']      \n",
            "                                                                                                  \n",
            " conv2_block2_out (Activation)  (None, 120, 160, 25  0           ['conv2_block2_add[0][0]']       \n",
            "                                6)                                                                \n",
            "                                                                                                  \n",
            " conv2_block3_1_conv (Conv2D)   (None, 120, 160, 64  16448       ['conv2_block2_out[0][0]']       \n",
            "                                )                                                                 \n",
            "                                                                                                  \n",
            " conv2_block3_1_bn (BatchNormal  (None, 120, 160, 64  256        ['conv2_block3_1_conv[0][0]']    \n",
            " ization)                       )                                                                 \n",
            "                                                                                                  \n",
            " conv2_block3_1_relu (Activatio  (None, 120, 160, 64  0          ['conv2_block3_1_bn[0][0]']      \n",
            " n)                             )                                                                 \n",
            "                                                                                                  \n",
            " conv2_block3_2_conv (Conv2D)   (None, 120, 160, 64  36928       ['conv2_block3_1_relu[0][0]']    \n",
            "                                )                                                                 \n",
            "                                                                                                  \n",
            " conv2_block3_2_bn (BatchNormal  (None, 120, 160, 64  256        ['conv2_block3_2_conv[0][0]']    \n",
            " ization)                       )                                                                 \n",
            "                                                                                                  \n",
            " conv2_block3_2_relu (Activatio  (None, 120, 160, 64  0          ['conv2_block3_2_bn[0][0]']      \n",
            " n)                             )                                                                 \n",
            "                                                                                                  \n",
            " conv2_block3_3_conv (Conv2D)   (None, 120, 160, 25  16640       ['conv2_block3_2_relu[0][0]']    \n",
            "                                6)                                                                \n",
            "                                                                                                  \n",
            " conv2_block3_3_bn (BatchNormal  (None, 120, 160, 25  1024       ['conv2_block3_3_conv[0][0]']    \n",
            " ization)                       6)                                                                \n",
            "                                                                                                  \n",
            " conv2_block3_add (Add)         (None, 120, 160, 25  0           ['conv2_block2_out[0][0]',       \n",
            "                                6)                                'conv2_block3_3_bn[0][0]']      \n",
            "                                                                                                  \n",
            " conv2_block3_out (Activation)  (None, 120, 160, 25  0           ['conv2_block3_add[0][0]']       \n",
            "                                6)                                                                \n",
            "                                                                                                  \n",
            " conv3_block1_1_conv (Conv2D)   (None, 60, 80, 128)  32896       ['conv2_block3_out[0][0]']       \n",
            "                                                                                                  \n",
            " conv3_block1_1_bn (BatchNormal  (None, 60, 80, 128)  512        ['conv3_block1_1_conv[0][0]']    \n",
            " ization)                                                                                         \n",
            "                                                                                                  \n",
            " conv3_block1_1_relu (Activatio  (None, 60, 80, 128)  0          ['conv3_block1_1_bn[0][0]']      \n",
            " n)                                                                                               \n",
            "                                                                                                  \n",
            " conv3_block1_2_conv (Conv2D)   (None, 60, 80, 128)  147584      ['conv3_block1_1_relu[0][0]']    \n",
            "                                                                                                  \n",
            " conv3_block1_2_bn (BatchNormal  (None, 60, 80, 128)  512        ['conv3_block1_2_conv[0][0]']    \n",
            " ization)                                                                                         \n",
            "                                                                                                  \n",
            " conv3_block1_2_relu (Activatio  (None, 60, 80, 128)  0          ['conv3_block1_2_bn[0][0]']      \n",
            " n)                                                                                               \n",
            "                                                                                                  \n",
            " conv3_block1_0_conv (Conv2D)   (None, 60, 80, 512)  131584      ['conv2_block3_out[0][0]']       \n",
            "                                                                                                  \n",
            " conv3_block1_3_conv (Conv2D)   (None, 60, 80, 512)  66048       ['conv3_block1_2_relu[0][0]']    \n",
            "                                                                                                  \n",
            " conv3_block1_0_bn (BatchNormal  (None, 60, 80, 512)  2048       ['conv3_block1_0_conv[0][0]']    \n",
            " ization)                                                                                         \n",
            "                                                                                                  \n",
            " conv3_block1_3_bn (BatchNormal  (None, 60, 80, 512)  2048       ['conv3_block1_3_conv[0][0]']    \n",
            " ization)                                                                                         \n",
            "                                                                                                  \n",
            " conv3_block1_add (Add)         (None, 60, 80, 512)  0           ['conv3_block1_0_bn[0][0]',      \n",
            "                                                                  'conv3_block1_3_bn[0][0]']      \n",
            "                                                                                                  \n",
            " conv3_block1_out (Activation)  (None, 60, 80, 512)  0           ['conv3_block1_add[0][0]']       \n",
            "                                                                                                  \n",
            " conv3_block2_1_conv (Conv2D)   (None, 60, 80, 128)  65664       ['conv3_block1_out[0][0]']       \n",
            "                                                                                                  \n",
            " conv3_block2_1_bn (BatchNormal  (None, 60, 80, 128)  512        ['conv3_block2_1_conv[0][0]']    \n",
            " ization)                                                                                         \n",
            "                                                                                                  \n",
            " conv3_block2_1_relu (Activatio  (None, 60, 80, 128)  0          ['conv3_block2_1_bn[0][0]']      \n",
            " n)                                                                                               \n",
            "                                                                                                  \n",
            " conv3_block2_2_conv (Conv2D)   (None, 60, 80, 128)  147584      ['conv3_block2_1_relu[0][0]']    \n",
            "                                                                                                  \n",
            " conv3_block2_2_bn (BatchNormal  (None, 60, 80, 128)  512        ['conv3_block2_2_conv[0][0]']    \n",
            " ization)                                                                                         \n",
            "                                                                                                  \n",
            " conv3_block2_2_relu (Activatio  (None, 60, 80, 128)  0          ['conv3_block2_2_bn[0][0]']      \n",
            " n)                                                                                               \n",
            "                                                                                                  \n",
            " conv3_block2_3_conv (Conv2D)   (None, 60, 80, 512)  66048       ['conv3_block2_2_relu[0][0]']    \n",
            "                                                                                                  \n",
            " conv3_block2_3_bn (BatchNormal  (None, 60, 80, 512)  2048       ['conv3_block2_3_conv[0][0]']    \n",
            " ization)                                                                                         \n",
            "                                                                                                  \n",
            " conv3_block2_add (Add)         (None, 60, 80, 512)  0           ['conv3_block1_out[0][0]',       \n",
            "                                                                  'conv3_block2_3_bn[0][0]']      \n",
            "                                                                                                  \n",
            " conv3_block2_out (Activation)  (None, 60, 80, 512)  0           ['conv3_block2_add[0][0]']       \n",
            "                                                                                                  \n",
            " conv3_block3_1_conv (Conv2D)   (None, 60, 80, 128)  65664       ['conv3_block2_out[0][0]']       \n",
            "                                                                                                  \n",
            " conv3_block3_1_bn (BatchNormal  (None, 60, 80, 128)  512        ['conv3_block3_1_conv[0][0]']    \n",
            " ization)                                                                                         \n",
            "                                                                                                  \n",
            " conv3_block3_1_relu (Activatio  (None, 60, 80, 128)  0          ['conv3_block3_1_bn[0][0]']      \n",
            " n)                                                                                               \n",
            "                                                                                                  \n",
            " conv3_block3_2_conv (Conv2D)   (None, 60, 80, 128)  147584      ['conv3_block3_1_relu[0][0]']    \n",
            "                                                                                                  \n",
            " conv3_block3_2_bn (BatchNormal  (None, 60, 80, 128)  512        ['conv3_block3_2_conv[0][0]']    \n",
            " ization)                                                                                         \n",
            "                                                                                                  \n",
            " conv3_block3_2_relu (Activatio  (None, 60, 80, 128)  0          ['conv3_block3_2_bn[0][0]']      \n",
            " n)                                                                                               \n",
            "                                                                                                  \n",
            " conv3_block3_3_conv (Conv2D)   (None, 60, 80, 512)  66048       ['conv3_block3_2_relu[0][0]']    \n",
            "                                                                                                  \n",
            " conv3_block3_3_bn (BatchNormal  (None, 60, 80, 512)  2048       ['conv3_block3_3_conv[0][0]']    \n",
            " ization)                                                                                         \n",
            "                                                                                                  \n",
            " conv3_block3_add (Add)         (None, 60, 80, 512)  0           ['conv3_block2_out[0][0]',       \n",
            "                                                                  'conv3_block3_3_bn[0][0]']      \n",
            "                                                                                                  \n",
            " conv3_block3_out (Activation)  (None, 60, 80, 512)  0           ['conv3_block3_add[0][0]']       \n",
            "                                                                                                  \n",
            " conv3_block4_1_conv (Conv2D)   (None, 60, 80, 128)  65664       ['conv3_block3_out[0][0]']       \n",
            "                                                                                                  \n",
            " conv3_block4_1_bn (BatchNormal  (None, 60, 80, 128)  512        ['conv3_block4_1_conv[0][0]']    \n",
            " ization)                                                                                         \n",
            "                                                                                                  \n",
            " conv3_block4_1_relu (Activatio  (None, 60, 80, 128)  0          ['conv3_block4_1_bn[0][0]']      \n",
            " n)                                                                                               \n",
            "                                                                                                  \n",
            " conv3_block4_2_conv (Conv2D)   (None, 60, 80, 128)  147584      ['conv3_block4_1_relu[0][0]']    \n",
            "                                                                                                  \n",
            " conv3_block4_2_bn (BatchNormal  (None, 60, 80, 128)  512        ['conv3_block4_2_conv[0][0]']    \n",
            " ization)                                                                                         \n",
            "                                                                                                  \n",
            " conv3_block4_2_relu (Activatio  (None, 60, 80, 128)  0          ['conv3_block4_2_bn[0][0]']      \n",
            " n)                                                                                               \n",
            "                                                                                                  \n",
            " conv3_block4_3_conv (Conv2D)   (None, 60, 80, 512)  66048       ['conv3_block4_2_relu[0][0]']    \n",
            "                                                                                                  \n",
            " conv3_block4_3_bn (BatchNormal  (None, 60, 80, 512)  2048       ['conv3_block4_3_conv[0][0]']    \n",
            " ization)                                                                                         \n",
            "                                                                                                  \n",
            " conv3_block4_add (Add)         (None, 60, 80, 512)  0           ['conv3_block3_out[0][0]',       \n",
            "                                                                  'conv3_block4_3_bn[0][0]']      \n",
            "                                                                                                  \n",
            " conv3_block4_out (Activation)  (None, 60, 80, 512)  0           ['conv3_block4_add[0][0]']       \n",
            "                                                                                                  \n",
            " conv4_block1_1_conv (Conv2D)   (None, 30, 40, 256)  131328      ['conv3_block4_out[0][0]']       \n",
            "                                                                                                  \n",
            " conv4_block1_1_bn (BatchNormal  (None, 30, 40, 256)  1024       ['conv4_block1_1_conv[0][0]']    \n",
            " ization)                                                                                         \n",
            "                                                                                                  \n",
            " conv4_block1_1_relu (Activatio  (None, 30, 40, 256)  0          ['conv4_block1_1_bn[0][0]']      \n",
            " n)                                                                                               \n",
            "                                                                                                  \n",
            " conv4_block1_2_conv (Conv2D)   (None, 30, 40, 256)  590080      ['conv4_block1_1_relu[0][0]']    \n",
            "                                                                                                  \n",
            " conv4_block1_2_bn (BatchNormal  (None, 30, 40, 256)  1024       ['conv4_block1_2_conv[0][0]']    \n",
            " ization)                                                                                         \n",
            "                                                                                                  \n",
            " conv4_block1_2_relu (Activatio  (None, 30, 40, 256)  0          ['conv4_block1_2_bn[0][0]']      \n",
            " n)                                                                                               \n",
            "                                                                                                  \n",
            " conv4_block1_0_conv (Conv2D)   (None, 30, 40, 1024  525312      ['conv3_block4_out[0][0]']       \n",
            "                                )                                                                 \n",
            "                                                                                                  \n",
            " conv4_block1_3_conv (Conv2D)   (None, 30, 40, 1024  263168      ['conv4_block1_2_relu[0][0]']    \n",
            "                                )                                                                 \n",
            "                                                                                                  \n",
            " conv4_block1_0_bn (BatchNormal  (None, 30, 40, 1024  4096       ['conv4_block1_0_conv[0][0]']    \n",
            " ization)                       )                                                                 \n",
            "                                                                                                  \n",
            " conv4_block1_3_bn (BatchNormal  (None, 30, 40, 1024  4096       ['conv4_block1_3_conv[0][0]']    \n",
            " ization)                       )                                                                 \n",
            "                                                                                                  \n",
            " conv4_block1_add (Add)         (None, 30, 40, 1024  0           ['conv4_block1_0_bn[0][0]',      \n",
            "                                )                                 'conv4_block1_3_bn[0][0]']      \n",
            "                                                                                                  \n",
            " conv4_block1_out (Activation)  (None, 30, 40, 1024  0           ['conv4_block1_add[0][0]']       \n",
            "                                )                                                                 \n",
            "                                                                                                  \n",
            " conv4_block2_1_conv (Conv2D)   (None, 30, 40, 256)  262400      ['conv4_block1_out[0][0]']       \n",
            "                                                                                                  \n",
            " conv4_block2_1_bn (BatchNormal  (None, 30, 40, 256)  1024       ['conv4_block2_1_conv[0][0]']    \n",
            " ization)                                                                                         \n",
            "                                                                                                  \n",
            " conv4_block2_1_relu (Activatio  (None, 30, 40, 256)  0          ['conv4_block2_1_bn[0][0]']      \n",
            " n)                                                                                               \n",
            "                                                                                                  \n",
            " conv4_block2_2_conv (Conv2D)   (None, 30, 40, 256)  590080      ['conv4_block2_1_relu[0][0]']    \n",
            "                                                                                                  \n",
            " conv4_block2_2_bn (BatchNormal  (None, 30, 40, 256)  1024       ['conv4_block2_2_conv[0][0]']    \n",
            " ization)                                                                                         \n",
            "                                                                                                  \n",
            " conv4_block2_2_relu (Activatio  (None, 30, 40, 256)  0          ['conv4_block2_2_bn[0][0]']      \n",
            " n)                                                                                               \n",
            "                                                                                                  \n",
            " conv4_block2_3_conv (Conv2D)   (None, 30, 40, 1024  263168      ['conv4_block2_2_relu[0][0]']    \n",
            "                                )                                                                 \n",
            "                                                                                                  \n",
            " conv4_block2_3_bn (BatchNormal  (None, 30, 40, 1024  4096       ['conv4_block2_3_conv[0][0]']    \n",
            " ization)                       )                                                                 \n",
            "                                                                                                  \n",
            " conv4_block2_add (Add)         (None, 30, 40, 1024  0           ['conv4_block1_out[0][0]',       \n",
            "                                )                                 'conv4_block2_3_bn[0][0]']      \n",
            "                                                                                                  \n",
            " conv4_block2_out (Activation)  (None, 30, 40, 1024  0           ['conv4_block2_add[0][0]']       \n",
            "                                )                                                                 \n",
            "                                                                                                  \n",
            " conv4_block3_1_conv (Conv2D)   (None, 30, 40, 256)  262400      ['conv4_block2_out[0][0]']       \n",
            "                                                                                                  \n",
            " conv4_block3_1_bn (BatchNormal  (None, 30, 40, 256)  1024       ['conv4_block3_1_conv[0][0]']    \n",
            " ization)                                                                                         \n",
            "                                                                                                  \n",
            " conv4_block3_1_relu (Activatio  (None, 30, 40, 256)  0          ['conv4_block3_1_bn[0][0]']      \n",
            " n)                                                                                               \n",
            "                                                                                                  \n",
            " conv4_block3_2_conv (Conv2D)   (None, 30, 40, 256)  590080      ['conv4_block3_1_relu[0][0]']    \n",
            "                                                                                                  \n",
            " conv4_block3_2_bn (BatchNormal  (None, 30, 40, 256)  1024       ['conv4_block3_2_conv[0][0]']    \n",
            " ization)                                                                                         \n",
            "                                                                                                  \n",
            " conv4_block3_2_relu (Activatio  (None, 30, 40, 256)  0          ['conv4_block3_2_bn[0][0]']      \n",
            " n)                                                                                               \n",
            "                                                                                                  \n",
            " conv4_block3_3_conv (Conv2D)   (None, 30, 40, 1024  263168      ['conv4_block3_2_relu[0][0]']    \n",
            "                                )                                                                 \n",
            "                                                                                                  \n",
            " conv4_block3_3_bn (BatchNormal  (None, 30, 40, 1024  4096       ['conv4_block3_3_conv[0][0]']    \n",
            " ization)                       )                                                                 \n",
            "                                                                                                  \n",
            " conv4_block3_add (Add)         (None, 30, 40, 1024  0           ['conv4_block2_out[0][0]',       \n",
            "                                )                                 'conv4_block3_3_bn[0][0]']      \n",
            "                                                                                                  \n",
            " conv4_block3_out (Activation)  (None, 30, 40, 1024  0           ['conv4_block3_add[0][0]']       \n",
            "                                )                                                                 \n",
            "                                                                                                  \n",
            " conv4_block4_1_conv (Conv2D)   (None, 30, 40, 256)  262400      ['conv4_block3_out[0][0]']       \n",
            "                                                                                                  \n",
            " conv4_block4_1_bn (BatchNormal  (None, 30, 40, 256)  1024       ['conv4_block4_1_conv[0][0]']    \n",
            " ization)                                                                                         \n",
            "                                                                                                  \n",
            " conv4_block4_1_relu (Activatio  (None, 30, 40, 256)  0          ['conv4_block4_1_bn[0][0]']      \n",
            " n)                                                                                               \n",
            "                                                                                                  \n",
            " conv4_block4_2_conv (Conv2D)   (None, 30, 40, 256)  590080      ['conv4_block4_1_relu[0][0]']    \n",
            "                                                                                                  \n",
            " conv4_block4_2_bn (BatchNormal  (None, 30, 40, 256)  1024       ['conv4_block4_2_conv[0][0]']    \n",
            " ization)                                                                                         \n",
            "                                                                                                  \n",
            " conv4_block4_2_relu (Activatio  (None, 30, 40, 256)  0          ['conv4_block4_2_bn[0][0]']      \n",
            " n)                                                                                               \n",
            "                                                                                                  \n",
            " conv4_block4_3_conv (Conv2D)   (None, 30, 40, 1024  263168      ['conv4_block4_2_relu[0][0]']    \n",
            "                                )                                                                 \n",
            "                                                                                                  \n",
            " conv4_block4_3_bn (BatchNormal  (None, 30, 40, 1024  4096       ['conv4_block4_3_conv[0][0]']    \n",
            " ization)                       )                                                                 \n",
            "                                                                                                  \n",
            " conv4_block4_add (Add)         (None, 30, 40, 1024  0           ['conv4_block3_out[0][0]',       \n",
            "                                )                                 'conv4_block4_3_bn[0][0]']      \n",
            "                                                                                                  \n",
            " conv4_block4_out (Activation)  (None, 30, 40, 1024  0           ['conv4_block4_add[0][0]']       \n",
            "                                )                                                                 \n",
            "                                                                                                  \n",
            " conv4_block5_1_conv (Conv2D)   (None, 30, 40, 256)  262400      ['conv4_block4_out[0][0]']       \n",
            "                                                                                                  \n",
            " conv4_block5_1_bn (BatchNormal  (None, 30, 40, 256)  1024       ['conv4_block5_1_conv[0][0]']    \n",
            " ization)                                                                                         \n",
            "                                                                                                  \n",
            " conv4_block5_1_relu (Activatio  (None, 30, 40, 256)  0          ['conv4_block5_1_bn[0][0]']      \n",
            " n)                                                                                               \n",
            "                                                                                                  \n",
            " conv4_block5_2_conv (Conv2D)   (None, 30, 40, 256)  590080      ['conv4_block5_1_relu[0][0]']    \n",
            "                                                                                                  \n",
            " conv4_block5_2_bn (BatchNormal  (None, 30, 40, 256)  1024       ['conv4_block5_2_conv[0][0]']    \n",
            " ization)                                                                                         \n",
            "                                                                                                  \n",
            " conv4_block5_2_relu (Activatio  (None, 30, 40, 256)  0          ['conv4_block5_2_bn[0][0]']      \n",
            " n)                                                                                               \n",
            "                                                                                                  \n",
            " conv4_block5_3_conv (Conv2D)   (None, 30, 40, 1024  263168      ['conv4_block5_2_relu[0][0]']    \n",
            "                                )                                                                 \n",
            "                                                                                                  \n",
            " conv4_block5_3_bn (BatchNormal  (None, 30, 40, 1024  4096       ['conv4_block5_3_conv[0][0]']    \n",
            " ization)                       )                                                                 \n",
            "                                                                                                  \n",
            " conv4_block5_add (Add)         (None, 30, 40, 1024  0           ['conv4_block4_out[0][0]',       \n",
            "                                )                                 'conv4_block5_3_bn[0][0]']      \n",
            "                                                                                                  \n",
            " conv4_block5_out (Activation)  (None, 30, 40, 1024  0           ['conv4_block5_add[0][0]']       \n",
            "                                )                                                                 \n",
            "                                                                                                  \n",
            " conv4_block6_1_conv (Conv2D)   (None, 30, 40, 256)  262400      ['conv4_block5_out[0][0]']       \n",
            "                                                                                                  \n",
            " conv4_block6_1_bn (BatchNormal  (None, 30, 40, 256)  1024       ['conv4_block6_1_conv[0][0]']    \n",
            " ization)                                                                                         \n",
            "                                                                                                  \n",
            " conv4_block6_1_relu (Activatio  (None, 30, 40, 256)  0          ['conv4_block6_1_bn[0][0]']      \n",
            " n)                                                                                               \n",
            "                                                                                                  \n",
            " conv4_block6_2_conv (Conv2D)   (None, 30, 40, 256)  590080      ['conv4_block6_1_relu[0][0]']    \n",
            "                                                                                                  \n",
            " conv4_block6_2_bn (BatchNormal  (None, 30, 40, 256)  1024       ['conv4_block6_2_conv[0][0]']    \n",
            " ization)                                                                                         \n",
            "                                                                                                  \n",
            " conv4_block6_2_relu (Activatio  (None, 30, 40, 256)  0          ['conv4_block6_2_bn[0][0]']      \n",
            " n)                                                                                               \n",
            "                                                                                                  \n",
            " conv4_block6_3_conv (Conv2D)   (None, 30, 40, 1024  263168      ['conv4_block6_2_relu[0][0]']    \n",
            "                                )                                                                 \n",
            "                                                                                                  \n",
            " conv4_block6_3_bn (BatchNormal  (None, 30, 40, 1024  4096       ['conv4_block6_3_conv[0][0]']    \n",
            " ization)                       )                                                                 \n",
            "                                                                                                  \n",
            " conv4_block6_add (Add)         (None, 30, 40, 1024  0           ['conv4_block5_out[0][0]',       \n",
            "                                )                                 'conv4_block6_3_bn[0][0]']      \n",
            "                                                                                                  \n",
            " conv4_block6_out (Activation)  (None, 30, 40, 1024  0           ['conv4_block6_add[0][0]']       \n",
            "                                )                                                                 \n",
            "                                                                                                  \n",
            " conv5_block1_1_conv (Conv2D)   (None, 15, 20, 512)  524800      ['conv4_block6_out[0][0]']       \n",
            "                                                                                                  \n",
            " conv5_block1_1_bn (BatchNormal  (None, 15, 20, 512)  2048       ['conv5_block1_1_conv[0][0]']    \n",
            " ization)                                                                                         \n",
            "                                                                                                  \n",
            " conv5_block1_1_relu (Activatio  (None, 15, 20, 512)  0          ['conv5_block1_1_bn[0][0]']      \n",
            " n)                                                                                               \n",
            "                                                                                                  \n",
            " conv5_block1_2_conv (Conv2D)   (None, 15, 20, 512)  2359808     ['conv5_block1_1_relu[0][0]']    \n",
            "                                                                                                  \n",
            " conv5_block1_2_bn (BatchNormal  (None, 15, 20, 512)  2048       ['conv5_block1_2_conv[0][0]']    \n",
            " ization)                                                                                         \n",
            "                                                                                                  \n",
            " conv5_block1_2_relu (Activatio  (None, 15, 20, 512)  0          ['conv5_block1_2_bn[0][0]']      \n",
            " n)                                                                                               \n",
            "                                                                                                  \n",
            " conv5_block1_0_conv (Conv2D)   (None, 15, 20, 2048  2099200     ['conv4_block6_out[0][0]']       \n",
            "                                )                                                                 \n",
            "                                                                                                  \n",
            " conv5_block1_3_conv (Conv2D)   (None, 15, 20, 2048  1050624     ['conv5_block1_2_relu[0][0]']    \n",
            "                                )                                                                 \n",
            "                                                                                                  \n",
            " conv5_block1_0_bn (BatchNormal  (None, 15, 20, 2048  8192       ['conv5_block1_0_conv[0][0]']    \n",
            " ization)                       )                                                                 \n",
            "                                                                                                  \n",
            " conv5_block1_3_bn (BatchNormal  (None, 15, 20, 2048  8192       ['conv5_block1_3_conv[0][0]']    \n",
            " ization)                       )                                                                 \n",
            "                                                                                                  \n",
            " conv5_block1_add (Add)         (None, 15, 20, 2048  0           ['conv5_block1_0_bn[0][0]',      \n",
            "                                )                                 'conv5_block1_3_bn[0][0]']      \n",
            "                                                                                                  \n",
            " conv5_block1_out (Activation)  (None, 15, 20, 2048  0           ['conv5_block1_add[0][0]']       \n",
            "                                )                                                                 \n",
            "                                                                                                  \n",
            " conv5_block2_1_conv (Conv2D)   (None, 15, 20, 512)  1049088     ['conv5_block1_out[0][0]']       \n",
            "                                                                                                  \n",
            " conv5_block2_1_bn (BatchNormal  (None, 15, 20, 512)  2048       ['conv5_block2_1_conv[0][0]']    \n",
            " ization)                                                                                         \n",
            "                                                                                                  \n",
            " conv5_block2_1_relu (Activatio  (None, 15, 20, 512)  0          ['conv5_block2_1_bn[0][0]']      \n",
            " n)                                                                                               \n",
            "                                                                                                  \n",
            " conv5_block2_2_conv (Conv2D)   (None, 15, 20, 512)  2359808     ['conv5_block2_1_relu[0][0]']    \n",
            "                                                                                                  \n",
            " conv5_block2_2_bn (BatchNormal  (None, 15, 20, 512)  2048       ['conv5_block2_2_conv[0][0]']    \n",
            " ization)                                                                                         \n",
            "                                                                                                  \n",
            " conv5_block2_2_relu (Activatio  (None, 15, 20, 512)  0          ['conv5_block2_2_bn[0][0]']      \n",
            " n)                                                                                               \n",
            "                                                                                                  \n",
            " conv5_block2_3_conv (Conv2D)   (None, 15, 20, 2048  1050624     ['conv5_block2_2_relu[0][0]']    \n",
            "                                )                                                                 \n",
            "                                                                                                  \n",
            " conv5_block2_3_bn (BatchNormal  (None, 15, 20, 2048  8192       ['conv5_block2_3_conv[0][0]']    \n",
            " ization)                       )                                                                 \n",
            "                                                                                                  \n",
            " conv5_block2_add (Add)         (None, 15, 20, 2048  0           ['conv5_block1_out[0][0]',       \n",
            "                                )                                 'conv5_block2_3_bn[0][0]']      \n",
            "                                                                                                  \n",
            " conv5_block2_out (Activation)  (None, 15, 20, 2048  0           ['conv5_block2_add[0][0]']       \n",
            "                                )                                                                 \n",
            "                                                                                                  \n",
            " conv5_block3_1_conv (Conv2D)   (None, 15, 20, 512)  1049088     ['conv5_block2_out[0][0]']       \n",
            "                                                                                                  \n",
            " conv5_block3_1_bn (BatchNormal  (None, 15, 20, 512)  2048       ['conv5_block3_1_conv[0][0]']    \n",
            " ization)                                                                                         \n",
            "                                                                                                  \n",
            " conv5_block3_1_relu (Activatio  (None, 15, 20, 512)  0          ['conv5_block3_1_bn[0][0]']      \n",
            " n)                                                                                               \n",
            "                                                                                                  \n",
            " conv5_block3_2_conv (Conv2D)   (None, 15, 20, 512)  2359808     ['conv5_block3_1_relu[0][0]']    \n",
            "                                                                                                  \n",
            " conv5_block3_2_bn (BatchNormal  (None, 15, 20, 512)  2048       ['conv5_block3_2_conv[0][0]']    \n",
            " ization)                                                                                         \n",
            "                                                                                                  \n",
            " conv5_block3_2_relu (Activatio  (None, 15, 20, 512)  0          ['conv5_block3_2_bn[0][0]']      \n",
            " n)                                                                                               \n",
            "                                                                                                  \n",
            " conv5_block3_3_conv (Conv2D)   (None, 15, 20, 2048  1050624     ['conv5_block3_2_relu[0][0]']    \n",
            "                                )                                                                 \n",
            "                                                                                                  \n",
            " conv5_block3_3_bn (BatchNormal  (None, 15, 20, 2048  8192       ['conv5_block3_3_conv[0][0]']    \n",
            " ization)                       )                                                                 \n",
            "                                                                                                  \n",
            " conv5_block3_add (Add)         (None, 15, 20, 2048  0           ['conv5_block2_out[0][0]',       \n",
            "                                )                                 'conv5_block3_3_bn[0][0]']      \n",
            "                                                                                                  \n",
            " conv5_block3_out (Activation)  (None, 15, 20, 2048  0           ['conv5_block3_add[0][0]']       \n",
            "                                )                                                                 \n",
            "                                                                                                  \n",
            "==================================================================================================\n",
            "Total params: 23,587,712\n",
            "Trainable params: 0\n",
            "Non-trainable params: 23,587,712\n",
            "__________________________________________________________________________________________________\n"
          ]
        }
      ]
    },
    {
      "cell_type": "code",
      "source": [
        "# adding output layer (5 class softmax layer)\n",
        "ResNet50Model = tf.keras.Sequential([\n",
        "    base_model,\n",
        "    layers.Flatten(),\n",
        "    layers.Dense(5, activation='softmax')\n",
        "])\n",
        "ResNet50Model.summary()"
      ],
      "metadata": {
        "colab": {
          "base_uri": "https://localhost:8080/"
        },
        "id": "T62tsIStvpA2",
        "outputId": "1909ae75-394c-49dd-88b5-eef5573121b7"
      },
      "execution_count": null,
      "outputs": [
        {
          "output_type": "stream",
          "name": "stdout",
          "text": [
            "Model: \"sequential\"\n",
            "_________________________________________________________________\n",
            " Layer (type)                Output Shape              Param #   \n",
            "=================================================================\n",
            " resnet50 (Functional)       (None, 15, 20, 2048)      23587712  \n",
            "                                                                 \n",
            " flatten (Flatten)           (None, 614400)            0         \n",
            "                                                                 \n",
            " dense (Dense)               (None, 5)                 3072005   \n",
            "                                                                 \n",
            "=================================================================\n",
            "Total params: 26,659,717\n",
            "Trainable params: 3,072,005\n",
            "Non-trainable params: 23,587,712\n",
            "_________________________________________________________________\n"
          ]
        }
      ]
    },
    {
      "cell_type": "code",
      "source": [
        "# training the ResNet50 model\n",
        "ResNet50Model.compile(loss = weighted_loss, optimizer = 'adam', metrics = [balanced_acc()])\n",
        "history1 = ResNet50Model.fit(data_generator, steps_per_epoch=20, epochs=4, verbose=1)"
      ],
      "metadata": {
        "colab": {
          "base_uri": "https://localhost:8080/"
        },
        "id": "niHUlUdivryq",
        "outputId": "134fa007-bf76-4cf6-f841-fa088d4ccdb5"
      },
      "execution_count": null,
      "outputs": [
        {
          "output_type": "stream",
          "name": "stdout",
          "text": [
            "Epoch 1/4\n",
            "20/20 [==============================] - 25s 1s/step - loss: 1.0799 - balanced_acc_2: 0.7602\n",
            "Epoch 2/4\n",
            "20/20 [==============================] - 21s 1s/step - loss: 1.0316 - balanced_acc_2: 0.7767\n",
            "Epoch 3/4\n",
            "20/20 [==============================] - 21s 1s/step - loss: 1.0799 - balanced_acc_2: 0.7360\n",
            "Epoch 4/4\n",
            "20/20 [==============================] - 21s 1s/step - loss: 0.9913 - balanced_acc_2: 0.7341\n"
          ]
        }
      ]
    },
    {
      "cell_type": "code",
      "source": [
        "# testing the ResNet50 model\n",
        "ResNet50Model.evaluate(test_generator)"
      ],
      "metadata": {
        "colab": {
          "base_uri": "https://localhost:8080/"
        },
        "id": "XFtVOrHdvwgY",
        "outputId": "7291ccc2-a171-4143-b743-1b169eeabb4e"
      },
      "execution_count": null,
      "outputs": [
        {
          "output_type": "stream",
          "name": "stdout",
          "text": [
            "32/32 [==============================] - 35s 1s/step - loss: 1.2794 - balanced_acc_2: 0.7445\n"
          ]
        },
        {
          "output_type": "execute_result",
          "data": {
            "text/plain": [
              "[1.2793738842010498, 0.7445114254951477]"
            ]
          },
          "metadata": {},
          "execution_count": 162
        }
      ]
    },
    {
      "cell_type": "markdown",
      "metadata": {
        "id": "OIfobteNAPoA"
      },
      "source": [
        "## Saving pre-processed images to folders"
      ]
    },
    {
      "cell_type": "code",
      "execution_count": null,
      "metadata": {
        "colab": {
          "base_uri": "https://localhost:8080/"
        },
        "id": "HCe8PD9KBokt",
        "outputId": "01ca049a-8b79-4d7c-e1ea-41a4c7337aa0"
      },
      "outputs": [
        {
          "output_type": "execute_result",
          "data": {
            "text/plain": [
              "(80, 5)"
            ]
          },
          "metadata": {},
          "execution_count": 10
        }
      ],
      "source": [
        "np.array(y).shape"
      ]
    },
    {
      "cell_type": "code",
      "execution_count": null,
      "metadata": {
        "id": "tzRZApamF0hA"
      },
      "outputs": [],
      "source": [
        "X_orient = []\n",
        "for input_img in np.array(X)[:,:,:,0]:\n",
        "  normalized_img = normalize(input_img.copy(), float(100), float(100))\n",
        "\n",
        "  # ROI and normalisation\n",
        "  (segmented_img, normim, mask) = create_segmented_and_variance_images(normalized_img, 16, 0.2)\n",
        "\n",
        "  # orientations\n",
        "  angles = calculate_angles(normalized_img, W=16, smoth=False)\n",
        "  orientation_img = visualize_angles(segmented_img, mask, angles, W=16)\n",
        "\n",
        "  X_orient.append(orientation_img)\n",
        "\n",
        "X_orient = np.array(X_orient).astype('float32')"
      ]
    },
    {
      "cell_type": "code",
      "execution_count": null,
      "metadata": {
        "colab": {
          "base_uri": "https://localhost:8080/"
        },
        "id": "87tv2h48GXL-",
        "outputId": "5cd3f504-60dd-48e0-b945-0b50e551bc76"
      },
      "outputs": [
        {
          "output_type": "execute_result",
          "data": {
            "text/plain": [
              "(80, 480, 640, 3)"
            ]
          },
          "metadata": {},
          "execution_count": 12
        }
      ],
      "source": [
        "X_orient.shape"
      ]
    },
    {
      "cell_type": "code",
      "execution_count": null,
      "metadata": {
        "id": "-IZIMYvRCJAI"
      },
      "outputs": [],
      "source": [
        "!mkdir './oriented/'"
      ]
    },
    {
      "cell_type": "code",
      "source": [
        "!cd './oriented/'"
      ],
      "metadata": {
        "id": "9Swg4ziwTAm7"
      },
      "execution_count": null,
      "outputs": []
    },
    {
      "cell_type": "code",
      "execution_count": null,
      "metadata": {
        "id": "AevD9IYPAfq-"
      },
      "outputs": [],
      "source": [
        "from PIL import Image\n",
        "for i in range(0,80):\n",
        "  im = Image.fromarray((X_orient[i]).astype(np.uint8))\n",
        "  im.save(\"./oriented/\" + str(i)+ \"_\" + y[i] + \".tif\")"
      ]
    },
    {
      "cell_type": "code",
      "execution_count": null,
      "metadata": {
        "id": "P6-2vh9mCzM-"
      },
      "outputs": [],
      "source": [
        "im = Image.open(r'./oriented/72_T.png')\n",
        "im"
      ]
    },
    {
      "cell_type": "code",
      "execution_count": null,
      "metadata": {
        "id": "ZpayiPSIMS-D"
      },
      "outputs": [],
      "source": [
        "for i in list(set(y)):\n",
        "    os.makedirs(os.path.join(\"./oriented/\", i))"
      ]
    },
    {
      "cell_type": "code",
      "execution_count": null,
      "metadata": {
        "id": "rv4lOb5jOw-S"
      },
      "outputs": [],
      "source": [
        "path = \"./oriented/*.png\"\n",
        "\n",
        "for img in sorted(glob.glob(path)):\n",
        "  label = img[len(img) - 5]\n",
        "  os.rename(img, f\"./oriented/{label}/{os.path.basename(img)}\")"
      ]
    },
    {
      "cell_type": "markdown",
      "source": [
        "## Time taken to classify input and search a subfolder"
      ],
      "metadata": {
        "id": "WwCbzpSkm2p0"
      }
    },
    {
      "cell_type": "code",
      "source": [
        "start_time = time.time()\n",
        "\n",
        "# preprocessing the input image\n",
        "\n",
        "input = np.array(Image.open('/content/L_107_5.tif'))\n",
        "normalized_img = normalize(input, float(100), float(100))\n",
        "\n",
        "# ROI and normalisation\n",
        "(segmented_img, normim, mask) = create_segmented_and_variance_images(normalized_img, 16, 0.2)\n",
        "\n",
        "# orientations\n",
        "angles = calculate_angles(normalized_img, W=16, smoth=False)\n",
        "orientation_img = visualize_angles(segmented_img, mask, angles, W=16)\n",
        "\n",
        "cv2_imshow(orientation_img)"
      ],
      "metadata": {
        "colab": {
          "base_uri": "https://localhost:8080/",
          "height": 497
        },
        "id": "0xzTE-Yuaw_B",
        "outputId": "4dd3facf-1d06-4483-b174-a1378941b18f"
      },
      "execution_count": null,
      "outputs": [
        {
          "output_type": "display_data",
          "data": {
            "text/plain": [
              "<PIL.Image.Image image mode=RGB size=640x480 at 0x7F754E38A850>"
            ],
            "image/png": "[encoded data removed]"
          },
          "metadata": {}
        }
      ]
    },
    {
      "cell_type": "code",
      "source": [
        "#ResNet50Model.predict(orientation_img)\n",
        "res = list(ResNet50Model.predict(np.array([orientation_img]))[0])\n",
        "print(res)"
      ],
      "metadata": {
        "colab": {
          "base_uri": "https://localhost:8080/"
        },
        "id": "7VrKMMDwy1_4",
        "outputId": "0fe868e0-949f-43f1-d1a3-5cf645cc9fca"
      },
      "execution_count": null,
      "outputs": [
        {
          "output_type": "stream",
          "name": "stdout",
          "text": [
            "1/1 [==============================] - 1s 1s/step\n",
            "[0.0, 1.0, 0.0, 0.0, 0.0]\n"
          ]
        }
      ]
    },
    {
      "cell_type": "code",
      "source": [
        "y.value_counts()"
      ],
      "metadata": {
        "colab": {
          "base_uri": "https://localhost:8080/"
        },
        "id": "FHyW88JA2Xry",
        "outputId": "8e7cfec2-e6da-4be2-d9b2-e673666a632d"
      },
      "execution_count": null,
      "outputs": [
        {
          "output_type": "execute_result",
          "data": {
            "text/plain": [
              "D  L  R  T  W\n",
              "0  1  0  0  0    40\n",
              "   0  1  0  0    16\n",
              "      0  0  1     8\n",
              "         1  0     8\n",
              "1  0  0  0  0     8\n",
              "dtype: int64"
            ]
          },
          "metadata": {},
          "execution_count": 257
        }
      ]
    },
    {
      "cell_type": "code",
      "source": [
        "if res[0] == 1.0:\n",
        "  label = \"D\"\n",
        "  pr = 10\n",
        "if res[1] == 1.0:\n",
        "  label = \"L\"\n",
        "  pr = 50\n",
        "if res[2] == 1.0:\n",
        "  label = \"R\"\n",
        "  pr = 20\n",
        "if res[3] == 1.0:\n",
        "  label = \"T\"\n",
        "  pr = 10\n",
        "if res[4] == 1.0:\n",
        "  label = \"W\"\n",
        "  pr = 10\n",
        "\n",
        "print(f\"Class predicted: {label}\")"
      ],
      "metadata": {
        "colab": {
          "base_uri": "https://localhost:8080/"
        },
        "id": "3YSj6sUd0_vX",
        "outputId": "8e308c9f-eb98-446f-ccd0-faab2f572c72"
      },
      "execution_count": null,
      "outputs": [
        {
          "output_type": "stream",
          "name": "stdout",
          "text": [
            "Class predicted: L\n"
          ]
        }
      ]
    },
    {
      "cell_type": "code",
      "execution_count": null,
      "metadata": {
        "colab": {
          "base_uri": "https://localhost:8080/",
          "height": 568
        },
        "id": "XE69nzmBUGtc",
        "outputId": "01a2b286-1111-41e2-fabc-a64e83633134"
      },
      "outputs": [
        {
          "output_type": "stream",
          "name": "stdout",
          "text": [
            "Best match: 20_L.png\n",
            "Search time: 18.61470937728882 seconds\n",
            "Penetration rate: 50%\n",
            "\n"
          ]
        },
        {
          "output_type": "display_data",
          "data": {
            "text/plain": [
              "<PIL.Image.Image image mode=RGB size=1280x480 at 0x7F754B4E6D50>"
            ],
            "image/png": "[encoded data removed]"
          },
          "metadata": {}
        }
      ],
      "source": [
        "# finding features to match\n",
        "\n",
        "input_img = orientation_img\n",
        "input_img=input_img.astype('uint8')\n",
        "gray= cv.cvtColor(input_img,cv.COLOR_BGR2GRAY)\n",
        "sift = cv.xfeatures2d.SIFT_create()\n",
        "kp = sift.detect(input_img,None)\n",
        "img1=cv.drawKeypoints(input_img,kp,input_img)\n",
        "\n",
        "flag=0\n",
        "max=0\n",
        "\n",
        "# switching to the required subfolder\n",
        "os.chdir(f\"/content/oriented/{label}\")\n",
        "\n",
        "# searching through the subfolder\n",
        "for file in glob.glob(\"*.tif\", recursive=True):\n",
        "\n",
        "    frame=cv.imread(file)\n",
        "    frame=frame.astype('uint8')\n",
        "    gray1 = cv.cvtColor(frame, cv.COLOR_BGR2GRAY)\n",
        "\n",
        "    sift = cv.xfeatures2d.SIFT_create()\n",
        "    kp = sift.detect(frame,None)\n",
        "    img2=cv.drawKeypoints(frame,kp,frame)\n",
        "    kp1, des1 = sift.detectAndCompute(img1,None)\n",
        "    kp2, des2 = sift.detectAndCompute(img2,None)\n",
        "\n",
        "    FLANN_INDEX_KDTREE = 0\n",
        "    index_params = dict(algorithm = FLANN_INDEX_KDTREE, trees = 5)\n",
        "    search_params = dict(checks = 50)\n",
        "    flann = cv.FlannBasedMatcher(index_params, search_params)\n",
        "    matches=flann.knnMatch(np.asarray(des1,np.float32), np.asarray(des2,np.float32),k=2)\n",
        "\n",
        "    good = []\n",
        "    for m,n in matches:\n",
        "        if m.distance < 0.7*n.distance:\n",
        "            good.append(m)\n",
        "\n",
        "    if len(good)>10:\n",
        "        src_pts = np.float32([kp1[m.queryIdx].pt for m in good ]).reshape(-1,1,2)\n",
        "        dst_pts = np.float32([kp2[m.trainIdx].pt for m in good ]).reshape(-1,1,2)\n",
        "        M, mask = cv.findHomography(src_pts, dst_pts, cv.RANSAC,5.0)\n",
        "        matchesMask = mask.ravel().tolist()\n",
        "        #print(\"Matched \" + str(file))\n",
        "        if (len(matchesMask)) > max:\n",
        "          i1 = img1\n",
        "          i2 = img2\n",
        "          k1 = kp1\n",
        "          k2 = kp2\n",
        "          best = good\n",
        "          draw_params = dict(matchColor = (0, 255, 0), # draw matches in green color\n",
        "                singlePointColor = None,\n",
        "                matchesMask = matchesMask, # draw only inliers\n",
        "                flags = 2)\n",
        "          fname = str(file)\n",
        "          max = len(matchesMask)\n",
        "        flag=1\n",
        "\n",
        "    else:\n",
        "        matchesMask = None\n",
        "\n",
        "print(\"Best match:\", fname)\n",
        "print(\"Search time: %s seconds\" % (time.time() - start_time))\n",
        "\n",
        "print(f\"Penetration rate: {pr}%\")\n",
        "print()\n",
        "\n",
        "img3 = cv.drawMatches(i1, k1, i2, k2, best, None, **draw_params)\n",
        "cv2_imshow(img3)\n",
        "\n",
        "if flag==0:\n",
        "    print(\"No matches found!\")"
      ]
    }
  ],
  "metadata": {
    "colab": {
      "collapsed_sections": [
        "15Cr6WlF8NeV",
        "xBIJT6o28P5I",
        "AI64gA_RDV13",
        "lb9tznDqAFqu",
        "UuG3DzcrALun",
        "IBo14aXBvesi",
        "OIfobteNAPoA"
      ],
      "provenance": []
    },
    "gpuClass": "standard",
    "kernelspec": {
      "display_name": "Python 3",
      "name": "python3"
    },
    "language_info": {
      "name": "python"
    }
  },
  "nbformat": 4,
  "nbformat_minor": 0
}