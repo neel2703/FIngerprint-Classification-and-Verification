{
 "cells": [
  {
   "cell_type": "code",
   "execution_count": 1,
   "metadata": {
    "id": "jdcVzV9u1D72"
   },
   "outputs": [],
   "source": [
    "# importing necessary libraries\n",
    "import pandas as pd\n",
    "import numpy as np\n",
    "import matplotlib.pyplot as plt\n",
    "from skimage.transform import resize\n",
    "from skimage.io import imread\n",
    "from sklearn.neighbors import KNeighborsClassifier\n",
    "from sklearn.model_selection import GridSearchCV\n",
    "import glob\n",
    "import os\n",
    "from sklearn.model_selection import train_test_split\n",
    "from sklearn.metrics import accuracy_score\n",
    "from sklearn.metrics import confusion_matrix\n",
    "import tensorflow as tf\n",
    "import keras\n",
    "import keras.layers as layers\n",
    "from keras.models import Sequential\n",
    "from keras.preprocessing.image import ImageDataGenerator\n",
    "import matplotlib.pyplot as plt\n",
    "import seaborn as sns\n",
    "import cv2 as cv\n",
    "# from math import sqrt\n",
    "# import math\n",
    "# import scipy\n",
    "# import scipy.ndimage\n",
    "# from skimage.morphology import skeletonize as skelt\n",
    "# from skimage.morphology import thin\n",
    "# from google.colab.patches import cv2_imshow"
   ]
  },
  {
   "cell_type": "markdown",
   "metadata": {},
   "source": [
    "#### Only 2000 images out of the 4000 images available in the NIST-4 database were used due to system constraints. These results wont be as accurate as the results mentioned in the research papers due to less data being used."
   ]
  },
  {
   "cell_type": "markdown",
   "metadata": {
    "id": "zpEe2JEw3A04"
   },
   "source": [
    "# KNN Model"
   ]
  },
  {
   "cell_type": "markdown",
   "metadata": {
    "id": "jyMdhZf-1cKy"
   },
   "source": [
    "### Importing Data"
   ]
  },
  {
   "cell_type": "code",
   "execution_count": 2,
   "metadata": {
    "colab": {
     "base_uri": "https://localhost:8080/",
     "height": 363
    },
    "id": "DL3EnzZ21X1X",
    "outputId": "8ae7098f-c62e-40a1-ba7a-8ca3b5412768"
   },
   "outputs": [],
   "source": [
    "image_files = glob.glob1('D:/college/Research/NIST/Biometrics-Project-main/png_txt/half_data', '*.png')\n",
    "\n",
    "X_knn,y = [], []\n",
    "dir = 'D:/college/Research/NIST/Biometrics-Project-main/png_txt/half_data/'\n",
    "for image in sorted(image_files):\n",
    "\n",
    "  X_knn.append(plt.imread(dir+image).flatten())\n",
    "  y.append(str(image[0]))"
   ]
  },
  {
   "cell_type": "code",
   "execution_count": 3,
   "metadata": {
    "id": "XHaYkXTl1v8M"
   },
   "outputs": [],
   "source": [
    "X_knn = np.array(X_knn)\n",
    "y = np.array(y)"
   ]
  },
  {
   "cell_type": "markdown",
   "metadata": {
    "id": "n5edDnnM2XeI"
   },
   "source": [
    "### Splitting the data"
   ]
  },
  {
   "cell_type": "code",
   "execution_count": 4,
   "metadata": {
    "id": "ezUPvdqr2Q5z"
   },
   "outputs": [],
   "source": [
    "X_train_knn, X_test_knn, y_train_knn, y_test_knn = train_test_split(X_knn, y, test_size=0.4, random_state=42)"
   ]
  },
  {
   "cell_type": "markdown",
   "metadata": {
    "id": "Fb1j8wT62dOC"
   },
   "source": [
    "### Building and training the KNN Model"
   ]
  },
  {
   "cell_type": "code",
   "execution_count": 5,
   "metadata": {
    "id": "Q41PgzLH2ftu"
   },
   "outputs": [],
   "source": [
    "k_range = list(range(1,21))\n",
    "\n",
    "param_grid={'n_neighbors' : k_range}\n",
    "knn = KNeighborsClassifier()\n",
    "model_knn = GridSearchCV(knn, param_grid, cv=10)"
   ]
  },
  {
   "cell_type": "code",
   "execution_count": 6,
   "metadata": {
    "id": "mZJgvgoH2kQR"
   },
   "outputs": [
    {
     "data": {
      "text/html": [
       "<style>#sk-container-id-1 {color: black;background-color: white;}#sk-container-id-1 pre{padding: 0;}#sk-container-id-1 div.sk-toggleable {background-color: white;}#sk-container-id-1 label.sk-toggleable__label {cursor: pointer;display: block;width: 100%;margin-bottom: 0;padding: 0.3em;box-sizing: border-box;text-align: center;}#sk-container-id-1 label.sk-toggleable__label-arrow:before {content: \"▸\";float: left;margin-right: 0.25em;color: #696969;}#sk-container-id-1 label.sk-toggleable__label-arrow:hover:before {color: black;}#sk-container-id-1 div.sk-estimator:hover label.sk-toggleable__label-arrow:before {color: black;}#sk-container-id-1 div.sk-toggleable__content {max-height: 0;max-width: 0;overflow: hidden;text-align: left;background-color: #f0f8ff;}#sk-container-id-1 div.sk-toggleable__content pre {margin: 0.2em;color: black;border-radius: 0.25em;background-color: #f0f8ff;}#sk-container-id-1 input.sk-toggleable__control:checked~div.sk-toggleable__content {max-height: 200px;max-width: 100%;overflow: auto;}#sk-container-id-1 input.sk-toggleable__control:checked~label.sk-toggleable__label-arrow:before {content: \"▾\";}#sk-container-id-1 div.sk-estimator input.sk-toggleable__control:checked~label.sk-toggleable__label {background-color: #d4ebff;}#sk-container-id-1 div.sk-label input.sk-toggleable__control:checked~label.sk-toggleable__label {background-color: #d4ebff;}#sk-container-id-1 input.sk-hidden--visually {border: 0;clip: rect(1px 1px 1px 1px);clip: rect(1px, 1px, 1px, 1px);height: 1px;margin: -1px;overflow: hidden;padding: 0;position: absolute;width: 1px;}#sk-container-id-1 div.sk-estimator {font-family: monospace;background-color: #f0f8ff;border: 1px dotted black;border-radius: 0.25em;box-sizing: border-box;margin-bottom: 0.5em;}#sk-container-id-1 div.sk-estimator:hover {background-color: #d4ebff;}#sk-container-id-1 div.sk-parallel-item::after {content: \"\";width: 100%;border-bottom: 1px solid gray;flex-grow: 1;}#sk-container-id-1 div.sk-label:hover label.sk-toggleable__label {background-color: #d4ebff;}#sk-container-id-1 div.sk-serial::before {content: \"\";position: absolute;border-left: 1px solid gray;box-sizing: border-box;top: 0;bottom: 0;left: 50%;z-index: 0;}#sk-container-id-1 div.sk-serial {display: flex;flex-direction: column;align-items: center;background-color: white;padding-right: 0.2em;padding-left: 0.2em;position: relative;}#sk-container-id-1 div.sk-item {position: relative;z-index: 1;}#sk-container-id-1 div.sk-parallel {display: flex;align-items: stretch;justify-content: center;background-color: white;position: relative;}#sk-container-id-1 div.sk-item::before, #sk-container-id-1 div.sk-parallel-item::before {content: \"\";position: absolute;border-left: 1px solid gray;box-sizing: border-box;top: 0;bottom: 0;left: 50%;z-index: -1;}#sk-container-id-1 div.sk-parallel-item {display: flex;flex-direction: column;z-index: 1;position: relative;background-color: white;}#sk-container-id-1 div.sk-parallel-item:first-child::after {align-self: flex-end;width: 50%;}#sk-container-id-1 div.sk-parallel-item:last-child::after {align-self: flex-start;width: 50%;}#sk-container-id-1 div.sk-parallel-item:only-child::after {width: 0;}#sk-container-id-1 div.sk-dashed-wrapped {border: 1px dashed gray;margin: 0 0.4em 0.5em 0.4em;box-sizing: border-box;padding-bottom: 0.4em;background-color: white;}#sk-container-id-1 div.sk-label label {font-family: monospace;font-weight: bold;display: inline-block;line-height: 1.2em;}#sk-container-id-1 div.sk-label-container {text-align: center;}#sk-container-id-1 div.sk-container {/* jupyter's `normalize.less` sets `[hidden] { display: none; }` but bootstrap.min.css set `[hidden] { display: none !important; }` so we also need the `!important` here to be able to override the default hidden behavior on the sphinx rendered scikit-learn.org. See: https://github.com/scikit-learn/scikit-learn/issues/21755 */display: inline-block !important;position: relative;}#sk-container-id-1 div.sk-text-repr-fallback {display: none;}</style><div id=\"sk-container-id-1\" class=\"sk-top-container\"><div class=\"sk-text-repr-fallback\"><pre>GridSearchCV(cv=10, estimator=KNeighborsClassifier(),\n",
       "             param_grid={&#x27;n_neighbors&#x27;: [1, 2, 3, 4, 5, 6, 7, 8, 9, 10, 11, 12,\n",
       "                                         13, 14, 15, 16, 17, 18, 19, 20]})</pre><b>In a Jupyter environment, please rerun this cell to show the HTML representation or trust the notebook. <br />On GitHub, the HTML representation is unable to render, please try loading this page with nbviewer.org.</b></div><div class=\"sk-container\" hidden><div class=\"sk-item sk-dashed-wrapped\"><div class=\"sk-label-container\"><div class=\"sk-label sk-toggleable\"><input class=\"sk-toggleable__control sk-hidden--visually\" id=\"sk-estimator-id-1\" type=\"checkbox\" ><label for=\"sk-estimator-id-1\" class=\"sk-toggleable__label sk-toggleable__label-arrow\">GridSearchCV</label><div class=\"sk-toggleable__content\"><pre>GridSearchCV(cv=10, estimator=KNeighborsClassifier(),\n",
       "             param_grid={&#x27;n_neighbors&#x27;: [1, 2, 3, 4, 5, 6, 7, 8, 9, 10, 11, 12,\n",
       "                                         13, 14, 15, 16, 17, 18, 19, 20]})</pre></div></div></div><div class=\"sk-parallel\"><div class=\"sk-parallel-item\"><div class=\"sk-item\"><div class=\"sk-label-container\"><div class=\"sk-label sk-toggleable\"><input class=\"sk-toggleable__control sk-hidden--visually\" id=\"sk-estimator-id-2\" type=\"checkbox\" ><label for=\"sk-estimator-id-2\" class=\"sk-toggleable__label sk-toggleable__label-arrow\">estimator: KNeighborsClassifier</label><div class=\"sk-toggleable__content\"><pre>KNeighborsClassifier()</pre></div></div></div><div class=\"sk-serial\"><div class=\"sk-item\"><div class=\"sk-estimator sk-toggleable\"><input class=\"sk-toggleable__control sk-hidden--visually\" id=\"sk-estimator-id-3\" type=\"checkbox\" ><label for=\"sk-estimator-id-3\" class=\"sk-toggleable__label sk-toggleable__label-arrow\">KNeighborsClassifier</label><div class=\"sk-toggleable__content\"><pre>KNeighborsClassifier()</pre></div></div></div></div></div></div></div></div></div></div>"
      ],
      "text/plain": [
       "GridSearchCV(cv=10, estimator=KNeighborsClassifier(),\n",
       "             param_grid={'n_neighbors': [1, 2, 3, 4, 5, 6, 7, 8, 9, 10, 11, 12,\n",
       "                                         13, 14, 15, 16, 17, 18, 19, 20]})"
      ]
     },
     "execution_count": 6,
     "metadata": {},
     "output_type": "execute_result"
    }
   ],
   "source": [
    "model_knn.fit(X_train_knn,y_train_knn)"
   ]
  },
  {
   "cell_type": "code",
   "execution_count": 7,
   "metadata": {
    "id": "Sl0QCpUo2r0q"
   },
   "outputs": [
    {
     "name": "stdout",
     "output_type": "stream",
     "text": [
      "Best value of k is:  {'n_neighbors': 1}\n"
     ]
    }
   ],
   "source": [
    "print('Best value of k is: ', model_knn.best_params_)"
   ]
  },
  {
   "cell_type": "markdown",
   "metadata": {
    "id": "CMD25aLs2wDA"
   },
   "source": [
    "### Accuracy"
   ]
  },
  {
   "cell_type": "code",
   "execution_count": 8,
   "metadata": {
    "id": "Sn8_xrg92ygv"
   },
   "outputs": [
    {
     "name": "stdout",
     "output_type": "stream",
     "text": [
      "0.26625\n"
     ]
    }
   ],
   "source": [
    "y_pred_knn = model_knn.predict(X_test_knn)\n",
    "print(accuracy_score(y_pred_knn,y_test_knn))"
   ]
  },
  {
   "cell_type": "markdown",
   "metadata": {
    "id": "E5Z9zq_226Z3"
   },
   "source": [
    "----------------------------"
   ]
  },
  {
   "cell_type": "markdown",
   "metadata": {
    "id": "tBnEFRDS3DGg"
   },
   "source": [
    "# Lenet 5 Architecture"
   ]
  },
  {
   "cell_type": "markdown",
   "metadata": {
    "id": "xag-A27O3I6M"
   },
   "source": [
    "### Importing and labelling the Data"
   ]
  },
  {
   "cell_type": "code",
   "execution_count": 2,
   "metadata": {
    "id": "F9Utxuah2805"
   },
   "outputs": [],
   "source": [
    "image_files = glob.glob1('D:/college/Research/NIST/Biometrics-Project-main/png_txt/half_data', '*.png')\n",
    "\n",
    "X_cnn_im,y_cnn_im = [], []\n",
    "dir = 'D:/college/Research/NIST/Biometrics-Project-main/png_txt/half_data/'\n",
    "for image in sorted(image_files):\n",
    "\n",
    "  X_cnn_im.append(plt.imread(dir+image))\n",
    "  y_cnn_im.append(str(image[0]))"
   ]
  },
  {
   "cell_type": "code",
   "execution_count": 3,
   "metadata": {
    "id": "ZHjHA_8P5Xp_"
   },
   "outputs": [],
   "source": [
    "# converting to numpy array\n",
    "X_cnn = np.array(X_cnn_im)\n",
    "y_cnn = np.array(y_cnn_im)"
   ]
  },
  {
   "cell_type": "code",
   "execution_count": 4,
   "metadata": {},
   "outputs": [],
   "source": [
    "# Label Encoding the classes\n",
    "import sklearn\n",
    "from sklearn.preprocessing import LabelEncoder\n",
    "encde=LabelEncoder()\n",
    "y_cnn=encde.fit_transform(y_cnn)"
   ]
  },
  {
   "cell_type": "markdown",
   "metadata": {
    "id": "HaqfAQAb3nnp"
   },
   "source": [
    "### Splitting the data"
   ]
  },
  {
   "cell_type": "code",
   "execution_count": 5,
   "metadata": {
    "id": "UfO8RK1K3TF-"
   },
   "outputs": [],
   "source": [
    "X_train_cnn, X_test_cnn, y_train_cnn, y_test_cnn = train_test_split(X_cnn, y_cnn, test_size=0.25, random_state=42)"
   ]
  },
  {
   "cell_type": "markdown",
   "metadata": {
    "id": "laPDMOIo3wcr"
   },
   "source": [
    "### Building the LeNet-5 Architecture and training the model"
   ]
  },
  {
   "cell_type": "code",
   "execution_count": 6,
   "metadata": {
    "colab": {
     "base_uri": "https://localhost:8080/"
    },
    "id": "QC2R1Yul3vPO",
    "outputId": "4818d53c-3150-40c4-f0af-af21f532216d"
   },
   "outputs": [
    {
     "name": "stdout",
     "output_type": "stream",
     "text": [
      "Model: \"sequential\"\n",
      "_________________________________________________________________\n",
      " Layer (type)                Output Shape              Param #   \n",
      "=================================================================\n",
      " conv2d (Conv2D)             (None, 510, 510, 6)       60        \n",
      "                                                                 \n",
      " average_pooling2d (AverageP  (None, 255, 255, 6)      0         \n",
      " ooling2D)                                                       \n",
      "                                                                 \n",
      " conv2d_1 (Conv2D)           (None, 253, 253, 16)      880       \n",
      "                                                                 \n",
      " average_pooling2d_1 (Averag  (None, 126, 126, 16)     0         \n",
      " ePooling2D)                                                     \n",
      "                                                                 \n",
      " flatten (Flatten)           (None, 254016)            0         \n",
      "                                                                 \n",
      " dense (Dense)               (None, 120)               30482040  \n",
      "                                                                 \n",
      " dense_1 (Dense)             (None, 84)                10164     \n",
      "                                                                 \n",
      " dense_2 (Dense)             (None, 5)                 425       \n",
      "                                                                 \n",
      "=================================================================\n",
      "Total params: 30,493,569\n",
      "Trainable params: 30,493,569\n",
      "Non-trainable params: 0\n",
      "_________________________________________________________________\n"
     ]
    }
   ],
   "source": [
    "model_lenet = keras.Sequential()\n",
    "\n",
    "model_lenet.add(layers.Conv2D(filters=6, kernel_size=(3, 3), activation='relu', input_shape=(512,512,1)))\n",
    "model_lenet.add(layers.AveragePooling2D())\n",
    "\n",
    "model_lenet.add(layers.Conv2D(filters=16, kernel_size=(3, 3), activation='relu'))\n",
    "model_lenet.add(layers.AveragePooling2D())\n",
    "\n",
    "model_lenet.add(layers.Flatten())\n",
    "\n",
    "model_lenet.add(layers.Dense(units=120, activation='relu'))\n",
    "\n",
    "model_lenet.add(layers.Dense(units=84, activation='relu'))\n",
    "\n",
    "model_lenet.add(layers.Dense(units=5, activation = 'softmax'))\n",
    "\n",
    "model_lenet.summary()"
   ]
  },
  {
   "cell_type": "code",
   "execution_count": 7,
   "metadata": {
    "id": "44j2hxrm4eUM"
   },
   "outputs": [],
   "source": [
    "model_lenet.compile(loss=keras.metrics.sparse_categorical_crossentropy, optimizer=keras.optimizers.Adam(), metrics=['accuracy'])"
   ]
  },
  {
   "cell_type": "code",
   "execution_count": 8,
   "metadata": {
    "id": "LqhuxIE44nFh",
    "scrolled": true
   },
   "outputs": [
    {
     "name": "stdout",
     "output_type": "stream",
     "text": [
      "Epoch 1/30\n",
      "20/20 [==============================] - 12s 257ms/step - loss: 3.4185 - accuracy: 0.2025 - val_loss: 1.6263 - val_accuracy: 0.2301\n",
      "Epoch 2/30\n",
      "20/20 [==============================] - 3s 167ms/step - loss: 1.6020 - accuracy: 0.2810 - val_loss: 1.5837 - val_accuracy: 0.2655\n",
      "Epoch 3/30\n",
      "20/20 [==============================] - 3s 168ms/step - loss: 1.4185 - accuracy: 0.4443 - val_loss: 1.3466 - val_accuracy: 0.4513\n",
      "Epoch 4/30\n",
      "20/20 [==============================] - 3s 169ms/step - loss: 0.8627 - accuracy: 0.7347 - val_loss: 1.2543 - val_accuracy: 0.5044\n",
      "Epoch 5/30\n",
      "20/20 [==============================] - 3s 168ms/step - loss: 0.3751 - accuracy: 0.9105 - val_loss: 1.2315 - val_accuracy: 0.4779\n",
      "Epoch 6/30\n",
      "20/20 [==============================] - 3s 169ms/step - loss: 0.1719 - accuracy: 0.9670 - val_loss: 1.2866 - val_accuracy: 0.4956\n",
      "Epoch 7/30\n",
      "20/20 [==============================] - 3s 168ms/step - loss: 0.0708 - accuracy: 0.9969 - val_loss: 1.2073 - val_accuracy: 0.5310\n",
      "Epoch 8/30\n",
      "20/20 [==============================] - 3s 170ms/step - loss: 0.0253 - accuracy: 0.9969 - val_loss: 1.2119 - val_accuracy: 0.5310\n",
      "Epoch 9/30\n",
      "20/20 [==============================] - 3s 168ms/step - loss: 0.0128 - accuracy: 1.0000 - val_loss: 1.2073 - val_accuracy: 0.5664\n",
      "Epoch 10/30\n",
      "20/20 [==============================] - 3s 168ms/step - loss: 0.0068 - accuracy: 1.0000 - val_loss: 1.2290 - val_accuracy: 0.5575\n",
      "Epoch 11/30\n",
      "20/20 [==============================] - 3s 170ms/step - loss: 0.0046 - accuracy: 1.0000 - val_loss: 1.2398 - val_accuracy: 0.5575\n",
      "Epoch 12/30\n",
      "20/20 [==============================] - 3s 169ms/step - loss: 0.0033 - accuracy: 1.0000 - val_loss: 1.2238 - val_accuracy: 0.5487\n",
      "Epoch 13/30\n",
      "20/20 [==============================] - 3s 169ms/step - loss: 0.0025 - accuracy: 1.0000 - val_loss: 1.2295 - val_accuracy: 0.5575\n",
      "Epoch 14/30\n",
      "20/20 [==============================] - 3s 168ms/step - loss: 0.0019 - accuracy: 1.0000 - val_loss: 1.2790 - val_accuracy: 0.5487\n",
      "Epoch 15/30\n",
      "20/20 [==============================] - 3s 167ms/step - loss: 0.0015 - accuracy: 1.0000 - val_loss: 1.2979 - val_accuracy: 0.5575\n",
      "Epoch 16/30\n",
      "20/20 [==============================] - 3s 168ms/step - loss: 0.0012 - accuracy: 1.0000 - val_loss: 1.3184 - val_accuracy: 0.5221\n",
      "Epoch 17/30\n",
      "20/20 [==============================] - 3s 169ms/step - loss: 0.0010 - accuracy: 1.0000 - val_loss: 1.3253 - val_accuracy: 0.5221\n",
      "Epoch 18/30\n",
      "20/20 [==============================] - 3s 169ms/step - loss: 8.2062e-04 - accuracy: 1.0000 - val_loss: 1.3477 - val_accuracy: 0.5487\n",
      "Epoch 19/30\n",
      "20/20 [==============================] - 3s 169ms/step - loss: 7.3330e-04 - accuracy: 1.0000 - val_loss: 1.3213 - val_accuracy: 0.5133\n",
      "Epoch 20/30\n",
      "20/20 [==============================] - 3s 175ms/step - loss: 6.4579e-04 - accuracy: 1.0000 - val_loss: 1.3785 - val_accuracy: 0.5133\n",
      "Epoch 21/30\n",
      "20/20 [==============================] - 3s 168ms/step - loss: 5.2553e-04 - accuracy: 1.0000 - val_loss: 1.3448 - val_accuracy: 0.5221\n",
      "Epoch 22/30\n",
      "20/20 [==============================] - 3s 172ms/step - loss: 4.5334e-04 - accuracy: 1.0000 - val_loss: 1.3834 - val_accuracy: 0.4867\n",
      "Epoch 23/30\n",
      "20/20 [==============================] - 4s 176ms/step - loss: 4.1441e-04 - accuracy: 1.0000 - val_loss: 1.3658 - val_accuracy: 0.4956\n",
      "Epoch 24/30\n",
      "20/20 [==============================] - 3s 169ms/step - loss: 3.4261e-04 - accuracy: 1.0000 - val_loss: 1.3957 - val_accuracy: 0.5044\n",
      "Epoch 25/30\n",
      "20/20 [==============================] - 3s 168ms/step - loss: 3.0089e-04 - accuracy: 1.0000 - val_loss: 1.3521 - val_accuracy: 0.5133\n",
      "Epoch 26/30\n",
      "20/20 [==============================] - 3s 169ms/step - loss: 2.8656e-04 - accuracy: 1.0000 - val_loss: 1.3894 - val_accuracy: 0.5044\n",
      "Epoch 27/30\n",
      "20/20 [==============================] - 3s 169ms/step - loss: 2.5966e-04 - accuracy: 1.0000 - val_loss: 1.3989 - val_accuracy: 0.4956\n",
      "Epoch 28/30\n",
      "20/20 [==============================] - 3s 169ms/step - loss: 2.3268e-04 - accuracy: 1.0000 - val_loss: 1.3769 - val_accuracy: 0.5044\n",
      "Epoch 29/30\n",
      "20/20 [==============================] - 3s 173ms/step - loss: 2.1536e-04 - accuracy: 1.0000 - val_loss: 1.4055 - val_accuracy: 0.4956\n",
      "Epoch 30/30\n",
      "20/20 [==============================] - 3s 169ms/step - loss: 1.9485e-04 - accuracy: 1.0000 - val_loss: 1.4294 - val_accuracy: 0.4867\n"
     ]
    }
   ],
   "source": [
    "tf.debugging.set_log_device_placement(True)\n",
    "with tf.device('/GPU:0'):\n",
    "    history_lenet = model_lenet.fit(X_train_cnn, y_train_cnn, batch_size=32, epochs=30, validation_split=0.15, verbose=1)"
   ]
  },
  {
   "cell_type": "code",
   "execution_count": 9,
   "metadata": {},
   "outputs": [
    {
     "name": "stdout",
     "output_type": "stream",
     "text": [
      "8/8 [==============================] - 1s 63ms/step - loss: 1.5070 - accuracy: 0.5440\n",
      "test loss, test accuracy:  [1.5069551467895508, 0.5440000295639038]\n"
     ]
    }
   ],
   "source": [
    "print('test loss, test accuracy: ', model_lenet.evaluate(X_test_cnn, y_test_cnn))"
   ]
  },
  {
   "cell_type": "markdown",
   "metadata": {},
   "source": [
    "### LeNet-5 Training Visualisation"
   ]
  },
  {
   "cell_type": "code",
   "execution_count": 10,
   "metadata": {},
   "outputs": [
    {
     "data": {
      "text/plain": [
       "<matplotlib.legend.Legend at 0x236178518b0>"
      ]
     },
     "execution_count": 10,
     "metadata": {},
     "output_type": "execute_result"
    },
    {
     "data": {
      "image/png": "[encoded data removed]",
      "text/plain": [
       "<Figure size 640x480 with 1 Axes>"
      ]
     },
     "metadata": {},
     "output_type": "display_data"
    }
   ],
   "source": [
    "sns.set_style(\"darkgrid\")\n",
    "\n",
    "#get the details form the history object which has the training results\n",
    "acc = history_lenet.history['accuracy']\n",
    "val_acc = history_lenet.history['val_accuracy']\n",
    "loss = history_lenet.history['loss']\n",
    "val_loss = history_lenet.history['val_loss']\n",
    "\n",
    "epochs = range(1, len(acc) + 1)\n",
    "\n",
    "#Train and validation accuracy\n",
    "plt.plot(epochs, acc, 'b', label='Training accurarcy')\n",
    "plt.plot(epochs, val_acc, 'r', label='Validation accurarcy')\n",
    "plt.xlabel('Epoch #')\n",
    "plt.ylabel('accuracy')\n",
    "plt.title('Training and Validation accurarcy')\n",
    "plt.legend()"
   ]
  },
  {
   "cell_type": "markdown",
   "metadata": {},
   "source": [
    "---"
   ]
  },
  {
   "cell_type": "markdown",
   "metadata": {},
   "source": [
    "# AlexNet Architecture"
   ]
  },
  {
   "cell_type": "code",
   "execution_count": 5,
   "metadata": {},
   "outputs": [],
   "source": [
    "# resizing the images for AlexNet\n",
    "X_alex = []\n",
    "for image in X_cnn_im:\n",
    "    X_alex.append(cv.resize(image, (227,227)))\n",
    "\n",
    "# converting to numpy array\n",
    "X_alex = np.array(X_alex)"
   ]
  },
  {
   "cell_type": "code",
   "execution_count": 6,
   "metadata": {},
   "outputs": [
    {
     "data": {
      "text/plain": [
       "(1000, 227, 227)"
      ]
     },
     "execution_count": 6,
     "metadata": {},
     "output_type": "execute_result"
    }
   ],
   "source": [
    "X_alex.shape"
   ]
  },
  {
   "cell_type": "markdown",
   "metadata": {},
   "source": [
    "### Splitting the data"
   ]
  },
  {
   "cell_type": "code",
   "execution_count": 7,
   "metadata": {},
   "outputs": [],
   "source": [
    "X_train_alex, X_test_alex, y_train_alex, y_test_alex = train_test_split(X_alex, y_cnn, test_size=0.25, random_state=42)"
   ]
  },
  {
   "cell_type": "markdown",
   "metadata": {},
   "source": [
    "### Building AlexNet architecture and training the model"
   ]
  },
  {
   "cell_type": "code",
   "execution_count": 8,
   "metadata": {},
   "outputs": [
    {
     "name": "stdout",
     "output_type": "stream",
     "text": [
      "Model: \"sequential\"\n",
      "_________________________________________________________________\n",
      " Layer (type)                Output Shape              Param #   \n",
      "=================================================================\n",
      " conv2d (Conv2D)             (None, 55, 55, 96)        11712     \n",
      "                                                                 \n",
      " batch_normalization (BatchN  (None, 55, 55, 96)       384       \n",
      " ormalization)                                                   \n",
      "                                                                 \n",
      " max_pooling2d (MaxPooling2D  (None, 27, 27, 96)       0         \n",
      " )                                                               \n",
      "                                                                 \n",
      " conv2d_1 (Conv2D)           (None, 27, 27, 256)       614656    \n",
      "                                                                 \n",
      " batch_normalization_1 (Batc  (None, 27, 27, 256)      1024      \n",
      " hNormalization)                                                 \n",
      "                                                                 \n",
      " max_pooling2d_1 (MaxPooling  (None, 13, 13, 256)      0         \n",
      " 2D)                                                             \n",
      "                                                                 \n",
      " conv2d_2 (Conv2D)           (None, 13, 13, 384)       885120    \n",
      "                                                                 \n",
      " batch_normalization_2 (Batc  (None, 13, 13, 384)      1536      \n",
      " hNormalization)                                                 \n",
      "                                                                 \n",
      " conv2d_3 (Conv2D)           (None, 13, 13, 384)       1327488   \n",
      "                                                                 \n",
      " batch_normalization_3 (Batc  (None, 13, 13, 384)      1536      \n",
      " hNormalization)                                                 \n",
      "                                                                 \n",
      " conv2d_4 (Conv2D)           (None, 13, 13, 256)       884992    \n",
      "                                                                 \n",
      " batch_normalization_4 (Batc  (None, 13, 13, 256)      1024      \n",
      " hNormalization)                                                 \n",
      "                                                                 \n",
      " max_pooling2d_2 (MaxPooling  (None, 6, 6, 256)        0         \n",
      " 2D)                                                             \n",
      "                                                                 \n",
      " flatten (Flatten)           (None, 9216)              0         \n",
      "                                                                 \n",
      " dense (Dense)               (None, 4096)              37752832  \n",
      "                                                                 \n",
      " dropout (Dropout)           (None, 4096)              0         \n",
      "                                                                 \n",
      " dense_1 (Dense)             (None, 4096)              16781312  \n",
      "                                                                 \n",
      " dropout_1 (Dropout)         (None, 4096)              0         \n",
      "                                                                 \n",
      " dense_2 (Dense)             (None, 5)                 20485     \n",
      "                                                                 \n",
      "=================================================================\n",
      "Total params: 58,284,101\n",
      "Trainable params: 58,281,349\n",
      "Non-trainable params: 2,752\n",
      "_________________________________________________________________\n"
     ]
    }
   ],
   "source": [
    "model_alexnet = keras.models.Sequential([\n",
    "    keras.layers.Conv2D(filters=96, kernel_size=(11,11), strides=(4,4), activation='relu', input_shape=(227,227,1)),\n",
    "    keras.layers.BatchNormalization(),\n",
    "    keras.layers.MaxPool2D(pool_size=(3,3), strides=(2,2)),\n",
    "    keras.layers.Conv2D(filters=256, kernel_size=(5,5), strides=(1,1), activation='relu', padding=\"same\"),\n",
    "    keras.layers.BatchNormalization(),\n",
    "    keras.layers.MaxPool2D(pool_size=(3,3), strides=(2,2)),\n",
    "    keras.layers.Conv2D(filters=384, kernel_size=(3,3), strides=(1,1), activation='relu', padding=\"same\"),\n",
    "    keras.layers.BatchNormalization(),\n",
    "    keras.layers.Conv2D(filters=384, kernel_size=(3,3), strides=(1,1), activation='relu', padding=\"same\"),\n",
    "    keras.layers.BatchNormalization(),\n",
    "    keras.layers.Conv2D(filters=256, kernel_size=(3,3), strides=(1,1), activation='relu', padding=\"same\"),\n",
    "    keras.layers.BatchNormalization(),\n",
    "    keras.layers.MaxPool2D(pool_size=(3,3), strides=(2,2)),\n",
    "    keras.layers.Flatten(),\n",
    "    keras.layers.Dense(4096, activation='relu'),\n",
    "    keras.layers.Dropout(0.5),\n",
    "    keras.layers.Dense(4096, activation='relu'),\n",
    "    keras.layers.Dropout(0.5),\n",
    "    keras.layers.Dense(5, activation='softmax')\n",
    "])\n",
    "\n",
    "model_alexnet.summary()"
   ]
  },
  {
   "cell_type": "code",
   "execution_count": 9,
   "metadata": {},
   "outputs": [],
   "source": [
    "model_alexnet.compile(loss=keras.metrics.sparse_categorical_crossentropy, optimizer=keras.optimizers.Adam(), metrics=['accuracy'])"
   ]
  },
  {
   "cell_type": "code",
   "execution_count": 10,
   "metadata": {},
   "outputs": [
    {
     "name": "stdout",
     "output_type": "stream",
     "text": [
      "Epoch 1/30\n",
      "20/20 [==============================] - 10s 219ms/step - loss: 23.7445 - accuracy: 0.2261 - val_loss: 46.3275 - val_accuracy: 0.1858\n",
      "Epoch 2/30\n",
      "20/20 [==============================] - 2s 85ms/step - loss: 2.9874 - accuracy: 0.2245 - val_loss: 2.6707 - val_accuracy: 0.2035\n",
      "Epoch 3/30\n",
      "20/20 [==============================] - 2s 86ms/step - loss: 1.9687 - accuracy: 0.2261 - val_loss: 2.2395 - val_accuracy: 0.1947\n",
      "Epoch 4/30\n",
      "20/20 [==============================] - 2s 85ms/step - loss: 1.7285 - accuracy: 0.2370 - val_loss: 2.0559 - val_accuracy: 0.2124\n",
      "Epoch 5/30\n",
      "20/20 [==============================] - 2s 85ms/step - loss: 1.6687 - accuracy: 0.2276 - val_loss: 2.2500 - val_accuracy: 0.2301\n",
      "Epoch 6/30\n",
      "20/20 [==============================] - 2s 85ms/step - loss: 1.6435 - accuracy: 0.2669 - val_loss: 1.9760 - val_accuracy: 0.1681\n",
      "Epoch 7/30\n",
      "20/20 [==============================] - 2s 84ms/step - loss: 1.6653 - accuracy: 0.2166 - val_loss: 2.5748 - val_accuracy: 0.2301\n",
      "Epoch 8/30\n",
      "20/20 [==============================] - 2s 85ms/step - loss: 1.6490 - accuracy: 0.1931 - val_loss: 2.4823 - val_accuracy: 0.1858\n",
      "Epoch 9/30\n",
      "20/20 [==============================] - 2s 85ms/step - loss: 1.6073 - accuracy: 0.2198 - val_loss: 2.5547 - val_accuracy: 0.2212\n",
      "Epoch 10/30\n",
      "20/20 [==============================] - 2s 85ms/step - loss: 1.5778 - accuracy: 0.2527 - val_loss: 2.3486 - val_accuracy: 0.1681\n",
      "Epoch 11/30\n",
      "20/20 [==============================] - 2s 85ms/step - loss: 1.5725 - accuracy: 0.2512 - val_loss: 2.9568 - val_accuracy: 0.1593\n",
      "Epoch 12/30\n",
      "20/20 [==============================] - 2s 85ms/step - loss: 1.5435 - accuracy: 0.2732 - val_loss: 2.6783 - val_accuracy: 0.1770\n",
      "Epoch 13/30\n",
      "20/20 [==============================] - 2s 85ms/step - loss: 1.5586 - accuracy: 0.2889 - val_loss: 9.0793 - val_accuracy: 0.2301\n",
      "Epoch 14/30\n",
      "20/20 [==============================] - 2s 86ms/step - loss: 1.5326 - accuracy: 0.2983 - val_loss: 8.6508 - val_accuracy: 0.2389\n",
      "Epoch 15/30\n",
      "20/20 [==============================] - 2s 86ms/step - loss: 1.5375 - accuracy: 0.2967 - val_loss: 1.5892 - val_accuracy: 0.2655\n",
      "Epoch 16/30\n",
      "20/20 [==============================] - 2s 85ms/step - loss: 1.5707 - accuracy: 0.2794 - val_loss: 1.6015 - val_accuracy: 0.2301\n",
      "Epoch 17/30\n",
      "20/20 [==============================] - 2s 86ms/step - loss: 1.5435 - accuracy: 0.2951 - val_loss: 1.6126 - val_accuracy: 0.2478\n",
      "Epoch 18/30\n",
      "20/20 [==============================] - 2s 86ms/step - loss: 1.5091 - accuracy: 0.2998 - val_loss: 2.0275 - val_accuracy: 0.1947\n",
      "Epoch 19/30\n",
      "20/20 [==============================] - 2s 85ms/step - loss: 1.5060 - accuracy: 0.3187 - val_loss: 3.8714 - val_accuracy: 0.1858\n",
      "Epoch 20/30\n",
      "20/20 [==============================] - 2s 86ms/step - loss: 1.5485 - accuracy: 0.2967 - val_loss: 1.5573 - val_accuracy: 0.2478\n",
      "Epoch 21/30\n",
      "20/20 [==============================] - 2s 85ms/step - loss: 1.5466 - accuracy: 0.2653 - val_loss: 1.5133 - val_accuracy: 0.3363\n",
      "Epoch 22/30\n",
      "20/20 [==============================] - 2s 85ms/step - loss: 1.5181 - accuracy: 0.2841 - val_loss: 1.5722 - val_accuracy: 0.2124\n",
      "Epoch 23/30\n",
      "20/20 [==============================] - 2s 85ms/step - loss: 1.5215 - accuracy: 0.3281 - val_loss: 4.0036 - val_accuracy: 0.2478\n",
      "Epoch 24/30\n",
      "20/20 [==============================] - 2s 85ms/step - loss: 1.5598 - accuracy: 0.3328 - val_loss: 18.2347 - val_accuracy: 0.1858\n",
      "Epoch 25/30\n",
      "20/20 [==============================] - 2s 85ms/step - loss: 1.6397 - accuracy: 0.3124 - val_loss: 1.9179 - val_accuracy: 0.2212\n",
      "Epoch 26/30\n",
      "20/20 [==============================] - 2s 85ms/step - loss: 1.5056 - accuracy: 0.2873 - val_loss: 1.7882 - val_accuracy: 0.2212\n",
      "Epoch 27/30\n",
      "20/20 [==============================] - 2s 86ms/step - loss: 1.4439 - accuracy: 0.3407 - val_loss: 2.1403 - val_accuracy: 0.2478\n",
      "Epoch 28/30\n",
      "20/20 [==============================] - 2s 85ms/step - loss: 1.4632 - accuracy: 0.3391 - val_loss: 3.8227 - val_accuracy: 0.2124\n",
      "Epoch 29/30\n",
      "20/20 [==============================] - 2s 86ms/step - loss: 1.4290 - accuracy: 0.3359 - val_loss: 7.8047 - val_accuracy: 0.1858\n",
      "Epoch 30/30\n",
      "20/20 [==============================] - 2s 85ms/step - loss: 1.5164 - accuracy: 0.3203 - val_loss: 24.6028 - val_accuracy: 0.1858\n"
     ]
    }
   ],
   "source": [
    "with tf.device('/GPU:0'):\n",
    "    history_alexnet = model_alexnet.fit(X_train_alex, y_train_alex, batch_size=32, epochs=30, validation_split=0.15, verbose=1)"
   ]
  },
  {
   "cell_type": "code",
   "execution_count": 11,
   "metadata": {},
   "outputs": [
    {
     "name": "stdout",
     "output_type": "stream",
     "text": [
      "8/8 [==============================] - 1s 158ms/step - loss: 24.8752 - accuracy: 0.1680\n",
      "test loss, test accuracy:  [24.875205993652344, 0.1679999977350235]\n"
     ]
    }
   ],
   "source": [
    "print('test loss, test accuracy: ', model_alexnet.evaluate(X_test_alex, y_test_alex))"
   ]
  },
  {
   "cell_type": "markdown",
   "metadata": {},
   "source": [
    "### AlexNet Training Visualisation"
   ]
  },
  {
   "cell_type": "code",
   "execution_count": 12,
   "metadata": {},
   "outputs": [
    {
     "data": {
      "text/plain": [
       "<matplotlib.legend.Legend at 0x1f1fad38dc0>"
      ]
     },
     "execution_count": 12,
     "metadata": {},
     "output_type": "execute_result"
    },
    {
     "data": {
      "image/png": "[encoded data removed]",
      "text/plain": [
       "<Figure size 640x480 with 1 Axes>"
      ]
     },
     "metadata": {},
     "output_type": "display_data"
    }
   ],
   "source": [
    "sns.set_style(\"darkgrid\")\n",
    "\n",
    "#get the details form the history object which has the training results\n",
    "acc = history_alexnet.history['accuracy']\n",
    "val_acc = history_alexnet.history['val_accuracy']\n",
    "loss = history_alexnet.history['loss']\n",
    "val_loss = history_alexnet.history['val_loss']\n",
    "\n",
    "epochs = range(1, len(acc) + 1)\n",
    "\n",
    "#Train and validation accuracy\n",
    "plt.plot(epochs, acc, 'b', label='Training accurarcy')\n",
    "plt.plot(epochs, val_acc, 'r', label='Validation accurarcy')\n",
    "plt.xlabel('Epoch #')\n",
    "plt.ylabel('accuracy')\n",
    "plt.title('Training and Validation accurarcy')\n",
    "plt.legend()\n"
   ]
  },
  {
   "cell_type": "markdown",
   "metadata": {},
   "source": [
    "---"
   ]
  },
  {
   "cell_type": "markdown",
   "metadata": {},
   "source": [
    "## Results:\n",
    "### - KNN : Accuracy = 26.625%\n",
    "### - LeNet-5 : Accuracy = 54.4%\n",
    "### - AlexNet : Accuracy = 16.8%\n",
    "\n",
    "### Lenet is clearly the best baseline model for images without any preprocessing but even this architecture overfits as we can see that the LeNet training accuracy becomes constant at 100% after epoch 10 but it's validation and test accuracy are very low. \n",
    "### This shows the need of using better architectures and preprocessed data where we input Orientation Maps of the fingerprints into the models."
   ]
  },
  {
   "cell_type": "markdown",
   "metadata": {},
   "source": [
    "---"
   ]
  }
 ],
 "metadata": {
  "accelerator": "GPU",
  "colab": {
   "provenance": []
  },
  "gpuClass": "standard",
  "kernelspec": {
   "display_name": "Python 3 (ipykernel)",
   "language": "python",
   "name": "python3"
  },
  "language_info": {
   "codemirror_mode": {
    "name": "ipython",
    "version": 3
   },
   "file_extension": ".py",
   "mimetype": "text/x-python",
   "name": "python",
   "nbconvert_exporter": "python",
   "pygments_lexer": "ipython3",
   "version": "3.9.13"
  },
  "vscode": {
   "interpreter": {
    "hash": "3d3907d7b7b6a0fcb038b5b948abe5a6dd916641045e7bdca9eaf9be7a8c87e6"
   }
  }
 },
 "nbformat": 4,
 "nbformat_minor": 1
}
