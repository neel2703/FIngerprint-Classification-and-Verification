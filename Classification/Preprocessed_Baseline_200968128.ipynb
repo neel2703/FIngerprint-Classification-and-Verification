{
 "cells": [
  {
   "cell_type": "code",
   "execution_count": 1,
   "id": "c11fdb9c",
   "metadata": {},
   "outputs": [],
   "source": [
    "# importing necessary libraries\n",
    "import pandas as pd\n",
    "import numpy as np\n",
    "import matplotlib.pyplot as plt\n",
    "from skimage.transform import resize\n",
    "from skimage.io import imread\n",
    "from sklearn.neighbors import KNeighborsClassifier\n",
    "from sklearn.model_selection import GridSearchCV\n",
    "import glob\n",
    "import os\n",
    "from sklearn.model_selection import train_test_split\n",
    "from sklearn.metrics import accuracy_score\n",
    "from sklearn.metrics import confusion_matrix\n",
    "import tensorflow as tf\n",
    "import keras\n",
    "import keras.layers as layers\n",
    "from keras.models import Sequential\n",
    "from keras.preprocessing.image import ImageDataGenerator\n",
    "import matplotlib.pyplot as plt\n",
    "import seaborn as sns\n",
    "import cv2 as cv\n",
    "from math import sqrt\n",
    "import math\n",
    "import scipy\n",
    "import scipy.ndimage\n",
    "from skimage.morphology import skeletonize as skelt\n",
    "from skimage.morphology import thin\n",
    "# from google.colab.patches import cv2_imshow"
   ]
  },
  {
   "cell_type": "markdown",
   "id": "794a958a",
   "metadata": {},
   "source": [
    "#### Only 2000 images out of the 4000 images available in the NIST-4 database were used due to system constraints. These results wont be as accurate as the results mentioned in the research papers due to less data being used"
   ]
  },
  {
   "cell_type": "markdown",
   "id": "7cda8ed8",
   "metadata": {},
   "source": [
    "# Pre-Processing step functions"
   ]
  },
  {
   "cell_type": "markdown",
   "id": "3abcb575",
   "metadata": {},
   "source": [
    "### Normalisation"
   ]
  },
  {
   "cell_type": "code",
   "execution_count": 2,
   "id": "de557cb1",
   "metadata": {},
   "outputs": [],
   "source": [
    "def normalize_pixel(x, v0, v, m, m0):\n",
    "    \"\"\"\n",
    "    From Handbook of Fingerprint Recognition pg 133\n",
    "    Normalize job used by Hong, Wan and Jain(1998)\n",
    "    similar to https://pdfs.semanticscholar.org/6e86/1d0b58bdf7e2e2bb0ecbf274cee6974fe13f.pdf equation 21\n",
    "    :param x: pixel value\n",
    "    :param v0: desired variance\n",
    "    :param v: global image variance\n",
    "    :param m: global image mean\n",
    "    :param m0: desired mean\n",
    "    :return: normilized pixel\n",
    "    \"\"\"\n",
    "    dev_coeff = sqrt((v0 * ((x - m)**2)) / v)\n",
    "    return m0 + dev_coeff if x > m else m0 - dev_coeff\n",
    "\n",
    "def normalize(im, m0, v0):\n",
    "    m = np.mean(im)\n",
    "    v = np.std(im) ** 2\n",
    "    (y, x) = im.shape\n",
    "    normilize_image = im.copy()\n",
    "    for i in range(x):\n",
    "        for j in range(y):\n",
    "            normilize_image[j, i] = normalize_pixel(im[j, i], v0, v, m, m0)\n",
    "\n",
    "    return normilize_image"
   ]
  },
  {
   "cell_type": "markdown",
   "id": "e4b37f76",
   "metadata": {},
   "source": [
    "### Segmentation"
   ]
  },
  {
   "cell_type": "code",
   "execution_count": 3,
   "id": "3287de87",
   "metadata": {},
   "outputs": [],
   "source": [
    "def normalise(img):\n",
    "    return (img - np.mean(img))/(np.std(img))\n",
    "\n",
    "\n",
    "def create_segmented_and_variance_images(im, w, threshold=.2):\n",
    "    \"\"\"\n",
    "    Returns mask identifying the ROI. Calculates the standard deviation in each image block and threshold the ROI\n",
    "    It also normalises the intesity values of\n",
    "    the image so that the ridge regions have zero mean, unit standard\n",
    "    deviation.\n",
    "    :param im: Image\n",
    "    :param w: size of the block\n",
    "    :param threshold: std threshold\n",
    "    :return: segmented_image\n",
    "    \"\"\"\n",
    "    (y, x) = im.shape\n",
    "    threshold = np.std(im)*threshold\n",
    "\n",
    "    image_variance = np.zeros(im.shape)\n",
    "    segmented_image = im.copy()\n",
    "    mask = np.ones_like(im)\n",
    "\n",
    "    for i in range(0, x, w):\n",
    "        for j in range(0, y, w):\n",
    "            box = [i, j, min(i + w, x), min(j + w, y)]\n",
    "            block_stddev = np.std(im[box[1]:box[3], box[0]:box[2]])\n",
    "            image_variance[box[1]:box[3], box[0]:box[2]] = block_stddev\n",
    "\n",
    "    # apply threshold\n",
    "    mask[image_variance < threshold] = 0\n",
    "\n",
    "    # smooth mask with a open/close morphological filter\n",
    "    kernel = cv.getStructuringElement(cv.MORPH_ELLIPSE,(w*2, w*2))\n",
    "    mask = cv.morphologyEx(mask, cv.MORPH_OPEN, kernel)\n",
    "    mask = cv.morphologyEx(mask, cv.MORPH_CLOSE, kernel)\n",
    "\n",
    "    # normalize segmented image\n",
    "    segmented_image *= mask\n",
    "    im = normalise(im)\n",
    "    mean_val = np.mean(im[mask==0])\n",
    "    std_val = np.std(im[mask==0])\n",
    "    norm_img = (im - mean_val)/(std_val)\n",
    "\n",
    "    return segmented_image, norm_img, mask"
   ]
  },
  {
   "cell_type": "markdown",
   "id": "d26114d7",
   "metadata": {},
   "source": [
    "### Orientation Map"
   ]
  },
  {
   "cell_type": "code",
   "execution_count": 4,
   "id": "17ea8b58",
   "metadata": {},
   "outputs": [],
   "source": [
    "def calculate_angles(im, W, smoth=False):\n",
    "    \"\"\"\n",
    "    anisotropy orientation estimate, based on equations 5 from:\n",
    "    https://pdfs.semanticscholar.org/6e86/1d0b58bdf7e2e2bb0ecbf274cee6974fe13f.pdf\n",
    "    :param im:\n",
    "    :param W: int width of the ridge\n",
    "    :return: array\n",
    "    \"\"\"\n",
    "    j1 = lambda x, y: 2 * x * y\n",
    "    j2 = lambda x, y: x ** 2 - y ** 2\n",
    "    j3 = lambda x, y: x ** 2 + y ** 2\n",
    "\n",
    "    (y, x) = im.shape\n",
    "\n",
    "    sobelOperator = [[-1, 0, 1], [-2, 0, 2], [-1, 0, 1]]\n",
    "    ySobel = np.array(sobelOperator).astype(np.int)\n",
    "    xSobel = np.transpose(ySobel).astype(np.int)\n",
    "\n",
    "    result = [[] for i in range(1, y, W)]\n",
    "\n",
    "    Gx_ = cv.filter2D(im/125,-1, ySobel)*125\n",
    "    Gy_ = cv.filter2D(im/125,-1, xSobel)*125\n",
    "\n",
    "    for j in range(1, y, W):\n",
    "        for i in range(1, x, W):\n",
    "            nominator = 0\n",
    "            denominator = 0\n",
    "            for l in range(j, min(j + W, y - 1)):\n",
    "                for k in range(i, min(i + W , x - 1)):\n",
    "                    Gx = round(Gx_[l, k])  # horizontal gradients at l, k\n",
    "                    Gy = round(Gy_[l, k])  # vertial gradients at l, k\n",
    "                    nominator += j1(Gx, Gy)\n",
    "                    denominator += j2(Gx, Gy)\n",
    "\n",
    "            # nominator = round(np.sum(Gy_[j:min(j + W, y - 1), i:min(i + W , x - 1)]))\n",
    "            # denominator = round(np.sum(Gx_[j:min(j + W, y - 1), i:min(i + W , x - 1)]))\n",
    "            if nominator or denominator:\n",
    "                angle = (math.pi + math.atan2(nominator, denominator)) / 2\n",
    "                orientation = np.pi/2 + math.atan2(nominator,denominator)/2\n",
    "                result[int((j-1) // W)].append(angle)\n",
    "            else:\n",
    "                result[int((j-1) // W)].append(0)\n",
    "\n",
    "            # segment image\n",
    "            # focus_img = im[j:min(j + W, y - 1), i:min(i + W , x - 1)]\n",
    "            # segmentator = -1 if segmentator/W*W < np.max(focus_img)*\n",
    "\n",
    "    result = np.array(result)\n",
    "\n",
    "    if smoth:\n",
    "        result = smooth_angles(result)\n",
    "\n",
    "    return result\n",
    "\n",
    "\n",
    "def gauss(x, y):\n",
    "    ssigma = 1.0\n",
    "    return (1 / (2 * math.pi * ssigma)) * math.exp(-(x * x + y * y) / (2 * ssigma))\n",
    "\n",
    "\n",
    "def kernel_from_function(size, f):\n",
    "    kernel = [[] for i in range(0, size)]\n",
    "    for i in range(0, size):\n",
    "        for j in range(0, size):\n",
    "            kernel[i].append(f(i - size / 2, j - size / 2))\n",
    "    return kernel\n",
    "\n",
    "\n",
    "def smooth_angles(angles):\n",
    "    \"\"\"\n",
    "    reference: https://airccj.org/CSCP/vol7/csit76809.pdf pg91\n",
    "    Practically, it is possible to have a block so noisy that the directional estimate is completely false.\n",
    "    This then causes a very large angular variation between two adjacent blocks. However, a\n",
    "    fingerprint has some directional continuity, such a variation between two adjacent blocks is then\n",
    "    representative of a bad estimate. To eliminate such discontinuities, a low-pass filter is applied to\n",
    "    the directional board.\n",
    "    :param angles:\n",
    "    :return:\n",
    "    \"\"\"\n",
    "    angles = np.array(angles)\n",
    "    cos_angles = np.cos(angles.copy()*2)\n",
    "    sin_angles = np.sin(angles.copy()*2)\n",
    "\n",
    "    kernel = np.array(kernel_from_function(5, gauss))\n",
    "\n",
    "    cos_angles = cv.filter2D(cos_angles/125,-1, kernel)*125\n",
    "    sin_angles = cv.filter2D(sin_angles/125,-1, kernel)*125\n",
    "    smooth_angles = np.arctan2(sin_angles, cos_angles)/2\n",
    "\n",
    "    return smooth_angles\n",
    "\n",
    "\n",
    "def get_line_ends(i, j, W, tang):\n",
    "    if -1 <= tang and tang <= 1:\n",
    "        begin = (i, int((-W/2) * tang + j + W/2))\n",
    "        end = (i + W, int((W/2) * tang + j + W/2))\n",
    "    else:\n",
    "        begin = (int(i + W/2 + W/(2 * tang)), j + W//2)\n",
    "        end = (int(i + W/2 - W/(2 * tang)), j - W//2)\n",
    "    return (begin, end)\n",
    "\n",
    "\n",
    "def visualize_angles(im, mask, angles, W):\n",
    "    (y, x) = im.shape\n",
    "    result = cv.cvtColor(np.zeros(im.shape, np.uint8), cv.COLOR_GRAY2RGB)\n",
    "    mask_threshold = (W-1)**2\n",
    "    for i in range(1, x, W):\n",
    "        for j in range(1, y, W):\n",
    "            radian = np.sum(mask[j - 1:j + W, i-1:i+W])\n",
    "            if radian > mask_threshold:\n",
    "                tang = math.tan(angles[(j - 1) // W][(i - 1) // W])\n",
    "                (begin, end) = get_line_ends(i, j, W, tang)\n",
    "                cv.line(result, begin, end, color=150)\n",
    "\n",
    "    cv.resize(result, im.shape, result)\n",
    "    return result"
   ]
  },
  {
   "cell_type": "markdown",
   "id": "9c760718",
   "metadata": {},
   "source": [
    "---"
   ]
  },
  {
   "cell_type": "markdown",
   "id": "747352de",
   "metadata": {},
   "source": [
    "### Importing Data"
   ]
  },
  {
   "cell_type": "code",
   "execution_count": 5,
   "id": "398ed9eb",
   "metadata": {},
   "outputs": [],
   "source": [
    "image_files = glob.glob1('D:/college/Research/NIST/Biometrics-Project-main/png_txt/half_data', '*.png')\n",
    "\n",
    "X_cnn_im,y_cnn_im = [], []\n",
    "dir = 'D:/college/Research/NIST/Biometrics-Project-main/png_txt/half_data/'\n",
    "for image in sorted(image_files):\n",
    "\n",
    "  X_cnn_im.append(plt.imread(dir+image))\n",
    "  y_cnn_im.append(str(image[0]))"
   ]
  },
  {
   "cell_type": "markdown",
   "id": "81f0398b",
   "metadata": {},
   "source": [
    "### Pre-Processing Pipeline"
   ]
  },
  {
   "cell_type": "code",
   "execution_count": 6,
   "id": "c9e8e46a",
   "metadata": {},
   "outputs": [
    {
     "name": "stderr",
     "output_type": "stream",
     "text": [
      "C:\\Users\\91704\\AppData\\Local\\Temp\\ipykernel_19364\\1413609433.py:16: DeprecationWarning: `np.int` is a deprecated alias for the builtin `int`. To silence this warning, use `int` by itself. Doing this will not modify any behavior and is safe. When replacing `np.int`, you may wish to use e.g. `np.int64` or `np.int32` to specify the precision. If you wish to review your current use, check the release note link for additional information.\n",
      "Deprecated in NumPy 1.20; for more details and guidance: https://numpy.org/devdocs/release/1.20.0-notes.html#deprecations\n",
      "  ySobel = np.array(sobelOperator).astype(np.int)\n",
      "C:\\Users\\91704\\AppData\\Local\\Temp\\ipykernel_19364\\1413609433.py:17: DeprecationWarning: `np.int` is a deprecated alias for the builtin `int`. To silence this warning, use `int` by itself. Doing this will not modify any behavior and is safe. When replacing `np.int`, you may wish to use e.g. `np.int64` or `np.int32` to specify the precision. If you wish to review your current use, check the release note link for additional information.\n",
      "Deprecated in NumPy 1.20; for more details and guidance: https://numpy.org/devdocs/release/1.20.0-notes.html#deprecations\n",
      "  xSobel = np.transpose(ySobel).astype(np.int)\n",
      "C:\\Users\\91704\\AppData\\Local\\Temp\\ipykernel_19364\\3740147011.py:42: RuntimeWarning: divide by zero encountered in divide\n",
      "  norm_img = (im - mean_val)/(std_val)\n",
      "C:\\Users\\91704\\AppData\\Local\\Temp\\ipykernel_19364\\3740147011.py:42: RuntimeWarning: invalid value encountered in divide\n",
      "  norm_img = (im - mean_val)/(std_val)\n"
     ]
    }
   ],
   "source": [
    "X_orient = []\n",
    "for input_img in X_cnn_im:\n",
    "  normalized_img = normalize(input_img.copy(), float(100), float(100))\n",
    "\n",
    "  # ROI and normalisation\n",
    "  (segmented_img, normim, mask) = create_segmented_and_variance_images(normalized_img, 16, 0.2)\n",
    "\n",
    "  # orientations\n",
    "  angles = calculate_angles(normalized_img, W=16, smoth=False)\n",
    "  orientation_img = visualize_angles(segmented_img, mask, angles, W=16)\n",
    "\n",
    "  X_orient.append(orientation_img)\n",
    "\n",
    "# X_orient contains the Orientation maps of the fingerprints which will help our computations immensely"
   ]
  },
  {
   "cell_type": "code",
   "execution_count": 7,
   "id": "362ded0d",
   "metadata": {},
   "outputs": [],
   "source": [
    "# label encoding the classes\n",
    "y_cnn = np.array(y_cnn_im)\n",
    "import sklearn\n",
    "from sklearn.preprocessing import LabelEncoder\n",
    "encde=LabelEncoder()\n",
    "y_encode=encde.fit_transform(y_cnn)"
   ]
  },
  {
   "cell_type": "markdown",
   "id": "3b042c38",
   "metadata": {},
   "source": [
    "---\n",
    "\n",
    "# KNN Model"
   ]
  },
  {
   "cell_type": "code",
   "execution_count": 27,
   "id": "aa21e34b",
   "metadata": {},
   "outputs": [],
   "source": [
    "# flatenning the image for knn\n",
    "X_knn = []\n",
    "for orient in X_orient:\n",
    "    X_knn.append(np.array(orient).flatten())\n",
    "X_knn = np.array(X_knn)"
   ]
  },
  {
   "cell_type": "markdown",
   "id": "e08668c8",
   "metadata": {},
   "source": [
    "### Splitting the data"
   ]
  },
  {
   "cell_type": "code",
   "execution_count": 29,
   "id": "cc4b989c",
   "metadata": {},
   "outputs": [],
   "source": [
    "X_train_knn, X_test_knn, y_train_knn, y_test_knn = train_test_split(X_knn, y_cnn, test_size=0.25, random_state=42)"
   ]
  },
  {
   "cell_type": "markdown",
   "id": "acdc483c",
   "metadata": {},
   "source": [
    "### Building and training the model"
   ]
  },
  {
   "cell_type": "code",
   "execution_count": 30,
   "id": "f04ea075",
   "metadata": {},
   "outputs": [],
   "source": [
    "k_range = list(range(1,21))\n",
    "\n",
    "param_grid={'n_neighbors' : k_range}\n",
    "knn = KNeighborsClassifier()\n",
    "model_knn = GridSearchCV(knn, param_grid, cv=10)"
   ]
  },
  {
   "cell_type": "code",
   "execution_count": 31,
   "id": "3736a73c",
   "metadata": {},
   "outputs": [
    {
     "data": {
      "text/html": [
       "<style>#sk-container-id-1 {color: black;background-color: white;}#sk-container-id-1 pre{padding: 0;}#sk-container-id-1 div.sk-toggleable {background-color: white;}#sk-container-id-1 label.sk-toggleable__label {cursor: pointer;display: block;width: 100%;margin-bottom: 0;padding: 0.3em;box-sizing: border-box;text-align: center;}#sk-container-id-1 label.sk-toggleable__label-arrow:before {content: \"▸\";float: left;margin-right: 0.25em;color: #696969;}#sk-container-id-1 label.sk-toggleable__label-arrow:hover:before {color: black;}#sk-container-id-1 div.sk-estimator:hover label.sk-toggleable__label-arrow:before {color: black;}#sk-container-id-1 div.sk-toggleable__content {max-height: 0;max-width: 0;overflow: hidden;text-align: left;background-color: #f0f8ff;}#sk-container-id-1 div.sk-toggleable__content pre {margin: 0.2em;color: black;border-radius: 0.25em;background-color: #f0f8ff;}#sk-container-id-1 input.sk-toggleable__control:checked~div.sk-toggleable__content {max-height: 200px;max-width: 100%;overflow: auto;}#sk-container-id-1 input.sk-toggleable__control:checked~label.sk-toggleable__label-arrow:before {content: \"▾\";}#sk-container-id-1 div.sk-estimator input.sk-toggleable__control:checked~label.sk-toggleable__label {background-color: #d4ebff;}#sk-container-id-1 div.sk-label input.sk-toggleable__control:checked~label.sk-toggleable__label {background-color: #d4ebff;}#sk-container-id-1 input.sk-hidden--visually {border: 0;clip: rect(1px 1px 1px 1px);clip: rect(1px, 1px, 1px, 1px);height: 1px;margin: -1px;overflow: hidden;padding: 0;position: absolute;width: 1px;}#sk-container-id-1 div.sk-estimator {font-family: monospace;background-color: #f0f8ff;border: 1px dotted black;border-radius: 0.25em;box-sizing: border-box;margin-bottom: 0.5em;}#sk-container-id-1 div.sk-estimator:hover {background-color: #d4ebff;}#sk-container-id-1 div.sk-parallel-item::after {content: \"\";width: 100%;border-bottom: 1px solid gray;flex-grow: 1;}#sk-container-id-1 div.sk-label:hover label.sk-toggleable__label {background-color: #d4ebff;}#sk-container-id-1 div.sk-serial::before {content: \"\";position: absolute;border-left: 1px solid gray;box-sizing: border-box;top: 0;bottom: 0;left: 50%;z-index: 0;}#sk-container-id-1 div.sk-serial {display: flex;flex-direction: column;align-items: center;background-color: white;padding-right: 0.2em;padding-left: 0.2em;position: relative;}#sk-container-id-1 div.sk-item {position: relative;z-index: 1;}#sk-container-id-1 div.sk-parallel {display: flex;align-items: stretch;justify-content: center;background-color: white;position: relative;}#sk-container-id-1 div.sk-item::before, #sk-container-id-1 div.sk-parallel-item::before {content: \"\";position: absolute;border-left: 1px solid gray;box-sizing: border-box;top: 0;bottom: 0;left: 50%;z-index: -1;}#sk-container-id-1 div.sk-parallel-item {display: flex;flex-direction: column;z-index: 1;position: relative;background-color: white;}#sk-container-id-1 div.sk-parallel-item:first-child::after {align-self: flex-end;width: 50%;}#sk-container-id-1 div.sk-parallel-item:last-child::after {align-self: flex-start;width: 50%;}#sk-container-id-1 div.sk-parallel-item:only-child::after {width: 0;}#sk-container-id-1 div.sk-dashed-wrapped {border: 1px dashed gray;margin: 0 0.4em 0.5em 0.4em;box-sizing: border-box;padding-bottom: 0.4em;background-color: white;}#sk-container-id-1 div.sk-label label {font-family: monospace;font-weight: bold;display: inline-block;line-height: 1.2em;}#sk-container-id-1 div.sk-label-container {text-align: center;}#sk-container-id-1 div.sk-container {/* jupyter's `normalize.less` sets `[hidden] { display: none; }` but bootstrap.min.css set `[hidden] { display: none !important; }` so we also need the `!important` here to be able to override the default hidden behavior on the sphinx rendered scikit-learn.org. See: https://github.com/scikit-learn/scikit-learn/issues/21755 */display: inline-block !important;position: relative;}#sk-container-id-1 div.sk-text-repr-fallback {display: none;}</style><div id=\"sk-container-id-1\" class=\"sk-top-container\"><div class=\"sk-text-repr-fallback\"><pre>GridSearchCV(cv=10, estimator=KNeighborsClassifier(),\n",
       "             param_grid={&#x27;n_neighbors&#x27;: [1, 2, 3, 4, 5, 6, 7, 8, 9, 10, 11, 12,\n",
       "                                         13, 14, 15, 16, 17, 18, 19, 20]})</pre><b>In a Jupyter environment, please rerun this cell to show the HTML representation or trust the notebook. <br />On GitHub, the HTML representation is unable to render, please try loading this page with nbviewer.org.</b></div><div class=\"sk-container\" hidden><div class=\"sk-item sk-dashed-wrapped\"><div class=\"sk-label-container\"><div class=\"sk-label sk-toggleable\"><input class=\"sk-toggleable__control sk-hidden--visually\" id=\"sk-estimator-id-1\" type=\"checkbox\" ><label for=\"sk-estimator-id-1\" class=\"sk-toggleable__label sk-toggleable__label-arrow\">GridSearchCV</label><div class=\"sk-toggleable__content\"><pre>GridSearchCV(cv=10, estimator=KNeighborsClassifier(),\n",
       "             param_grid={&#x27;n_neighbors&#x27;: [1, 2, 3, 4, 5, 6, 7, 8, 9, 10, 11, 12,\n",
       "                                         13, 14, 15, 16, 17, 18, 19, 20]})</pre></div></div></div><div class=\"sk-parallel\"><div class=\"sk-parallel-item\"><div class=\"sk-item\"><div class=\"sk-label-container\"><div class=\"sk-label sk-toggleable\"><input class=\"sk-toggleable__control sk-hidden--visually\" id=\"sk-estimator-id-2\" type=\"checkbox\" ><label for=\"sk-estimator-id-2\" class=\"sk-toggleable__label sk-toggleable__label-arrow\">estimator: KNeighborsClassifier</label><div class=\"sk-toggleable__content\"><pre>KNeighborsClassifier()</pre></div></div></div><div class=\"sk-serial\"><div class=\"sk-item\"><div class=\"sk-estimator sk-toggleable\"><input class=\"sk-toggleable__control sk-hidden--visually\" id=\"sk-estimator-id-3\" type=\"checkbox\" ><label for=\"sk-estimator-id-3\" class=\"sk-toggleable__label sk-toggleable__label-arrow\">KNeighborsClassifier</label><div class=\"sk-toggleable__content\"><pre>KNeighborsClassifier()</pre></div></div></div></div></div></div></div></div></div></div>"
      ],
      "text/plain": [
       "GridSearchCV(cv=10, estimator=KNeighborsClassifier(),\n",
       "             param_grid={'n_neighbors': [1, 2, 3, 4, 5, 6, 7, 8, 9, 10, 11, 12,\n",
       "                                         13, 14, 15, 16, 17, 18, 19, 20]})"
      ]
     },
     "execution_count": 31,
     "metadata": {},
     "output_type": "execute_result"
    }
   ],
   "source": [
    "model_knn.fit(X_train_knn,y_train_knn)"
   ]
  },
  {
   "cell_type": "code",
   "execution_count": 32,
   "id": "a5312d70",
   "metadata": {},
   "outputs": [
    {
     "name": "stdout",
     "output_type": "stream",
     "text": [
      "Best value of k is:  {'n_neighbors': 15}\n"
     ]
    }
   ],
   "source": [
    "print('Best value of k is: ', model_knn.best_params_)"
   ]
  },
  {
   "cell_type": "markdown",
   "id": "d977fcce",
   "metadata": {},
   "source": [
    "### Accuracy"
   ]
  },
  {
   "cell_type": "code",
   "execution_count": 33,
   "id": "401cffd7",
   "metadata": {},
   "outputs": [
    {
     "name": "stdout",
     "output_type": "stream",
     "text": [
      "0.372\n"
     ]
    }
   ],
   "source": [
    "y_pred_knn = model_knn.predict(X_test_knn)\n",
    "print(accuracy_score(y_pred_knn,y_test_knn))"
   ]
  },
  {
   "cell_type": "markdown",
   "id": "91b73c16",
   "metadata": {},
   "source": [
    "--- \n",
    "\n",
    "# LeNet-5 Architecture"
   ]
  },
  {
   "cell_type": "code",
   "execution_count": 34,
   "id": "a0e267c8",
   "metadata": {},
   "outputs": [],
   "source": [
    "X_lenet = np.array(X_orient)"
   ]
  },
  {
   "cell_type": "markdown",
   "id": "e0c2d8ec",
   "metadata": {},
   "source": [
    "### Splitting the data"
   ]
  },
  {
   "cell_type": "code",
   "execution_count": 43,
   "id": "8ea2971e",
   "metadata": {},
   "outputs": [],
   "source": [
    "X_train_lenet, X_test_lenet, y_train_lenet, y_test_lenet = train_test_split(X_lenet, y_encode, test_size=0.25, random_state=42)"
   ]
  },
  {
   "cell_type": "markdown",
   "id": "3fdcd3dd",
   "metadata": {},
   "source": [
    "### Building the LeNet-5 architecture and training the model"
   ]
  },
  {
   "cell_type": "code",
   "execution_count": 39,
   "id": "f90a8899",
   "metadata": {},
   "outputs": [
    {
     "name": "stdout",
     "output_type": "stream",
     "text": [
      "Model: \"sequential_1\"\n",
      "_________________________________________________________________\n",
      " Layer (type)                Output Shape              Param #   \n",
      "=================================================================\n",
      " conv2d_2 (Conv2D)           (None, 510, 510, 6)       168       \n",
      "                                                                 \n",
      " average_pooling2d_2 (Averag  (None, 255, 255, 6)      0         \n",
      " ePooling2D)                                                     \n",
      "                                                                 \n",
      " conv2d_3 (Conv2D)           (None, 253, 253, 16)      880       \n",
      "                                                                 \n",
      " average_pooling2d_3 (Averag  (None, 126, 126, 16)     0         \n",
      " ePooling2D)                                                     \n",
      "                                                                 \n",
      " flatten_1 (Flatten)         (None, 254016)            0         \n",
      "                                                                 \n",
      " dense_3 (Dense)             (None, 120)               30482040  \n",
      "                                                                 \n",
      " dense_4 (Dense)             (None, 84)                10164     \n",
      "                                                                 \n",
      " dense_5 (Dense)             (None, 5)                 425       \n",
      "                                                                 \n",
      "=================================================================\n",
      "Total params: 30,493,677\n",
      "Trainable params: 30,493,677\n",
      "Non-trainable params: 0\n",
      "_________________________________________________________________\n"
     ]
    }
   ],
   "source": [
    "model_lenet = keras.Sequential()\n",
    "\n",
    "model_lenet.add(layers.Conv2D(filters=6, kernel_size=(3, 3), activation='relu', input_shape=(512,512,3)))\n",
    "model_lenet.add(layers.AveragePooling2D())\n",
    "\n",
    "model_lenet.add(layers.Conv2D(filters=16, kernel_size=(3, 3), activation='relu'))\n",
    "model_lenet.add(layers.AveragePooling2D())\n",
    "\n",
    "model_lenet.add(layers.Flatten())\n",
    "\n",
    "model_lenet.add(layers.Dense(units=120, activation='relu'))\n",
    "\n",
    "model_lenet.add(layers.Dense(units=84, activation='relu'))\n",
    "\n",
    "model_lenet.add(layers.Dense(units=5, activation = 'softmax'))\n",
    "\n",
    "model_lenet.summary()"
   ]
  },
  {
   "cell_type": "code",
   "execution_count": 40,
   "id": "d09ba41d",
   "metadata": {},
   "outputs": [],
   "source": [
    "model_lenet.compile(loss=keras.metrics.sparse_categorical_crossentropy, optimizer=keras.optimizers.Adam(), metrics=['accuracy'])"
   ]
  },
  {
   "cell_type": "code",
   "execution_count": 45,
   "id": "4a1a5184",
   "metadata": {},
   "outputs": [
    {
     "name": "stdout",
     "output_type": "stream",
     "text": [
      "Epoch 1/30\n",
      "20/20 [==============================] - 10s 271ms/step - loss: 4.1415 - accuracy: 0.6374 - val_loss: 4.5948 - val_accuracy: 0.4867\n",
      "Epoch 2/30\n",
      "20/20 [==============================] - 4s 182ms/step - loss: 0.8158 - accuracy: 0.8257 - val_loss: 2.5338 - val_accuracy: 0.5133\n",
      "Epoch 3/30\n",
      "20/20 [==============================] - 4s 182ms/step - loss: 0.1950 - accuracy: 0.9372 - val_loss: 2.2071 - val_accuracy: 0.5929\n",
      "Epoch 4/30\n",
      "20/20 [==============================] - 4s 181ms/step - loss: 0.0627 - accuracy: 0.9796 - val_loss: 2.1849 - val_accuracy: 0.5929\n",
      "Epoch 5/30\n",
      "20/20 [==============================] - 4s 181ms/step - loss: 0.0126 - accuracy: 0.9984 - val_loss: 1.9945 - val_accuracy: 0.5929\n",
      "Epoch 6/30\n",
      "20/20 [==============================] - 4s 183ms/step - loss: 0.0058 - accuracy: 1.0000 - val_loss: 1.9740 - val_accuracy: 0.6283\n",
      "Epoch 7/30\n",
      "20/20 [==============================] - 4s 182ms/step - loss: 0.0033 - accuracy: 1.0000 - val_loss: 1.9585 - val_accuracy: 0.6195\n",
      "Epoch 8/30\n",
      "20/20 [==============================] - 4s 182ms/step - loss: 0.0025 - accuracy: 1.0000 - val_loss: 1.9664 - val_accuracy: 0.6195\n",
      "Epoch 9/30\n",
      "20/20 [==============================] - 4s 182ms/step - loss: 0.0021 - accuracy: 1.0000 - val_loss: 1.9687 - val_accuracy: 0.6195\n",
      "Epoch 10/30\n",
      "20/20 [==============================] - 4s 183ms/step - loss: 0.0019 - accuracy: 1.0000 - val_loss: 1.9707 - val_accuracy: 0.6195\n",
      "Epoch 11/30\n",
      "20/20 [==============================] - 4s 182ms/step - loss: 0.0017 - accuracy: 1.0000 - val_loss: 1.9761 - val_accuracy: 0.6195\n",
      "Epoch 12/30\n",
      "20/20 [==============================] - 4s 181ms/step - loss: 0.0016 - accuracy: 1.0000 - val_loss: 1.9765 - val_accuracy: 0.6195\n",
      "Epoch 13/30\n",
      "20/20 [==============================] - 4s 181ms/step - loss: 0.0015 - accuracy: 1.0000 - val_loss: 1.9804 - val_accuracy: 0.6195\n",
      "Epoch 14/30\n",
      "20/20 [==============================] - 4s 184ms/step - loss: 0.0014 - accuracy: 1.0000 - val_loss: 1.9836 - val_accuracy: 0.6195\n",
      "Epoch 15/30\n",
      "20/20 [==============================] - 4s 181ms/step - loss: 0.0013 - accuracy: 1.0000 - val_loss: 1.9844 - val_accuracy: 0.6195\n",
      "Epoch 16/30\n",
      "20/20 [==============================] - 4s 181ms/step - loss: 0.0012 - accuracy: 1.0000 - val_loss: 1.9874 - val_accuracy: 0.6195\n",
      "Epoch 17/30\n",
      "20/20 [==============================] - 4s 182ms/step - loss: 0.0011 - accuracy: 1.0000 - val_loss: 1.9912 - val_accuracy: 0.6106\n",
      "Epoch 18/30\n",
      "20/20 [==============================] - 4s 182ms/step - loss: 0.0011 - accuracy: 1.0000 - val_loss: 1.9941 - val_accuracy: 0.6195\n",
      "Epoch 19/30\n",
      "20/20 [==============================] - 4s 183ms/step - loss: 9.9356e-04 - accuracy: 1.0000 - val_loss: 1.9966 - val_accuracy: 0.6195\n",
      "Epoch 20/30\n",
      "20/20 [==============================] - 4s 181ms/step - loss: 9.4696e-04 - accuracy: 1.0000 - val_loss: 1.9992 - val_accuracy: 0.6283\n",
      "Epoch 21/30\n",
      "20/20 [==============================] - 4s 182ms/step - loss: 9.0577e-04 - accuracy: 1.0000 - val_loss: 2.0003 - val_accuracy: 0.6283\n",
      "Epoch 22/30\n",
      "20/20 [==============================] - 4s 181ms/step - loss: 8.5680e-04 - accuracy: 1.0000 - val_loss: 2.0053 - val_accuracy: 0.6195\n",
      "Epoch 23/30\n",
      "20/20 [==============================] - 4s 182ms/step - loss: 8.1512e-04 - accuracy: 1.0000 - val_loss: 2.0069 - val_accuracy: 0.6106\n",
      "Epoch 24/30\n",
      "20/20 [==============================] - 4s 182ms/step - loss: 7.7538e-04 - accuracy: 1.0000 - val_loss: 2.0094 - val_accuracy: 0.6283\n",
      "Epoch 25/30\n",
      "20/20 [==============================] - 4s 182ms/step - loss: 7.3952e-04 - accuracy: 1.0000 - val_loss: 2.0116 - val_accuracy: 0.6283\n",
      "Epoch 26/30\n",
      "20/20 [==============================] - 4s 186ms/step - loss: 7.0976e-04 - accuracy: 1.0000 - val_loss: 2.0150 - val_accuracy: 0.6195\n",
      "Epoch 27/30\n",
      "20/20 [==============================] - 4s 181ms/step - loss: 6.7971e-04 - accuracy: 1.0000 - val_loss: 2.0179 - val_accuracy: 0.6283\n",
      "Epoch 28/30\n",
      "20/20 [==============================] - 4s 181ms/step - loss: 6.5281e-04 - accuracy: 1.0000 - val_loss: 2.0210 - val_accuracy: 0.6283\n",
      "Epoch 29/30\n",
      "20/20 [==============================] - 4s 184ms/step - loss: 6.2643e-04 - accuracy: 1.0000 - val_loss: 2.0218 - val_accuracy: 0.6283\n",
      "Epoch 30/30\n",
      "20/20 [==============================] - 4s 180ms/step - loss: 6.0166e-04 - accuracy: 1.0000 - val_loss: 2.0247 - val_accuracy: 0.6283\n"
     ]
    }
   ],
   "source": [
    "tf.debugging.set_log_device_placement(True)\n",
    "with tf.device('/GPU:0'):\n",
    "    history_lenet = model_lenet.fit(X_train_lenet, y_train_lenet, batch_size=32, epochs=30, validation_split=0.15, verbose=1)"
   ]
  },
  {
   "cell_type": "code",
   "execution_count": 47,
   "id": "e3f46a7f",
   "metadata": {},
   "outputs": [
    {
     "name": "stdout",
     "output_type": "stream",
     "text": [
      "8/8 [==============================] - 1s 85ms/step - loss: 1.7627 - accuracy: 0.6520\n",
      "test loss, test accuracy:  [1.762732982635498, 0.6520000100135803]\n"
     ]
    }
   ],
   "source": [
    "print('test loss, test accuracy: ', model_lenet.evaluate(X_test_lenet, y_test_lenet))"
   ]
  },
  {
   "cell_type": "markdown",
   "id": "9159695e",
   "metadata": {},
   "source": [
    "### LeNet-5 Training Visualisation"
   ]
  },
  {
   "cell_type": "code",
   "execution_count": 48,
   "id": "cf476bf9",
   "metadata": {},
   "outputs": [
    {
     "data": {
      "text/plain": [
       "<matplotlib.legend.Legend at 0x177f9f74e20>"
      ]
     },
     "execution_count": 48,
     "metadata": {},
     "output_type": "execute_result"
    },
    {
     "data": {
      "image/png": "[encoded data removed]",
      "text/plain": [
       "<Figure size 640x480 with 1 Axes>"
      ]
     },
     "metadata": {},
     "output_type": "display_data"
    }
   ],
   "source": [
    "sns.set_style(\"darkgrid\")\n",
    "\n",
    "#get the details form the history object which has the training results\n",
    "acc = history_lenet.history['accuracy']\n",
    "val_acc = history_lenet.history['val_accuracy']\n",
    "loss = history_lenet.history['loss']\n",
    "val_loss = history_lenet.history['val_loss']\n",
    "\n",
    "epochs = range(1, len(acc) + 1)\n",
    "\n",
    "#Train and validation accuracy\n",
    "plt.plot(epochs, acc, 'b', label='Training accurarcy')\n",
    "plt.plot(epochs, val_acc, 'r', label='Validation accurarcy')\n",
    "plt.xlabel('Epoch #')\n",
    "plt.ylabel('accuracy')\n",
    "plt.title('Training and Validation accurarcy')\n",
    "plt.legend()"
   ]
  },
  {
   "cell_type": "markdown",
   "id": "5ceb7d1a",
   "metadata": {},
   "source": [
    "---\n",
    "\n",
    "# AlexNet Architecture"
   ]
  },
  {
   "cell_type": "code",
   "execution_count": 8,
   "id": "8b440da5",
   "metadata": {},
   "outputs": [],
   "source": [
    "# resizing the images for AlexNet\n",
    "X_alex = []\n",
    "for image in X_orient:\n",
    "    X_alex.append(cv.resize(image, (227,227)))\n",
    "\n",
    "# converting to numpy array\n",
    "X_alex = np.array(X_alex)"
   ]
  },
  {
   "cell_type": "code",
   "execution_count": 9,
   "id": "1460665b",
   "metadata": {},
   "outputs": [
    {
     "data": {
      "text/plain": [
       "(1000, 227, 227, 3)"
      ]
     },
     "execution_count": 9,
     "metadata": {},
     "output_type": "execute_result"
    }
   ],
   "source": [
    "X_alex.shape"
   ]
  },
  {
   "cell_type": "markdown",
   "id": "276f4ff7",
   "metadata": {},
   "source": [
    "### Splitting the data"
   ]
  },
  {
   "cell_type": "code",
   "execution_count": 10,
   "id": "d7b454a2",
   "metadata": {},
   "outputs": [],
   "source": [
    "X_train_alex, X_test_alex, y_train_alex, y_test_alex = train_test_split(X_alex, y_encode, test_size=0.25, random_state=42)"
   ]
  },
  {
   "cell_type": "markdown",
   "id": "de2bd7cb",
   "metadata": {},
   "source": [
    "### Building the AlexNet architecture and training the model"
   ]
  },
  {
   "cell_type": "code",
   "execution_count": 11,
   "id": "41fcdd5a",
   "metadata": {},
   "outputs": [
    {
     "name": "stdout",
     "output_type": "stream",
     "text": [
      "Model: \"sequential\"\n",
      "_________________________________________________________________\n",
      " Layer (type)                Output Shape              Param #   \n",
      "=================================================================\n",
      " conv2d (Conv2D)             (None, 55, 55, 96)        34944     \n",
      "                                                                 \n",
      " batch_normalization (BatchN  (None, 55, 55, 96)       384       \n",
      " ormalization)                                                   \n",
      "                                                                 \n",
      " max_pooling2d (MaxPooling2D  (None, 27, 27, 96)       0         \n",
      " )                                                               \n",
      "                                                                 \n",
      " conv2d_1 (Conv2D)           (None, 27, 27, 256)       614656    \n",
      "                                                                 \n",
      " batch_normalization_1 (Batc  (None, 27, 27, 256)      1024      \n",
      " hNormalization)                                                 \n",
      "                                                                 \n",
      " max_pooling2d_1 (MaxPooling  (None, 13, 13, 256)      0         \n",
      " 2D)                                                             \n",
      "                                                                 \n",
      " conv2d_2 (Conv2D)           (None, 13, 13, 384)       885120    \n",
      "                                                                 \n",
      " batch_normalization_2 (Batc  (None, 13, 13, 384)      1536      \n",
      " hNormalization)                                                 \n",
      "                                                                 \n",
      " conv2d_3 (Conv2D)           (None, 13, 13, 384)       1327488   \n",
      "                                                                 \n",
      " batch_normalization_3 (Batc  (None, 13, 13, 384)      1536      \n",
      " hNormalization)                                                 \n",
      "                                                                 \n",
      " conv2d_4 (Conv2D)           (None, 13, 13, 256)       884992    \n",
      "                                                                 \n",
      " batch_normalization_4 (Batc  (None, 13, 13, 256)      1024      \n",
      " hNormalization)                                                 \n",
      "                                                                 \n",
      " max_pooling2d_2 (MaxPooling  (None, 6, 6, 256)        0         \n",
      " 2D)                                                             \n",
      "                                                                 \n",
      " flatten (Flatten)           (None, 9216)              0         \n",
      "                                                                 \n",
      " dense (Dense)               (None, 4096)              37752832  \n",
      "                                                                 \n",
      " dropout (Dropout)           (None, 4096)              0         \n",
      "                                                                 \n",
      " dense_1 (Dense)             (None, 4096)              16781312  \n",
      "                                                                 \n",
      " dropout_1 (Dropout)         (None, 4096)              0         \n",
      "                                                                 \n",
      " dense_2 (Dense)             (None, 5)                 20485     \n",
      "                                                                 \n",
      "=================================================================\n",
      "Total params: 58,307,333\n",
      "Trainable params: 58,304,581\n",
      "Non-trainable params: 2,752\n",
      "_________________________________________________________________\n"
     ]
    }
   ],
   "source": [
    "model_alexnet = keras.models.Sequential([\n",
    "    keras.layers.Conv2D(filters=96, kernel_size=(11,11), strides=(4,4), activation='relu', input_shape=(227,227,3)),\n",
    "    keras.layers.BatchNormalization(),\n",
    "    keras.layers.MaxPool2D(pool_size=(3,3), strides=(2,2)),\n",
    "    keras.layers.Conv2D(filters=256, kernel_size=(5,5), strides=(1,1), activation='relu', padding=\"same\"),\n",
    "    keras.layers.BatchNormalization(),\n",
    "    keras.layers.MaxPool2D(pool_size=(3,3), strides=(2,2)),\n",
    "    keras.layers.Conv2D(filters=384, kernel_size=(3,3), strides=(1,1), activation='relu', padding=\"same\"),\n",
    "    keras.layers.BatchNormalization(),\n",
    "    keras.layers.Conv2D(filters=384, kernel_size=(3,3), strides=(1,1), activation='relu', padding=\"same\"),\n",
    "    keras.layers.BatchNormalization(),\n",
    "    keras.layers.Conv2D(filters=256, kernel_size=(3,3), strides=(1,1), activation='relu', padding=\"same\"),\n",
    "    keras.layers.BatchNormalization(),\n",
    "    keras.layers.MaxPool2D(pool_size=(3,3), strides=(2,2)),\n",
    "    keras.layers.Flatten(),\n",
    "    keras.layers.Dense(4096, activation='relu'),\n",
    "    keras.layers.Dropout(0.5),\n",
    "    keras.layers.Dense(4096, activation='relu'),\n",
    "    keras.layers.Dropout(0.5),\n",
    "    keras.layers.Dense(5, activation='softmax')\n",
    "])\n",
    "\n",
    "model_alexnet.summary()"
   ]
  },
  {
   "cell_type": "code",
   "execution_count": 12,
   "id": "2abf1158",
   "metadata": {},
   "outputs": [],
   "source": [
    "model_alexnet.compile(loss=keras.metrics.sparse_categorical_crossentropy, optimizer=keras.optimizers.Adam(), metrics=['accuracy'])"
   ]
  },
  {
   "cell_type": "code",
   "execution_count": 16,
   "id": "dddb590a",
   "metadata": {},
   "outputs": [
    {
     "name": "stdout",
     "output_type": "stream",
     "text": [
      "Epoch 1/150\n",
      "20/20 [==============================] - 2s 90ms/step - loss: 0.1208 - accuracy: 0.9733 - val_loss: 4.6237 - val_accuracy: 0.6106\n",
      "Epoch 2/150\n",
      "20/20 [==============================] - 2s 89ms/step - loss: 0.3658 - accuracy: 0.9372 - val_loss: 7.9676 - val_accuracy: 0.5487\n",
      "Epoch 3/150\n",
      "20/20 [==============================] - 2s 89ms/step - loss: 0.2873 - accuracy: 0.9435 - val_loss: 3.3441 - val_accuracy: 0.5929\n",
      "Epoch 4/150\n",
      "20/20 [==============================] - 2s 87ms/step - loss: 0.0656 - accuracy: 0.9780 - val_loss: 3.3182 - val_accuracy: 0.6814\n",
      "Epoch 5/150\n",
      "20/20 [==============================] - 2s 89ms/step - loss: 0.1053 - accuracy: 0.9843 - val_loss: 3.0726 - val_accuracy: 0.6637\n",
      "Epoch 6/150\n",
      "20/20 [==============================] - 2s 89ms/step - loss: 0.0285 - accuracy: 0.9922 - val_loss: 3.0181 - val_accuracy: 0.7168\n",
      "Epoch 7/150\n",
      "20/20 [==============================] - 2s 88ms/step - loss: 0.0855 - accuracy: 0.9890 - val_loss: 3.7071 - val_accuracy: 0.6283\n",
      "Epoch 8/150\n",
      "20/20 [==============================] - 2s 89ms/step - loss: 0.1320 - accuracy: 0.9733 - val_loss: 3.4579 - val_accuracy: 0.6637\n",
      "Epoch 9/150\n",
      "20/20 [==============================] - 2s 88ms/step - loss: 0.0877 - accuracy: 0.9780 - val_loss: 2.5358 - val_accuracy: 0.7345\n",
      "Epoch 10/150\n",
      "20/20 [==============================] - 2s 88ms/step - loss: 0.0552 - accuracy: 0.9890 - val_loss: 6.6265 - val_accuracy: 0.5929\n",
      "Epoch 11/150\n",
      "20/20 [==============================] - 2s 90ms/step - loss: 0.0731 - accuracy: 0.9874 - val_loss: 3.6031 - val_accuracy: 0.6726\n",
      "Epoch 12/150\n",
      "20/20 [==============================] - 2s 87ms/step - loss: 0.0951 - accuracy: 0.9859 - val_loss: 3.1384 - val_accuracy: 0.6726\n",
      "Epoch 13/150\n",
      "20/20 [==============================] - 2s 96ms/step - loss: 0.1235 - accuracy: 0.9780 - val_loss: 4.1781 - val_accuracy: 0.7257\n",
      "Epoch 14/150\n",
      "20/20 [==============================] - 2s 94ms/step - loss: 0.0293 - accuracy: 0.9890 - val_loss: 4.5056 - val_accuracy: 0.6637\n",
      "Epoch 15/150\n",
      "20/20 [==============================] - 2s 90ms/step - loss: 0.1004 - accuracy: 0.9874 - val_loss: 4.0539 - val_accuracy: 0.6637\n",
      "Epoch 16/150\n",
      "20/20 [==============================] - 2s 88ms/step - loss: 0.1082 - accuracy: 0.9906 - val_loss: 6.3795 - val_accuracy: 0.6726\n",
      "Epoch 17/150\n",
      "20/20 [==============================] - 2s 87ms/step - loss: 0.3864 - accuracy: 0.9529 - val_loss: 5.3945 - val_accuracy: 0.6637\n",
      "Epoch 18/150\n",
      "20/20 [==============================] - 2s 87ms/step - loss: 0.1384 - accuracy: 0.9733 - val_loss: 6.8471 - val_accuracy: 0.6549\n",
      "Epoch 19/150\n",
      "20/20 [==============================] - 2s 88ms/step - loss: 0.0940 - accuracy: 0.9843 - val_loss: 7.5579 - val_accuracy: 0.5133\n",
      "Epoch 20/150\n",
      "20/20 [==============================] - 2s 88ms/step - loss: 0.1269 - accuracy: 0.9749 - val_loss: 9.4610 - val_accuracy: 0.5841\n",
      "Epoch 21/150\n",
      "20/20 [==============================] - 2s 88ms/step - loss: 0.0357 - accuracy: 0.9890 - val_loss: 6.9767 - val_accuracy: 0.6814\n",
      "Epoch 22/150\n",
      "20/20 [==============================] - 2s 88ms/step - loss: 0.0352 - accuracy: 0.9953 - val_loss: 6.0417 - val_accuracy: 0.6460\n",
      "Epoch 23/150\n",
      "20/20 [==============================] - 2s 88ms/step - loss: 0.0209 - accuracy: 0.9922 - val_loss: 6.1930 - val_accuracy: 0.6283\n",
      "Epoch 24/150\n",
      "20/20 [==============================] - 2s 88ms/step - loss: 0.0489 - accuracy: 0.9937 - val_loss: 4.9667 - val_accuracy: 0.6549\n",
      "Epoch 25/150\n",
      "20/20 [==============================] - 2s 87ms/step - loss: 0.0570 - accuracy: 0.9922 - val_loss: 7.7276 - val_accuracy: 0.5310\n",
      "Epoch 26/150\n",
      "20/20 [==============================] - 2s 88ms/step - loss: 0.0705 - accuracy: 0.9874 - val_loss: 6.3086 - val_accuracy: 0.6549\n",
      "Epoch 27/150\n",
      "20/20 [==============================] - 2s 88ms/step - loss: 0.2096 - accuracy: 0.9843 - val_loss: 4.7837 - val_accuracy: 0.6283\n",
      "Epoch 28/150\n",
      "20/20 [==============================] - 2s 87ms/step - loss: 0.0767 - accuracy: 0.9843 - val_loss: 5.5220 - val_accuracy: 0.6637\n",
      "Epoch 29/150\n",
      "20/20 [==============================] - 2s 87ms/step - loss: 0.4471 - accuracy: 0.9623 - val_loss: 5.5509 - val_accuracy: 0.5752\n",
      "Epoch 30/150\n",
      "20/20 [==============================] - 2s 88ms/step - loss: 0.5214 - accuracy: 0.9545 - val_loss: 14.5925 - val_accuracy: 0.5310\n",
      "Epoch 31/150\n",
      "20/20 [==============================] - 2s 88ms/step - loss: 1.2267 - accuracy: 0.9325 - val_loss: 16.8470 - val_accuracy: 0.3274\n",
      "Epoch 32/150\n",
      "20/20 [==============================] - 2s 87ms/step - loss: 0.7561 - accuracy: 0.9231 - val_loss: 8.2750 - val_accuracy: 0.5487\n",
      "Epoch 33/150\n",
      "20/20 [==============================] - 2s 87ms/step - loss: 0.8722 - accuracy: 0.9278 - val_loss: 7.6485 - val_accuracy: 0.7168\n",
      "Epoch 34/150\n",
      "20/20 [==============================] - 2s 88ms/step - loss: 1.0583 - accuracy: 0.9231 - val_loss: 31.4810 - val_accuracy: 0.2743\n",
      "Epoch 35/150\n",
      "20/20 [==============================] - 2s 87ms/step - loss: 0.3680 - accuracy: 0.9592 - val_loss: 4.5130 - val_accuracy: 0.6637\n",
      "Epoch 36/150\n",
      "20/20 [==============================] - 2s 87ms/step - loss: 0.3434 - accuracy: 0.9639 - val_loss: 4.4058 - val_accuracy: 0.5929\n",
      "Epoch 37/150\n",
      "20/20 [==============================] - 2s 87ms/step - loss: 0.1538 - accuracy: 0.9749 - val_loss: 10.5666 - val_accuracy: 0.4867\n",
      "Epoch 38/150\n",
      "20/20 [==============================] - 2s 87ms/step - loss: 0.3414 - accuracy: 0.9843 - val_loss: 6.4722 - val_accuracy: 0.6106\n",
      "Epoch 39/150\n",
      "20/20 [==============================] - 2s 87ms/step - loss: 0.2221 - accuracy: 0.9670 - val_loss: 9.2088 - val_accuracy: 0.5929\n",
      "Epoch 40/150\n",
      "20/20 [==============================] - 2s 88ms/step - loss: 0.3213 - accuracy: 0.9702 - val_loss: 5.9462 - val_accuracy: 0.6726\n",
      "Epoch 41/150\n",
      "20/20 [==============================] - 2s 87ms/step - loss: 0.1482 - accuracy: 0.9890 - val_loss: 5.2506 - val_accuracy: 0.6726\n",
      "Epoch 42/150\n",
      "20/20 [==============================] - 2s 88ms/step - loss: 0.3455 - accuracy: 0.9670 - val_loss: 5.5266 - val_accuracy: 0.6637\n",
      "Epoch 43/150\n",
      "20/20 [==============================] - 2s 88ms/step - loss: 0.4104 - accuracy: 0.9702 - val_loss: 14.3295 - val_accuracy: 0.5841\n",
      "Epoch 44/150\n",
      "20/20 [==============================] - 2s 88ms/step - loss: 0.2519 - accuracy: 0.9733 - val_loss: 7.2358 - val_accuracy: 0.6637\n",
      "Epoch 45/150\n",
      "20/20 [==============================] - 2s 88ms/step - loss: 0.0920 - accuracy: 0.9937 - val_loss: 14.6276 - val_accuracy: 0.4425\n",
      "Epoch 46/150\n",
      "20/20 [==============================] - 2s 87ms/step - loss: 0.1700 - accuracy: 0.9780 - val_loss: 14.1795 - val_accuracy: 0.6195\n",
      "Epoch 47/150\n",
      "20/20 [==============================] - 2s 87ms/step - loss: 0.2117 - accuracy: 0.9827 - val_loss: 14.0689 - val_accuracy: 0.5044\n",
      "Epoch 48/150\n",
      "20/20 [==============================] - 2s 88ms/step - loss: 0.3432 - accuracy: 0.9686 - val_loss: 55.2157 - val_accuracy: 0.3982\n",
      "Epoch 49/150\n",
      "20/20 [==============================] - 2s 88ms/step - loss: 0.7222 - accuracy: 0.9592 - val_loss: 107.9183 - val_accuracy: 0.2301\n",
      "Epoch 50/150\n",
      "20/20 [==============================] - 2s 88ms/step - loss: 0.3695 - accuracy: 0.9670 - val_loss: 9.7105 - val_accuracy: 0.6549\n",
      "Epoch 51/150\n",
      "20/20 [==============================] - 2s 89ms/step - loss: 0.2173 - accuracy: 0.9749 - val_loss: 12.5447 - val_accuracy: 0.5310\n",
      "Epoch 52/150\n",
      "20/20 [==============================] - 2s 91ms/step - loss: 0.4483 - accuracy: 0.9639 - val_loss: 13.4529 - val_accuracy: 0.6372\n",
      "Epoch 53/150\n",
      "20/20 [==============================] - 2s 91ms/step - loss: 0.1180 - accuracy: 0.9874 - val_loss: 14.9881 - val_accuracy: 0.6195\n",
      "Epoch 54/150\n",
      "20/20 [==============================] - 2s 90ms/step - loss: 0.2462 - accuracy: 0.9765 - val_loss: 14.0912 - val_accuracy: 0.6549\n",
      "Epoch 55/150\n",
      "20/20 [==============================] - 2s 93ms/step - loss: 0.3198 - accuracy: 0.9749 - val_loss: 12.0059 - val_accuracy: 0.5929\n",
      "Epoch 56/150\n",
      "20/20 [==============================] - 2s 89ms/step - loss: 0.4649 - accuracy: 0.9655 - val_loss: 20.0853 - val_accuracy: 0.5752\n",
      "Epoch 57/150\n",
      "20/20 [==============================] - 2s 92ms/step - loss: 0.6257 - accuracy: 0.9560 - val_loss: 23.6192 - val_accuracy: 0.4425\n",
      "Epoch 58/150\n",
      "20/20 [==============================] - 2s 89ms/step - loss: 0.6941 - accuracy: 0.9670 - val_loss: 8.3667 - val_accuracy: 0.5310\n",
      "Epoch 59/150\n",
      "20/20 [==============================] - 2s 89ms/step - loss: 0.0829 - accuracy: 0.9922 - val_loss: 13.7338 - val_accuracy: 0.5221\n",
      "Epoch 60/150\n",
      "20/20 [==============================] - 2s 88ms/step - loss: 0.1090 - accuracy: 0.9922 - val_loss: 17.4464 - val_accuracy: 0.6283\n",
      "Epoch 61/150\n",
      "20/20 [==============================] - 2s 89ms/step - loss: 0.3310 - accuracy: 0.9780 - val_loss: 11.5046 - val_accuracy: 0.6460\n",
      "Epoch 62/150\n",
      "20/20 [==============================] - 2s 89ms/step - loss: 0.4796 - accuracy: 0.9717 - val_loss: 66.8712 - val_accuracy: 0.3540\n",
      "Epoch 63/150\n",
      "20/20 [==============================] - 2s 88ms/step - loss: 1.0651 - accuracy: 0.9576 - val_loss: 145.5886 - val_accuracy: 0.2566\n",
      "Epoch 64/150\n",
      "20/20 [==============================] - 2s 87ms/step - loss: 0.6731 - accuracy: 0.9529 - val_loss: 85.3795 - val_accuracy: 0.1858\n",
      "Epoch 65/150\n",
      "20/20 [==============================] - 2s 88ms/step - loss: 0.4989 - accuracy: 0.9670 - val_loss: 37.2356 - val_accuracy: 0.2655\n",
      "Epoch 66/150\n",
      "20/20 [==============================] - 2s 87ms/step - loss: 0.3916 - accuracy: 0.9780 - val_loss: 13.9756 - val_accuracy: 0.5398\n",
      "Epoch 67/150\n",
      "20/20 [==============================] - 2s 87ms/step - loss: 0.5395 - accuracy: 0.9623 - val_loss: 23.5046 - val_accuracy: 0.3451\n",
      "Epoch 68/150\n",
      "20/20 [==============================] - 2s 87ms/step - loss: 0.5776 - accuracy: 0.9702 - val_loss: 22.6542 - val_accuracy: 0.5398\n",
      "Epoch 69/150\n",
      "20/20 [==============================] - 2s 87ms/step - loss: 1.4441 - accuracy: 0.9435 - val_loss: 13.0277 - val_accuracy: 0.6726\n",
      "Epoch 70/150\n",
      "20/20 [==============================] - 2s 88ms/step - loss: 0.5228 - accuracy: 0.9560 - val_loss: 12.3560 - val_accuracy: 0.5929\n",
      "Epoch 71/150\n",
      "20/20 [==============================] - 2s 87ms/step - loss: 0.5318 - accuracy: 0.9686 - val_loss: 14.6762 - val_accuracy: 0.5221\n",
      "Epoch 72/150\n",
      "20/20 [==============================] - 2s 88ms/step - loss: 0.2995 - accuracy: 0.9765 - val_loss: 8.1629 - val_accuracy: 0.6549\n",
      "Epoch 73/150\n",
      "20/20 [==============================] - 2s 87ms/step - loss: 0.7070 - accuracy: 0.9655 - val_loss: 11.2780 - val_accuracy: 0.6283\n",
      "Epoch 74/150\n",
      "20/20 [==============================] - 2s 87ms/step - loss: 0.3796 - accuracy: 0.9686 - val_loss: 55.7229 - val_accuracy: 0.3628\n",
      "Epoch 75/150\n",
      "20/20 [==============================] - 2s 87ms/step - loss: 0.3440 - accuracy: 0.9702 - val_loss: 10.8950 - val_accuracy: 0.6018\n",
      "Epoch 76/150\n",
      "20/20 [==============================] - 2s 87ms/step - loss: 0.1770 - accuracy: 0.9780 - val_loss: 13.6053 - val_accuracy: 0.6195\n",
      "Epoch 77/150\n",
      "20/20 [==============================] - 2s 88ms/step - loss: 0.0180 - accuracy: 0.9984 - val_loss: 16.3661 - val_accuracy: 0.5752\n",
      "Epoch 78/150\n",
      "20/20 [==============================] - 2s 87ms/step - loss: 0.1013 - accuracy: 0.9937 - val_loss: 16.4023 - val_accuracy: 0.6018\n",
      "Epoch 79/150\n",
      "20/20 [==============================] - 2s 87ms/step - loss: 0.2250 - accuracy: 0.9906 - val_loss: 11.5943 - val_accuracy: 0.6283\n",
      "Epoch 80/150\n",
      "20/20 [==============================] - 2s 87ms/step - loss: 0.0262 - accuracy: 0.9937 - val_loss: 13.2960 - val_accuracy: 0.6460\n",
      "Epoch 81/150\n",
      "20/20 [==============================] - 2s 87ms/step - loss: 0.2051 - accuracy: 0.9874 - val_loss: 14.7636 - val_accuracy: 0.6637\n",
      "Epoch 82/150\n",
      "20/20 [==============================] - 2s 87ms/step - loss: 0.1871 - accuracy: 0.9874 - val_loss: 10.3938 - val_accuracy: 0.6549\n",
      "Epoch 83/150\n",
      "20/20 [==============================] - 2s 87ms/step - loss: 0.2914 - accuracy: 0.9859 - val_loss: 22.4280 - val_accuracy: 0.5752\n",
      "Epoch 84/150\n",
      "20/20 [==============================] - 2s 88ms/step - loss: 0.4334 - accuracy: 0.9780 - val_loss: 14.5442 - val_accuracy: 0.6460\n",
      "Epoch 85/150\n",
      "20/20 [==============================] - 2s 87ms/step - loss: 0.0964 - accuracy: 0.9796 - val_loss: 15.8239 - val_accuracy: 0.6637\n",
      "Epoch 86/150\n",
      "20/20 [==============================] - 2s 88ms/step - loss: 0.2814 - accuracy: 0.9812 - val_loss: 24.4731 - val_accuracy: 0.5841\n",
      "Epoch 87/150\n",
      "20/20 [==============================] - 2s 87ms/step - loss: 0.5429 - accuracy: 0.9717 - val_loss: 18.9699 - val_accuracy: 0.4690\n",
      "Epoch 88/150\n",
      "20/20 [==============================] - 2s 87ms/step - loss: 0.6231 - accuracy: 0.9655 - val_loss: 10.5098 - val_accuracy: 0.6372\n",
      "Epoch 89/150\n",
      "20/20 [==============================] - 2s 87ms/step - loss: 0.4851 - accuracy: 0.9796 - val_loss: 12.5904 - val_accuracy: 0.6991\n",
      "Epoch 90/150\n",
      "20/20 [==============================] - 2s 87ms/step - loss: 0.0791 - accuracy: 0.9859 - val_loss: 10.8166 - val_accuracy: 0.6991\n",
      "Epoch 91/150\n",
      "20/20 [==============================] - 2s 88ms/step - loss: 0.0714 - accuracy: 0.9890 - val_loss: 11.5468 - val_accuracy: 0.6549\n",
      "Epoch 92/150\n",
      "20/20 [==============================] - 2s 87ms/step - loss: 0.1750 - accuracy: 0.9843 - val_loss: 12.5957 - val_accuracy: 0.6991\n",
      "Epoch 93/150\n",
      "20/20 [==============================] - 2s 88ms/step - loss: 0.0175 - accuracy: 0.9969 - val_loss: 12.3516 - val_accuracy: 0.6726\n",
      "Epoch 94/150\n",
      "20/20 [==============================] - 2s 87ms/step - loss: 0.0042 - accuracy: 0.9969 - val_loss: 12.1441 - val_accuracy: 0.6903\n",
      "Epoch 95/150\n",
      "20/20 [==============================] - 2s 87ms/step - loss: 0.0064 - accuracy: 0.9969 - val_loss: 11.8478 - val_accuracy: 0.6814\n",
      "Epoch 96/150\n",
      "20/20 [==============================] - 2s 87ms/step - loss: 0.0215 - accuracy: 0.9984 - val_loss: 11.5021 - val_accuracy: 0.6903\n",
      "Epoch 97/150\n",
      "20/20 [==============================] - 2s 87ms/step - loss: 0.0096 - accuracy: 0.9969 - val_loss: 11.9761 - val_accuracy: 0.6726\n",
      "Epoch 98/150\n",
      "20/20 [==============================] - 2s 88ms/step - loss: 0.0118 - accuracy: 0.9969 - val_loss: 14.8644 - val_accuracy: 0.6460\n",
      "Epoch 99/150\n",
      "20/20 [==============================] - 2s 87ms/step - loss: 0.0334 - accuracy: 0.9984 - val_loss: 12.6683 - val_accuracy: 0.6637\n",
      "Epoch 100/150\n",
      "20/20 [==============================] - 2s 87ms/step - loss: 0.3262 - accuracy: 0.9874 - val_loss: 14.7708 - val_accuracy: 0.6903\n",
      "Epoch 101/150\n",
      "20/20 [==============================] - 2s 87ms/step - loss: 0.3073 - accuracy: 0.9796 - val_loss: 25.4719 - val_accuracy: 0.5398\n",
      "Epoch 102/150\n",
      "20/20 [==============================] - 2s 87ms/step - loss: 0.1877 - accuracy: 0.9859 - val_loss: 16.5244 - val_accuracy: 0.6726\n",
      "Epoch 103/150\n",
      "20/20 [==============================] - 2s 87ms/step - loss: 0.2875 - accuracy: 0.9874 - val_loss: 14.8486 - val_accuracy: 0.6903\n",
      "Epoch 104/150\n",
      "20/20 [==============================] - 2s 87ms/step - loss: 0.0686 - accuracy: 0.9937 - val_loss: 14.1241 - val_accuracy: 0.6637\n",
      "Epoch 105/150\n",
      "20/20 [==============================] - 2s 88ms/step - loss: 0.0879 - accuracy: 0.9953 - val_loss: 15.9334 - val_accuracy: 0.6637\n",
      "Epoch 106/150\n",
      "20/20 [==============================] - 2s 87ms/step - loss: 0.0784 - accuracy: 0.9937 - val_loss: 13.6390 - val_accuracy: 0.6903\n",
      "Epoch 107/150\n",
      "20/20 [==============================] - 2s 87ms/step - loss: 0.1590 - accuracy: 0.9874 - val_loss: 15.9527 - val_accuracy: 0.6106\n",
      "Epoch 108/150\n",
      "20/20 [==============================] - 2s 87ms/step - loss: 0.2742 - accuracy: 0.9859 - val_loss: 23.8256 - val_accuracy: 0.6903\n",
      "Epoch 109/150\n",
      "20/20 [==============================] - 2s 87ms/step - loss: 0.1927 - accuracy: 0.9953 - val_loss: 16.9616 - val_accuracy: 0.6814\n",
      "Epoch 110/150\n",
      "20/20 [==============================] - 2s 87ms/step - loss: 0.0200 - accuracy: 0.9969 - val_loss: 15.0494 - val_accuracy: 0.6903\n",
      "Epoch 111/150\n",
      "20/20 [==============================] - 2s 88ms/step - loss: 0.1119 - accuracy: 0.9937 - val_loss: 21.4573 - val_accuracy: 0.6018\n",
      "Epoch 112/150\n",
      "20/20 [==============================] - 2s 88ms/step - loss: 0.1364 - accuracy: 0.9953 - val_loss: 24.2273 - val_accuracy: 0.6283\n",
      "Epoch 113/150\n",
      "20/20 [==============================] - 2s 88ms/step - loss: 0.1917 - accuracy: 0.9874 - val_loss: 38.2009 - val_accuracy: 0.6106\n",
      "Epoch 114/150\n",
      "20/20 [==============================] - 2s 88ms/step - loss: 0.2456 - accuracy: 0.9874 - val_loss: 15.4263 - val_accuracy: 0.6018\n"
     ]
    },
    {
     "name": "stdout",
     "output_type": "stream",
     "text": [
      "Epoch 115/150\n",
      "20/20 [==============================] - 2s 88ms/step - loss: 0.2238 - accuracy: 0.9796 - val_loss: 20.8901 - val_accuracy: 0.5575\n",
      "Epoch 116/150\n",
      "20/20 [==============================] - 2s 87ms/step - loss: 0.1194 - accuracy: 0.9937 - val_loss: 17.8421 - val_accuracy: 0.6372\n",
      "Epoch 117/150\n",
      "20/20 [==============================] - 2s 88ms/step - loss: 0.0550 - accuracy: 0.9922 - val_loss: 17.6963 - val_accuracy: 0.5929\n",
      "Epoch 118/150\n",
      "20/20 [==============================] - 2s 87ms/step - loss: 0.3249 - accuracy: 0.9906 - val_loss: 24.8756 - val_accuracy: 0.6372\n",
      "Epoch 119/150\n",
      "20/20 [==============================] - 2s 87ms/step - loss: 0.8392 - accuracy: 0.9623 - val_loss: 27.3287 - val_accuracy: 0.6106\n",
      "Epoch 120/150\n",
      "20/20 [==============================] - 2s 88ms/step - loss: 0.8695 - accuracy: 0.9796 - val_loss: 21.9090 - val_accuracy: 0.5929\n",
      "Epoch 121/150\n",
      "20/20 [==============================] - 2s 88ms/step - loss: 0.8341 - accuracy: 0.9670 - val_loss: 21.4799 - val_accuracy: 0.6372\n",
      "Epoch 122/150\n",
      "20/20 [==============================] - 2s 88ms/step - loss: 0.3808 - accuracy: 0.9812 - val_loss: 38.1841 - val_accuracy: 0.6195\n",
      "Epoch 123/150\n",
      "20/20 [==============================] - 2s 87ms/step - loss: 0.5214 - accuracy: 0.9843 - val_loss: 79.3781 - val_accuracy: 0.5044\n",
      "Epoch 124/150\n",
      "20/20 [==============================] - 2s 87ms/step - loss: 0.5198 - accuracy: 0.9780 - val_loss: 41.0656 - val_accuracy: 0.6460\n",
      "Epoch 125/150\n",
      "20/20 [==============================] - 2s 87ms/step - loss: 0.4406 - accuracy: 0.9859 - val_loss: 28.5740 - val_accuracy: 0.6726\n",
      "Epoch 126/150\n",
      "20/20 [==============================] - 2s 87ms/step - loss: 0.2775 - accuracy: 0.9859 - val_loss: 28.3994 - val_accuracy: 0.6726\n",
      "Epoch 127/150\n",
      "20/20 [==============================] - 2s 90ms/step - loss: 0.0403 - accuracy: 0.9937 - val_loss: 26.4004 - val_accuracy: 0.6726\n",
      "Epoch 128/150\n",
      "20/20 [==============================] - 2s 88ms/step - loss: 0.2685 - accuracy: 0.9906 - val_loss: 31.9327 - val_accuracy: 0.6814\n",
      "Epoch 129/150\n",
      "20/20 [==============================] - 2s 88ms/step - loss: 2.1382 - accuracy: 0.9545 - val_loss: 16.9496 - val_accuracy: 0.5664\n",
      "Epoch 130/150\n",
      "20/20 [==============================] - 2s 88ms/step - loss: 1.8100 - accuracy: 0.9576 - val_loss: 17.7807 - val_accuracy: 0.5398\n",
      "Epoch 131/150\n",
      "20/20 [==============================] - 2s 91ms/step - loss: 0.8296 - accuracy: 0.9717 - val_loss: 51.4276 - val_accuracy: 0.3805\n",
      "Epoch 132/150\n",
      "20/20 [==============================] - 2s 92ms/step - loss: 0.5574 - accuracy: 0.9780 - val_loss: 13.3356 - val_accuracy: 0.6460\n",
      "Epoch 133/150\n",
      "20/20 [==============================] - 2s 88ms/step - loss: 0.4052 - accuracy: 0.9812 - val_loss: 24.7680 - val_accuracy: 0.6903\n",
      "Epoch 134/150\n",
      "20/20 [==============================] - 2s 88ms/step - loss: 0.2106 - accuracy: 0.9874 - val_loss: 28.2132 - val_accuracy: 0.6991\n",
      "Epoch 135/150\n",
      "20/20 [==============================] - 2s 88ms/step - loss: 0.1695 - accuracy: 0.9890 - val_loss: 27.7170 - val_accuracy: 0.7080\n",
      "Epoch 136/150\n",
      "20/20 [==============================] - 2s 88ms/step - loss: 0.1373 - accuracy: 0.9922 - val_loss: 32.1358 - val_accuracy: 0.6018\n",
      "Epoch 137/150\n",
      "20/20 [==============================] - 2s 88ms/step - loss: 0.2784 - accuracy: 0.9922 - val_loss: 25.2149 - val_accuracy: 0.7080\n",
      "Epoch 138/150\n",
      "20/20 [==============================] - 2s 88ms/step - loss: 0.1649 - accuracy: 0.9937 - val_loss: 31.1351 - val_accuracy: 0.7257\n",
      "Epoch 139/150\n",
      "20/20 [==============================] - 2s 88ms/step - loss: 0.1878 - accuracy: 0.9937 - val_loss: 52.4007 - val_accuracy: 0.6637\n",
      "Epoch 140/150\n",
      "20/20 [==============================] - 2s 88ms/step - loss: 0.1362 - accuracy: 0.9937 - val_loss: 23.7693 - val_accuracy: 0.6903\n",
      "Epoch 141/150\n",
      "20/20 [==============================] - 2s 88ms/step - loss: 0.0733 - accuracy: 0.9969 - val_loss: 25.4011 - val_accuracy: 0.6637\n",
      "Epoch 142/150\n",
      "20/20 [==============================] - 2s 88ms/step - loss: 0.0386 - accuracy: 0.9984 - val_loss: 25.2324 - val_accuracy: 0.6814\n",
      "Epoch 143/150\n",
      "20/20 [==============================] - 2s 88ms/step - loss: 0.2331 - accuracy: 0.9890 - val_loss: 24.1195 - val_accuracy: 0.7080\n",
      "Epoch 144/150\n",
      "20/20 [==============================] - 2s 88ms/step - loss: 0.1582 - accuracy: 0.9937 - val_loss: 38.6730 - val_accuracy: 0.6814\n",
      "Epoch 145/150\n",
      "20/20 [==============================] - 2s 89ms/step - loss: 0.5291 - accuracy: 0.9906 - val_loss: 40.1464 - val_accuracy: 0.6637\n",
      "Epoch 146/150\n",
      "20/20 [==============================] - 2s 88ms/step - loss: 0.3140 - accuracy: 0.9874 - val_loss: 25.0773 - val_accuracy: 0.6549\n",
      "Epoch 147/150\n",
      "20/20 [==============================] - 2s 87ms/step - loss: 0.2396 - accuracy: 0.9859 - val_loss: 32.7091 - val_accuracy: 0.6814\n",
      "Epoch 148/150\n",
      "20/20 [==============================] - 2s 87ms/step - loss: 0.1724 - accuracy: 0.9937 - val_loss: 35.4680 - val_accuracy: 0.6106\n",
      "Epoch 149/150\n",
      "20/20 [==============================] - 2s 88ms/step - loss: 0.4171 - accuracy: 0.9827 - val_loss: 101.3673 - val_accuracy: 0.5575\n",
      "Epoch 150/150\n",
      "20/20 [==============================] - 2s 87ms/step - loss: 1.9984 - accuracy: 0.9655 - val_loss: 91.8246 - val_accuracy: 0.5575\n"
     ]
    }
   ],
   "source": [
    "with tf.device('/GPU:0'):\n",
    "    history_alexnet = model_alexnet.fit(X_train_alex, y_train_alex, batch_size=32, epochs=150, validation_split=0.15, verbose=1)"
   ]
  },
  {
   "cell_type": "code",
   "execution_count": 14,
   "id": "9ce11489",
   "metadata": {},
   "outputs": [
    {
     "name": "stdout",
     "output_type": "stream",
     "text": [
      "8/8 [==============================] - 1s 168ms/step - loss: 6.7492 - accuracy: 0.4680\n",
      "test loss, test accuracy:  [6.749238014221191, 0.46799999475479126]\n"
     ]
    }
   ],
   "source": [
    "print('test loss, test accuracy: ', model_alexnet.evaluate(X_test_alex, y_test_alex))"
   ]
  },
  {
   "cell_type": "markdown",
   "id": "80b279b8",
   "metadata": {},
   "source": [
    "### AlexNet Training Visualisation"
   ]
  },
  {
   "cell_type": "code",
   "execution_count": 15,
   "id": "6213aa0c",
   "metadata": {},
   "outputs": [
    {
     "data": {
      "text/plain": [
       "<matplotlib.legend.Legend at 0x23c62d54a90>"
      ]
     },
     "execution_count": 15,
     "metadata": {},
     "output_type": "execute_result"
    },
    {
     "data": {
      "image/png": "[encoded data removed]",
      "text/plain": [
       "<Figure size 640x480 with 1 Axes>"
      ]
     },
     "metadata": {},
     "output_type": "display_data"
    }
   ],
   "source": [
    "sns.set_style(\"darkgrid\")\n",
    "\n",
    "#get the details form the history object which has the training results\n",
    "acc = history_alexnet.history['accuracy']\n",
    "val_acc = history_alexnet.history['val_accuracy']\n",
    "loss = history_alexnet.history['loss']\n",
    "val_loss = history_alexnet.history['val_loss']\n",
    "\n",
    "epochs = range(1, len(acc) + 1)\n",
    "\n",
    "#Train and validation accuracy\n",
    "plt.plot(epochs, acc, 'b', label='Training accurarcy')\n",
    "plt.plot(epochs, val_acc, 'r', label='Validation accurarcy')\n",
    "plt.xlabel('Epoch #')\n",
    "plt.ylabel('accuracy')\n",
    "plt.title('Training and Validation accurarcy')\n",
    "plt.legend()"
   ]
  },
  {
   "cell_type": "markdown",
   "id": "86f87b25",
   "metadata": {},
   "source": [
    "--- \n",
    "\n",
    "## Results:\n",
    "\n",
    "### - KNN: Accuracy = 37.2% (Best K value=15)\n",
    "### - LeNet 5: Accuracy = 65.2%; Loss = 1.76\n",
    "### - AlexNet: Accuracy = 46.8%; Loss = 6.74\n",
    "\n",
    "### It is clearly evident that performing feature extraction and feeding Orientation maps of the fingerprints has increase the accuracy of all the models.\n",
    "### KNN is an ML classifier so it would not perform well with images and we can see that by looking at the accuracy.\n",
    "### Both the convolutional networks overfit, an issue which could be resolved by feeding in more data*.\n",
    "### AlexNet and LeNet-5 are fairly older architectures and do not perform well with the fingerprint database as it was shown in [Fingerprint pattern identification and classification approach based on convolutional neural networks](https://link.springer.com/article/10.1007/s00521-019-04499-w)\n",
    "### We will try to improve our classifier by using more robust and complex pre-trained CNN architectures."
   ]
  },
  {
   "cell_type": "markdown",
   "id": "94120ae1",
   "metadata": {},
   "source": [
    "---"
   ]
  }
 ],
 "metadata": {
  "kernelspec": {
   "display_name": "Python 3 (ipykernel)",
   "language": "python",
   "name": "python3"
  },
  "language_info": {
   "codemirror_mode": {
    "name": "ipython",
    "version": 3
   },
   "file_extension": ".py",
   "mimetype": "text/x-python",
   "name": "python",
   "nbconvert_exporter": "python",
   "pygments_lexer": "ipython3",
   "version": "3.9.13"
  }
 },
 "nbformat": 4,
 "nbformat_minor": 5
}
